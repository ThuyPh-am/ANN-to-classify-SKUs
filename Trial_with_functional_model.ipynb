{
  "nbformat": 4,
  "nbformat_minor": 0,
  "metadata": {
    "colab": {
      "name": "Trial with functional model.ipynb",
      "provenance": [],
      "authorship_tag": "ABX9TyPOnCPkdS4pDERdXUUcdZHr"
    },
    "kernelspec": {
      "name": "python3",
      "display_name": "Python 3"
    },
    "language_info": {
      "name": "python"
    }
  },
  "cells": [
    {
      "cell_type": "code",
      "execution_count": null,
      "metadata": {
        "id": "N6Q15Y1iS2Qz"
      },
      "outputs": [],
      "source": [
        "import pandas as pd\n",
        "import numpy as np\n",
        "import matplotlib.pyplot as plt\n",
        "import tensorflow as tf\n",
        "from tensorflow.python.ops import*\n",
        "import sklearn "
      ]
    },
    {
      "cell_type": "code",
      "source": [
        "from google.colab import files\n",
        "\n",
        "uploaded = files.upload()\n",
        "col_names = ['SKU_number', 'PriceReg', 'ItemCount', 'File_Type',\n",
        "       'AddCost', 'RunCumCost', 'TotSum', 'RunPerc', 'Class', 'demand1',\n",
        "       'demand2', 'demand3', 'Rate1', 'Rate2',\n",
        "       'Rate3', 'Sum_rate', 'Final_rate',\n",
        "       'Com_Class', 'label']\n",
        "df = pd.read_csv(\"Xtrain.csv\", names= col_names, header = 0, dtype={'SKU_number':float, 'PriceReg': float, 'ItemCount': float, 'File_Type': str,\n",
        "       'AddCost': float, 'RunCumCost': float, 'TotSum':float, 'RunPerc':float, 'Class':str, 'demand1':float,\n",
        "       'demand2':float, 'demand3':float, 'Rate1': str, 'Rate2':str,\n",
        "       'Rate3': str, 'Sum_rate': str, 'Final_rate': str,\n",
        "       'Com_Class': str, 'label': str})\n",
        "df.head()"
      ],
      "metadata": {
        "colab": {
          "resources": {
            "http://localhost:8080/nbextensions/google.colab/files.js": {
              "data": "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",
              "ok": true,
              "headers": [
                [
                  "content-type",
                  "application/javascript"
                ]
              ],
              "status": 200,
              "status_text": ""
            }
          },
          "base_uri": "https://localhost:8080/",
          "height": 327
        },
        "id": "ocU4LFoHgK6_",
        "outputId": "5148d6e6-f8e4-43b6-9d69-e3e60016cb27"
      },
      "execution_count": null,
      "outputs": [
        {
          "output_type": "display_data",
          "data": {
            "text/plain": [
              "<IPython.core.display.HTML object>"
            ],
            "text/html": [
              "\n",
              "     <input type=\"file\" id=\"files-9223c2c2-9915-40cd-886b-f6c8445cbd36\" name=\"files[]\" multiple disabled\n",
              "        style=\"border:none\" />\n",
              "     <output id=\"result-9223c2c2-9915-40cd-886b-f6c8445cbd36\">\n",
              "      Upload widget is only available when the cell has been executed in the\n",
              "      current browser session. Please rerun this cell to enable.\n",
              "      </output>\n",
              "      <script src=\"/nbextensions/google.colab/files.js\"></script> "
            ]
          },
          "metadata": {}
        },
        {
          "output_type": "stream",
          "name": "stdout",
          "text": [
            "Saving Xtrain.csv to Xtrain (2).csv\n"
          ]
        },
        {
          "output_type": "execute_result",
          "data": {
            "text/plain": [
              "   SKU_number  PriceReg  ItemCount   File_Type   AddCost    RunCumCost  \\\n",
              "0    875120.0     23.97       17.0  Historical    407.49  3.422573e+08   \n",
              "1     58149.0    126.95       56.0  Historical   7109.20  1.819644e+08   \n",
              "2    169665.0    283.95       45.0  Historical  12777.75  1.115342e+08   \n",
              "3    893259.0     40.00       16.0  Historical    640.00  3.409839e+08   \n",
              "4    528405.0    130.67       45.0  Historical   5880.15  2.042275e+08   \n",
              "\n",
              "         TotSum   RunPerc Class  demand1  demand2  demand3 Rate1 Rate2 Rate3  \\\n",
              "0  3.426319e+08  0.998907     C   7057.0   1060.0   9685.0     M     R     F   \n",
              "1  3.426319e+08  0.531078     A  12944.0   5853.0   9984.0    FF     M     F   \n",
              "2  3.426319e+08  0.325522     A  14649.0  13681.0   1029.0    FF    FF     R   \n",
              "3  3.426319e+08  0.995190     C   3172.0  13338.0  12836.0     R    FF    FF   \n",
              "4  3.426319e+08  0.596055     A   7198.0   8855.0   4876.0     M     F     M   \n",
              "\n",
              "  Sum_rate Final_rate   Com_Class label  \n",
              "0      MRF   Seasonal  C/Seasonal    14  \n",
              "1     FFMF          F         A/F     3  \n",
              "2    FFFFR   Seasonal  A/Seasonal    12  \n",
              "3    RFFFF   Seasonal  C/Seasonal    14  \n",
              "4      MFM          M         A/M     6  "
            ],
            "text/html": [
              "\n",
              "  <div id=\"df-47d94e53-7cf4-4aab-be45-a8a15279c8b6\">\n",
              "    <div class=\"colab-df-container\">\n",
              "      <div>\n",
              "<style scoped>\n",
              "    .dataframe tbody tr th:only-of-type {\n",
              "        vertical-align: middle;\n",
              "    }\n",
              "\n",
              "    .dataframe tbody tr th {\n",
              "        vertical-align: top;\n",
              "    }\n",
              "\n",
              "    .dataframe thead th {\n",
              "        text-align: right;\n",
              "    }\n",
              "</style>\n",
              "<table border=\"1\" class=\"dataframe\">\n",
              "  <thead>\n",
              "    <tr style=\"text-align: right;\">\n",
              "      <th></th>\n",
              "      <th>SKU_number</th>\n",
              "      <th>PriceReg</th>\n",
              "      <th>ItemCount</th>\n",
              "      <th>File_Type</th>\n",
              "      <th>AddCost</th>\n",
              "      <th>RunCumCost</th>\n",
              "      <th>TotSum</th>\n",
              "      <th>RunPerc</th>\n",
              "      <th>Class</th>\n",
              "      <th>demand1</th>\n",
              "      <th>demand2</th>\n",
              "      <th>demand3</th>\n",
              "      <th>Rate1</th>\n",
              "      <th>Rate2</th>\n",
              "      <th>Rate3</th>\n",
              "      <th>Sum_rate</th>\n",
              "      <th>Final_rate</th>\n",
              "      <th>Com_Class</th>\n",
              "      <th>label</th>\n",
              "    </tr>\n",
              "  </thead>\n",
              "  <tbody>\n",
              "    <tr>\n",
              "      <th>0</th>\n",
              "      <td>875120.0</td>\n",
              "      <td>23.97</td>\n",
              "      <td>17.0</td>\n",
              "      <td>Historical</td>\n",
              "      <td>407.49</td>\n",
              "      <td>3.422573e+08</td>\n",
              "      <td>3.426319e+08</td>\n",
              "      <td>0.998907</td>\n",
              "      <td>C</td>\n",
              "      <td>7057.0</td>\n",
              "      <td>1060.0</td>\n",
              "      <td>9685.0</td>\n",
              "      <td>M</td>\n",
              "      <td>R</td>\n",
              "      <td>F</td>\n",
              "      <td>MRF</td>\n",
              "      <td>Seasonal</td>\n",
              "      <td>C/Seasonal</td>\n",
              "      <td>14</td>\n",
              "    </tr>\n",
              "    <tr>\n",
              "      <th>1</th>\n",
              "      <td>58149.0</td>\n",
              "      <td>126.95</td>\n",
              "      <td>56.0</td>\n",
              "      <td>Historical</td>\n",
              "      <td>7109.20</td>\n",
              "      <td>1.819644e+08</td>\n",
              "      <td>3.426319e+08</td>\n",
              "      <td>0.531078</td>\n",
              "      <td>A</td>\n",
              "      <td>12944.0</td>\n",
              "      <td>5853.0</td>\n",
              "      <td>9984.0</td>\n",
              "      <td>FF</td>\n",
              "      <td>M</td>\n",
              "      <td>F</td>\n",
              "      <td>FFMF</td>\n",
              "      <td>F</td>\n",
              "      <td>A/F</td>\n",
              "      <td>3</td>\n",
              "    </tr>\n",
              "    <tr>\n",
              "      <th>2</th>\n",
              "      <td>169665.0</td>\n",
              "      <td>283.95</td>\n",
              "      <td>45.0</td>\n",
              "      <td>Historical</td>\n",
              "      <td>12777.75</td>\n",
              "      <td>1.115342e+08</td>\n",
              "      <td>3.426319e+08</td>\n",
              "      <td>0.325522</td>\n",
              "      <td>A</td>\n",
              "      <td>14649.0</td>\n",
              "      <td>13681.0</td>\n",
              "      <td>1029.0</td>\n",
              "      <td>FF</td>\n",
              "      <td>FF</td>\n",
              "      <td>R</td>\n",
              "      <td>FFFFR</td>\n",
              "      <td>Seasonal</td>\n",
              "      <td>A/Seasonal</td>\n",
              "      <td>12</td>\n",
              "    </tr>\n",
              "    <tr>\n",
              "      <th>3</th>\n",
              "      <td>893259.0</td>\n",
              "      <td>40.00</td>\n",
              "      <td>16.0</td>\n",
              "      <td>Historical</td>\n",
              "      <td>640.00</td>\n",
              "      <td>3.409839e+08</td>\n",
              "      <td>3.426319e+08</td>\n",
              "      <td>0.995190</td>\n",
              "      <td>C</td>\n",
              "      <td>3172.0</td>\n",
              "      <td>13338.0</td>\n",
              "      <td>12836.0</td>\n",
              "      <td>R</td>\n",
              "      <td>FF</td>\n",
              "      <td>FF</td>\n",
              "      <td>RFFFF</td>\n",
              "      <td>Seasonal</td>\n",
              "      <td>C/Seasonal</td>\n",
              "      <td>14</td>\n",
              "    </tr>\n",
              "    <tr>\n",
              "      <th>4</th>\n",
              "      <td>528405.0</td>\n",
              "      <td>130.67</td>\n",
              "      <td>45.0</td>\n",
              "      <td>Historical</td>\n",
              "      <td>5880.15</td>\n",
              "      <td>2.042275e+08</td>\n",
              "      <td>3.426319e+08</td>\n",
              "      <td>0.596055</td>\n",
              "      <td>A</td>\n",
              "      <td>7198.0</td>\n",
              "      <td>8855.0</td>\n",
              "      <td>4876.0</td>\n",
              "      <td>M</td>\n",
              "      <td>F</td>\n",
              "      <td>M</td>\n",
              "      <td>MFM</td>\n",
              "      <td>M</td>\n",
              "      <td>A/M</td>\n",
              "      <td>6</td>\n",
              "    </tr>\n",
              "  </tbody>\n",
              "</table>\n",
              "</div>\n",
              "      <button class=\"colab-df-convert\" onclick=\"convertToInteractive('df-47d94e53-7cf4-4aab-be45-a8a15279c8b6')\"\n",
              "              title=\"Convert this dataframe to an interactive table.\"\n",
              "              style=\"display:none;\">\n",
              "        \n",
              "  <svg xmlns=\"http://www.w3.org/2000/svg\" height=\"24px\"viewBox=\"0 0 24 24\"\n",
              "       width=\"24px\">\n",
              "    <path d=\"M0 0h24v24H0V0z\" fill=\"none\"/>\n",
              "    <path d=\"M18.56 5.44l.94 2.06.94-2.06 2.06-.94-2.06-.94-.94-2.06-.94 2.06-2.06.94zm-11 1L8.5 8.5l.94-2.06 2.06-.94-2.06-.94L8.5 2.5l-.94 2.06-2.06.94zm10 10l.94 2.06.94-2.06 2.06-.94-2.06-.94-.94-2.06-.94 2.06-2.06.94z\"/><path d=\"M17.41 7.96l-1.37-1.37c-.4-.4-.92-.59-1.43-.59-.52 0-1.04.2-1.43.59L10.3 9.45l-7.72 7.72c-.78.78-.78 2.05 0 2.83L4 21.41c.39.39.9.59 1.41.59.51 0 1.02-.2 1.41-.59l7.78-7.78 2.81-2.81c.8-.78.8-2.07 0-2.86zM5.41 20L4 18.59l7.72-7.72 1.47 1.35L5.41 20z\"/>\n",
              "  </svg>\n",
              "      </button>\n",
              "      \n",
              "  <style>\n",
              "    .colab-df-container {\n",
              "      display:flex;\n",
              "      flex-wrap:wrap;\n",
              "      gap: 12px;\n",
              "    }\n",
              "\n",
              "    .colab-df-convert {\n",
              "      background-color: #E8F0FE;\n",
              "      border: none;\n",
              "      border-radius: 50%;\n",
              "      cursor: pointer;\n",
              "      display: none;\n",
              "      fill: #1967D2;\n",
              "      height: 32px;\n",
              "      padding: 0 0 0 0;\n",
              "      width: 32px;\n",
              "    }\n",
              "\n",
              "    .colab-df-convert:hover {\n",
              "      background-color: #E2EBFA;\n",
              "      box-shadow: 0px 1px 2px rgba(60, 64, 67, 0.3), 0px 1px 3px 1px rgba(60, 64, 67, 0.15);\n",
              "      fill: #174EA6;\n",
              "    }\n",
              "\n",
              "    [theme=dark] .colab-df-convert {\n",
              "      background-color: #3B4455;\n",
              "      fill: #D2E3FC;\n",
              "    }\n",
              "\n",
              "    [theme=dark] .colab-df-convert:hover {\n",
              "      background-color: #434B5C;\n",
              "      box-shadow: 0px 1px 3px 1px rgba(0, 0, 0, 0.15);\n",
              "      filter: drop-shadow(0px 1px 2px rgba(0, 0, 0, 0.3));\n",
              "      fill: #FFFFFF;\n",
              "    }\n",
              "  </style>\n",
              "\n",
              "      <script>\n",
              "        const buttonEl =\n",
              "          document.querySelector('#df-47d94e53-7cf4-4aab-be45-a8a15279c8b6 button.colab-df-convert');\n",
              "        buttonEl.style.display =\n",
              "          google.colab.kernel.accessAllowed ? 'block' : 'none';\n",
              "\n",
              "        async function convertToInteractive(key) {\n",
              "          const element = document.querySelector('#df-47d94e53-7cf4-4aab-be45-a8a15279c8b6');\n",
              "          const dataTable =\n",
              "            await google.colab.kernel.invokeFunction('convertToInteractive',\n",
              "                                                     [key], {});\n",
              "          if (!dataTable) return;\n",
              "\n",
              "          const docLinkHtml = 'Like what you see? Visit the ' +\n",
              "            '<a target=\"_blank\" href=https://colab.research.google.com/notebooks/data_table.ipynb>data table notebook</a>'\n",
              "            + ' to learn more about interactive tables.';\n",
              "          element.innerHTML = '';\n",
              "          dataTable['output_type'] = 'display_data';\n",
              "          await google.colab.output.renderOutput(dataTable, element);\n",
              "          const docLink = document.createElement('div');\n",
              "          docLink.innerHTML = docLinkHtml;\n",
              "          element.appendChild(docLink);\n",
              "        }\n",
              "      </script>\n",
              "    </div>\n",
              "  </div>\n",
              "  "
            ]
          },
          "metadata": {},
          "execution_count": 2
        }
      ]
    },
    {
      "cell_type": "code",
      "source": [
        "uploaded = files.upload()\n",
        "test_df = pd.read_csv(\"Xtest.csv\", names= col_names, header = 0, dtype={'SKU_number':float, 'PriceReg': float, 'ItemCount': float, 'File_Type': str,\n",
        "       'AddCost': float, 'RunCumCost': float, 'TotSum':float, 'RunPerc':float, 'Class':str, 'demand1':float,\n",
        "       'demand2':float, 'demand3':float, 'Rate1': str, 'Rate2':str,\n",
        "       'Rate3': str, 'Sum_rate': str, 'Final_rate': str,\n",
        "       'Com_Class': str, 'label': str})"
      ],
      "metadata": {
        "colab": {
          "resources": {
            "http://localhost:8080/nbextensions/google.colab/files.js": {
              "data": "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",
              "ok": true,
              "headers": [
                [
                  "content-type",
                  "application/javascript"
                ]
              ],
              "status": 200,
              "status_text": ""
            }
          },
          "base_uri": "https://localhost:8080/",
          "height": 74
        },
        "id": "Vd_54m3qgRrV",
        "outputId": "a9c5c54e-64d1-46c4-acb5-be46ec783d55"
      },
      "execution_count": null,
      "outputs": [
        {
          "output_type": "display_data",
          "data": {
            "text/plain": [
              "<IPython.core.display.HTML object>"
            ],
            "text/html": [
              "\n",
              "     <input type=\"file\" id=\"files-bce7b3cb-68a6-4473-b42b-b707c052a81d\" name=\"files[]\" multiple disabled\n",
              "        style=\"border:none\" />\n",
              "     <output id=\"result-bce7b3cb-68a6-4473-b42b-b707c052a81d\">\n",
              "      Upload widget is only available when the cell has been executed in the\n",
              "      current browser session. Please rerun this cell to enable.\n",
              "      </output>\n",
              "      <script src=\"/nbextensions/google.colab/files.js\"></script> "
            ]
          },
          "metadata": {}
        },
        {
          "output_type": "stream",
          "name": "stdout",
          "text": [
            "Saving Xtest.csv to Xtest (2).csv\n"
          ]
        }
      ]
    },
    {
      "cell_type": "code",
      "source": [
        "train_df = df.drop(columns= ['SKU_number','File_Type',\n",
        "       'AddCost', 'RunCumCost', 'TotSum', 'RunPerc','Rate1', 'Rate2',\n",
        "       'Rate3', 'Sum_rate', 'Final_rate',\n",
        "       'Com_Class', 'Class'])"
      ],
      "metadata": {
        "id": "puwvovINggO2"
      },
      "execution_count": null,
      "outputs": []
    },
    {
      "cell_type": "code",
      "source": [
        "test_df = test_df.drop(columns=['SKU_number','File_Type',\n",
        "       'AddCost', 'RunCumCost', 'TotSum', 'RunPerc','Rate1', 'Rate2',\n",
        "       'Rate3', 'Sum_rate', 'Final_rate',\n",
        "       'Com_Class', 'Class'])"
      ],
      "metadata": {
        "id": "SdPtx9CdghFq"
      },
      "execution_count": null,
      "outputs": []
    },
    {
      "cell_type": "code",
      "source": [
        "train_df.hist(bins= 50, figsize = (20,15))\n",
        "plt.show()"
      ],
      "metadata": {
        "colab": {
          "base_uri": "https://localhost:8080/",
          "height": 879
        },
        "id": "2BbXWNoIgXI9",
        "outputId": "65d1a396-a337-4249-ea5b-4a6544301590"
      },
      "execution_count": null,
      "outputs": [
        {
          "output_type": "display_data",
          "data": {
            "text/plain": [
              "<Figure size 1440x1080 with 6 Axes>"
            ],
            "image/png": "[encoded data removed]"
          },
          "metadata": {
            "needs_background": "light"
          }
        }
      ]
    },
    {
      "cell_type": "code",
      "source": [
        "train_df.describe()"
      ],
      "metadata": {
        "colab": {
          "base_uri": "https://localhost:8080/",
          "height": 300
        },
        "id": "7X4mYMEygtt0",
        "outputId": "2d047bfa-940c-48d9-ab27-71f1f4adfbb2"
      },
      "execution_count": null,
      "outputs": [
        {
          "output_type": "execute_result",
          "data": {
            "text/plain": [
              "           PriceReg     ItemCount       demand1       demand2       demand3\n",
              "count  59615.000000  59615.000000  59615.000000  59615.000000  59615.000000\n",
              "mean     100.557152     44.189784   7493.935385   7516.864296   7487.601560\n",
              "std       79.114476     36.815083   4320.051000   4318.334016   4328.961666\n",
              "min        1.000000      1.000000      0.000000      0.000000      0.000000\n",
              "25%       49.990000     22.000000   3754.500000   3792.000000   3744.000000\n",
              "50%       79.950000     34.000000   7506.000000   7501.000000   7494.000000\n",
              "75%      129.000000     54.000000  11227.500000  11251.000000  11199.000000\n",
              "max     3986.310000   1523.000000  14999.000000  14999.000000  14999.000000"
            ],
            "text/html": [
              "\n",
              "  <div id=\"df-8b7b8d0c-00cd-450e-b2fc-2b589518dedd\">\n",
              "    <div class=\"colab-df-container\">\n",
              "      <div>\n",
              "<style scoped>\n",
              "    .dataframe tbody tr th:only-of-type {\n",
              "        vertical-align: middle;\n",
              "    }\n",
              "\n",
              "    .dataframe tbody tr th {\n",
              "        vertical-align: top;\n",
              "    }\n",
              "\n",
              "    .dataframe thead th {\n",
              "        text-align: right;\n",
              "    }\n",
              "</style>\n",
              "<table border=\"1\" class=\"dataframe\">\n",
              "  <thead>\n",
              "    <tr style=\"text-align: right;\">\n",
              "      <th></th>\n",
              "      <th>PriceReg</th>\n",
              "      <th>ItemCount</th>\n",
              "      <th>demand1</th>\n",
              "      <th>demand2</th>\n",
              "      <th>demand3</th>\n",
              "    </tr>\n",
              "  </thead>\n",
              "  <tbody>\n",
              "    <tr>\n",
              "      <th>count</th>\n",
              "      <td>59615.000000</td>\n",
              "      <td>59615.000000</td>\n",
              "      <td>59615.000000</td>\n",
              "      <td>59615.000000</td>\n",
              "      <td>59615.000000</td>\n",
              "    </tr>\n",
              "    <tr>\n",
              "      <th>mean</th>\n",
              "      <td>100.557152</td>\n",
              "      <td>44.189784</td>\n",
              "      <td>7493.935385</td>\n",
              "      <td>7516.864296</td>\n",
              "      <td>7487.601560</td>\n",
              "    </tr>\n",
              "    <tr>\n",
              "      <th>std</th>\n",
              "      <td>79.114476</td>\n",
              "      <td>36.815083</td>\n",
              "      <td>4320.051000</td>\n",
              "      <td>4318.334016</td>\n",
              "      <td>4328.961666</td>\n",
              "    </tr>\n",
              "    <tr>\n",
              "      <th>min</th>\n",
              "      <td>1.000000</td>\n",
              "      <td>1.000000</td>\n",
              "      <td>0.000000</td>\n",
              "      <td>0.000000</td>\n",
              "      <td>0.000000</td>\n",
              "    </tr>\n",
              "    <tr>\n",
              "      <th>25%</th>\n",
              "      <td>49.990000</td>\n",
              "      <td>22.000000</td>\n",
              "      <td>3754.500000</td>\n",
              "      <td>3792.000000</td>\n",
              "      <td>3744.000000</td>\n",
              "    </tr>\n",
              "    <tr>\n",
              "      <th>50%</th>\n",
              "      <td>79.950000</td>\n",
              "      <td>34.000000</td>\n",
              "      <td>7506.000000</td>\n",
              "      <td>7501.000000</td>\n",
              "      <td>7494.000000</td>\n",
              "    </tr>\n",
              "    <tr>\n",
              "      <th>75%</th>\n",
              "      <td>129.000000</td>\n",
              "      <td>54.000000</td>\n",
              "      <td>11227.500000</td>\n",
              "      <td>11251.000000</td>\n",
              "      <td>11199.000000</td>\n",
              "    </tr>\n",
              "    <tr>\n",
              "      <th>max</th>\n",
              "      <td>3986.310000</td>\n",
              "      <td>1523.000000</td>\n",
              "      <td>14999.000000</td>\n",
              "      <td>14999.000000</td>\n",
              "      <td>14999.000000</td>\n",
              "    </tr>\n",
              "  </tbody>\n",
              "</table>\n",
              "</div>\n",
              "      <button class=\"colab-df-convert\" onclick=\"convertToInteractive('df-8b7b8d0c-00cd-450e-b2fc-2b589518dedd')\"\n",
              "              title=\"Convert this dataframe to an interactive table.\"\n",
              "              style=\"display:none;\">\n",
              "        \n",
              "  <svg xmlns=\"http://www.w3.org/2000/svg\" height=\"24px\"viewBox=\"0 0 24 24\"\n",
              "       width=\"24px\">\n",
              "    <path d=\"M0 0h24v24H0V0z\" fill=\"none\"/>\n",
              "    <path d=\"M18.56 5.44l.94 2.06.94-2.06 2.06-.94-2.06-.94-.94-2.06-.94 2.06-2.06.94zm-11 1L8.5 8.5l.94-2.06 2.06-.94-2.06-.94L8.5 2.5l-.94 2.06-2.06.94zm10 10l.94 2.06.94-2.06 2.06-.94-2.06-.94-.94-2.06-.94 2.06-2.06.94z\"/><path d=\"M17.41 7.96l-1.37-1.37c-.4-.4-.92-.59-1.43-.59-.52 0-1.04.2-1.43.59L10.3 9.45l-7.72 7.72c-.78.78-.78 2.05 0 2.83L4 21.41c.39.39.9.59 1.41.59.51 0 1.02-.2 1.41-.59l7.78-7.78 2.81-2.81c.8-.78.8-2.07 0-2.86zM5.41 20L4 18.59l7.72-7.72 1.47 1.35L5.41 20z\"/>\n",
              "  </svg>\n",
              "      </button>\n",
              "      \n",
              "  <style>\n",
              "    .colab-df-container {\n",
              "      display:flex;\n",
              "      flex-wrap:wrap;\n",
              "      gap: 12px;\n",
              "    }\n",
              "\n",
              "    .colab-df-convert {\n",
              "      background-color: #E8F0FE;\n",
              "      border: none;\n",
              "      border-radius: 50%;\n",
              "      cursor: pointer;\n",
              "      display: none;\n",
              "      fill: #1967D2;\n",
              "      height: 32px;\n",
              "      padding: 0 0 0 0;\n",
              "      width: 32px;\n",
              "    }\n",
              "\n",
              "    .colab-df-convert:hover {\n",
              "      background-color: #E2EBFA;\n",
              "      box-shadow: 0px 1px 2px rgba(60, 64, 67, 0.3), 0px 1px 3px 1px rgba(60, 64, 67, 0.15);\n",
              "      fill: #174EA6;\n",
              "    }\n",
              "\n",
              "    [theme=dark] .colab-df-convert {\n",
              "      background-color: #3B4455;\n",
              "      fill: #D2E3FC;\n",
              "    }\n",
              "\n",
              "    [theme=dark] .colab-df-convert:hover {\n",
              "      background-color: #434B5C;\n",
              "      box-shadow: 0px 1px 3px 1px rgba(0, 0, 0, 0.15);\n",
              "      filter: drop-shadow(0px 1px 2px rgba(0, 0, 0, 0.3));\n",
              "      fill: #FFFFFF;\n",
              "    }\n",
              "  </style>\n",
              "\n",
              "      <script>\n",
              "        const buttonEl =\n",
              "          document.querySelector('#df-8b7b8d0c-00cd-450e-b2fc-2b589518dedd button.colab-df-convert');\n",
              "        buttonEl.style.display =\n",
              "          google.colab.kernel.accessAllowed ? 'block' : 'none';\n",
              "\n",
              "        async function convertToInteractive(key) {\n",
              "          const element = document.querySelector('#df-8b7b8d0c-00cd-450e-b2fc-2b589518dedd');\n",
              "          const dataTable =\n",
              "            await google.colab.kernel.invokeFunction('convertToInteractive',\n",
              "                                                     [key], {});\n",
              "          if (!dataTable) return;\n",
              "\n",
              "          const docLinkHtml = 'Like what you see? Visit the ' +\n",
              "            '<a target=\"_blank\" href=https://colab.research.google.com/notebooks/data_table.ipynb>data table notebook</a>'\n",
              "            + ' to learn more about interactive tables.';\n",
              "          element.innerHTML = '';\n",
              "          dataTable['output_type'] = 'display_data';\n",
              "          await google.colab.output.renderOutput(dataTable, element);\n",
              "          const docLink = document.createElement('div');\n",
              "          docLink.innerHTML = docLinkHtml;\n",
              "          element.appendChild(docLink);\n",
              "        }\n",
              "      </script>\n",
              "    </div>\n",
              "  </div>\n",
              "  "
            ]
          },
          "metadata": {},
          "execution_count": 7
        }
      ]
    },
    {
      "cell_type": "code",
      "source": [
        "categories = train_df.label.unique()\n",
        "print('Number of categories: ', categories)\n",
        "print()\n",
        "train_df.label.value_counts().plot(kind='bar', title='Categories vs Number of SKUs', cmap='plasma')"
      ],
      "metadata": {
        "colab": {
          "base_uri": "https://localhost:8080/",
          "height": 336
        },
        "id": "M3egJSTdgwyA",
        "outputId": "8d3c88a7-51a3-4e0f-96d0-31f55494a80a"
      },
      "execution_count": null,
      "outputs": [
        {
          "output_type": "stream",
          "name": "stdout",
          "text": [
            "Number of categories:  ['14' '3' '12' '6' '2' '5' '0' '11' '4' '10' '13' '9' '8' '1' '7']\n",
            "\n"
          ]
        },
        {
          "output_type": "execute_result",
          "data": {
            "text/plain": [
              "<matplotlib.axes._subplots.AxesSubplot at 0x7f66ad7436d0>"
            ]
          },
          "metadata": {},
          "execution_count": 8
        },
        {
          "output_type": "display_data",
          "data": {
            "text/plain": [
              "<Figure size 432x288 with 1 Axes>"
            ],
            "image/png": "[encoded data removed]"
          },
          "metadata": {
            "needs_background": "light"
          }
        }
      ]
    },
    {
      "cell_type": "code",
      "source": [
        "test_df.hist(bins= 50, figsize = (20,15))\n",
        "plt.show()"
      ],
      "metadata": {
        "colab": {
          "base_uri": "https://localhost:8080/",
          "height": 879
        },
        "id": "2yPVpNwlg7s6",
        "outputId": "2adb8704-03b9-4f67-ee07-3ee71765ab20"
      },
      "execution_count": null,
      "outputs": [
        {
          "output_type": "display_data",
          "data": {
            "text/plain": [
              "<Figure size 1440x1080 with 6 Axes>"
            ],
            "image/png": "[encoded data removed]"
          },
          "metadata": {
            "needs_background": "light"
          }
        }
      ]
    },
    {
      "cell_type": "code",
      "source": [
        "categories = test_df.label.unique()\n",
        "print('Number of categories: ', categories)\n",
        "print()\n",
        "test_df.label.value_counts().plot(kind='bar', title='Categories vs Number of SKUs', cmap='plasma')"
      ],
      "metadata": {
        "colab": {
          "base_uri": "https://localhost:8080/",
          "height": 336
        },
        "id": "GJK5TxdWhA_m",
        "outputId": "3fa64d9e-5076-45cc-f85e-5eb06ec297f5"
      },
      "execution_count": null,
      "outputs": [
        {
          "output_type": "stream",
          "name": "stdout",
          "text": [
            "Number of categories:  ['10' '8' '5' '13' '3' '6' '4' '12' '2' '14' '1' '11' '7' '9' '0']\n",
            "\n"
          ]
        },
        {
          "output_type": "execute_result",
          "data": {
            "text/plain": [
              "<matplotlib.axes._subplots.AxesSubplot at 0x7f66add39c10>"
            ]
          },
          "metadata": {},
          "execution_count": 10
        },
        {
          "output_type": "display_data",
          "data": {
            "text/plain": [
              "<Figure size 432x288 with 1 Axes>"
            ],
            "image/png": "[encoded data removed]"
          },
          "metadata": {
            "needs_background": "light"
          }
        }
      ]
    },
    {
      "cell_type": "code",
      "source": [
        "from sklearn.model_selection import train_test_split\n",
        "train_df, val_df = train_test_split(train_df, test_size= 0.2, random_state = 42)"
      ],
      "metadata": {
        "id": "mbYBdiPohIIM"
      },
      "execution_count": null,
      "outputs": []
    },
    {
      "cell_type": "code",
      "source": [
        "train_labels = np.array(train_df.pop('label'))\n",
        "val_labels = np.array(val_df.pop('label'))\n",
        "test_labels = np.array(test_df.pop('label'))\n",
        "\n",
        "train_features = np.array(train_df)\n",
        "val_features = np.array(val_df)\n",
        "test_features = np.array(test_df)"
      ],
      "metadata": {
        "id": "hDjwZ95iiAVV"
      },
      "execution_count": null,
      "outputs": []
    },
    {
      "cell_type": "code",
      "source": [
        "train_features[0:3]"
      ],
      "metadata": {
        "colab": {
          "base_uri": "https://localhost:8080/"
        },
        "id": "f9WY5za4iION",
        "outputId": "42ddc3bf-ac15-469f-8a0f-152086c51df8"
      },
      "execution_count": null,
      "outputs": [
        {
          "output_type": "execute_result",
          "data": {
            "text/plain": [
              "array([[   59.99,    28.  , 10169.  ,  3551.  , 12247.  ],\n",
              "       [   48.54,    67.  , 14124.  , 11579.  ,  2755.  ],\n",
              "       [  186.95,    68.  ,  8333.  ,  7182.  ,  7580.  ]])"
            ]
          },
          "metadata": {},
          "execution_count": 13
        }
      ]
    },
    {
      "cell_type": "code",
      "source": [
        "train_labels[0:3]"
      ],
      "metadata": {
        "colab": {
          "base_uri": "https://localhost:8080/"
        },
        "id": "jEPt1fDKiMlT",
        "outputId": "1503e3d8-c373-431f-c1da-2e6c3754a51c"
      },
      "execution_count": null,
      "outputs": [
        {
          "output_type": "execute_result",
          "data": {
            "text/plain": [
              "array(['14', '13', '3'], dtype=object)"
            ]
          },
          "metadata": {},
          "execution_count": 14
        }
      ]
    },
    {
      "cell_type": "code",
      "source": [
        "from keras.utils.np_utils import to_categorical\n",
        "\n",
        "one_hot_train_labels = to_categorical(train_labels)\n",
        "one_hot_val_labels = to_categorical(val_labels)\n",
        "one_hot_test_labels = to_categorical(test_labels)"
      ],
      "metadata": {
        "id": "2r6yYOu6hYi4"
      },
      "execution_count": null,
      "outputs": []
    },
    {
      "cell_type": "code",
      "source": [
        "preprocessing_layer = tf.keras.layers.Normalization(axis = None)"
      ],
      "metadata": {
        "id": "27889a4Yib_b"
      },
      "execution_count": null,
      "outputs": []
    },
    {
      "cell_type": "code",
      "source": [
        "preprocessing_layer.adapt(train_features)"
      ],
      "metadata": {
        "id": "Go7fjlEojCUU"
      },
      "execution_count": null,
      "outputs": []
    },
    {
      "cell_type": "code",
      "source": [
        "inputs = tf.keras.Input(shape=(5))\n",
        "x = preprocessing_layer(inputs)"
      ],
      "metadata": {
        "id": "2VYv1wzJlDhx"
      },
      "execution_count": null,
      "outputs": []
    },
    {
      "cell_type": "code",
      "source": [
        "x[0:5]"
      ],
      "metadata": {
        "colab": {
          "base_uri": "https://localhost:8080/"
        },
        "id": "DAXePL1Ov_m0",
        "outputId": "ea0b618f-1879-45f4-e00a-952dff7c7c58"
      },
      "execution_count": null,
      "outputs": [
        {
          "output_type": "execute_result",
          "data": {
            "text/plain": [
              "<KerasTensor: shape=(None, 2) dtype=float32 (created by layer 'tf.__operators__.getitem')>"
            ]
          },
          "metadata": {},
          "execution_count": 28
        }
      ]
    },
    {
      "cell_type": "code",
      "source": [
        "inputs.shape"
      ],
      "metadata": {
        "colab": {
          "base_uri": "https://localhost:8080/"
        },
        "id": "2waXBb1am3Jm",
        "outputId": "df7ddca0-b140-4370-c6e0-50fb1f6576fa"
      },
      "execution_count": null,
      "outputs": [
        {
          "output_type": "execute_result",
          "data": {
            "text/plain": [
              "TensorShape([None, 5])"
            ]
          },
          "metadata": {},
          "execution_count": 19
        }
      ]
    },
    {
      "cell_type": "code",
      "source": [
        "inputs.dtype"
      ],
      "metadata": {
        "colab": {
          "base_uri": "https://localhost:8080/"
        },
        "id": "OWAlL3f1m-ue",
        "outputId": "efbe887c-73c6-4657-f802-9a567a76632c"
      },
      "execution_count": null,
      "outputs": [
        {
          "output_type": "execute_result",
          "data": {
            "text/plain": [
              "tf.float32"
            ]
          },
          "metadata": {},
          "execution_count": 20
        }
      ]
    },
    {
      "cell_type": "code",
      "source": [
        "# 1st layer\n",
        "dense = tf.keras.layers.Dense(5, activation = 'relu')\n",
        "x = dense(inputs)"
      ],
      "metadata": {
        "id": "GycnGWRLnBzv"
      },
      "execution_count": null,
      "outputs": []
    },
    {
      "cell_type": "code",
      "source": [
        "x = tf.keras.layers.Dense(2, activation = 'relu') (x)\n",
        "outputs = tf.keras.layers.Dense(15, activation = 'softmax') (x)\n"
      ],
      "metadata": {
        "id": "dhAI7fz3nYYM"
      },
      "execution_count": null,
      "outputs": []
    },
    {
      "cell_type": "code",
      "source": [
        "model1 = tf.keras.Model(inputs = inputs, outputs = outputs, name = 'model1')"
      ],
      "metadata": {
        "id": "1k_46H91oDrV"
      },
      "execution_count": null,
      "outputs": []
    },
    {
      "cell_type": "code",
      "source": [
        "model1.summary()"
      ],
      "metadata": {
        "colab": {
          "base_uri": "https://localhost:8080/"
        },
        "id": "FGMNgl_toXn0",
        "outputId": "1052c07c-b957-4e12-b1fe-4e04b8ddab7b"
      },
      "execution_count": null,
      "outputs": [
        {
          "output_type": "stream",
          "name": "stdout",
          "text": [
            "Model: \"model1\"\n",
            "_________________________________________________________________\n",
            " Layer (type)                Output Shape              Param #   \n",
            "=================================================================\n",
            " input_1 (InputLayer)        [(None, 5)]               0         \n",
            "                                                                 \n",
            " dense (Dense)               (None, 5)                 30        \n",
            "                                                                 \n",
            " dense_1 (Dense)             (None, 2)                 12        \n",
            "                                                                 \n",
            " dense_2 (Dense)             (None, 15)                45        \n",
            "                                                                 \n",
            "=================================================================\n",
            "Total params: 87\n",
            "Trainable params: 87\n",
            "Non-trainable params: 0\n",
            "_________________________________________________________________\n"
          ]
        }
      ]
    },
    {
      "cell_type": "code",
      "source": [
        "tf.keras.utils.plot_model(model1, \"my_first_model.png\")\n"
      ],
      "metadata": {
        "colab": {
          "base_uri": "https://localhost:8080/",
          "height": 369
        },
        "id": "kDOTi8tQocSG",
        "outputId": "4a4a938e-47d2-4d4f-da9f-f0e2c7571e41"
      },
      "execution_count": null,
      "outputs": [
        {
          "output_type": "execute_result",
          "data": {
            "text/plain": [
              "<IPython.core.display.Image object>"
            ],
            "image/png": "[encoded data removed]"
          },
          "metadata": {},
          "execution_count": 26
        }
      ]
    },
    {
      "cell_type": "code",
      "source": [
        "tf.keras.utils.plot_model(model1, \"my_first_model_with_shape_info.png\", show_shapes=True)\n"
      ],
      "metadata": {
        "colab": {
          "base_uri": "https://localhost:8080/",
          "height": 422
        },
        "id": "FdvVo_eyol2R",
        "outputId": "909ee6a0-3314-4fcd-bcb7-c5496ab70c9c"
      },
      "execution_count": null,
      "outputs": [
        {
          "output_type": "execute_result",
          "data": {
            "text/plain": [
              "<IPython.core.display.Image object>"
            ],
            "image/png": "[encoded data removed]"
          },
          "metadata": {},
          "execution_count": 27
        }
      ]
    },
    {
      "cell_type": "code",
      "source": [
        "loss_function = tf.keras.losses.CategoricalCrossentropy()"
      ],
      "metadata": {
        "id": "TNpQ1WbKovw2"
      },
      "execution_count": null,
      "outputs": []
    },
    {
      "cell_type": "code",
      "source": [
        "opt = tf.keras.optimizers.Adam()"
      ],
      "metadata": {
        "id": "XfBawaUuo8sE"
      },
      "execution_count": null,
      "outputs": []
    },
    {
      "cell_type": "code",
      "source": [
        "model1.compile(loss = loss_function, optimizer = opt, metrics= ['Precision', 'Recall','accuracy'])"
      ],
      "metadata": {
        "id": "ts3eNZSlpDlB"
      },
      "execution_count": null,
      "outputs": []
    },
    {
      "cell_type": "code",
      "source": [
        "history1 = model1.fit(train_features,one_hot_train_labels, batch_size = 100, epochs = 50, validation_data = (val_features, one_hot_val_labels))"
      ],
      "metadata": {
        "colab": {
          "base_uri": "https://localhost:8080/"
        },
        "id": "xv6Y9xigricH",
        "outputId": "0b815449-7b59-4261-9833-4ba95aef664b"
      },
      "execution_count": null,
      "outputs": [
        {
          "output_type": "stream",
          "name": "stdout",
          "text": [
            "Epoch 1/50\n",
            "477/477 [==============================] - 10s 16ms/step - loss: 3.6197 - precision: 0.4537 - recall: 0.0021 - accuracy: 0.2001 - val_loss: 2.5178 - val_precision: 0.0000e+00 - val_recall: 0.0000e+00 - val_accuracy: 0.2031\n",
            "Epoch 2/50\n",
            "477/477 [==============================] - 4s 8ms/step - loss: 2.4727 - precision: 0.0000e+00 - recall: 0.0000e+00 - accuracy: 0.2029 - val_loss: 2.4465 - val_precision: 0.0000e+00 - val_recall: 0.0000e+00 - val_accuracy: 0.2031\n",
            "Epoch 3/50\n",
            "477/477 [==============================] - 2s 4ms/step - loss: 2.4283 - precision: 0.0000e+00 - recall: 0.0000e+00 - accuracy: 0.2029 - val_loss: 2.4230 - val_precision: 0.0000e+00 - val_recall: 0.0000e+00 - val_accuracy: 0.2031\n",
            "Epoch 4/50\n",
            "477/477 [==============================] - 2s 4ms/step - loss: 2.4140 - precision: 0.0000e+00 - recall: 0.0000e+00 - accuracy: 0.2029 - val_loss: 2.4157 - val_precision: 0.0000e+00 - val_recall: 0.0000e+00 - val_accuracy: 0.2031\n",
            "Epoch 5/50\n",
            "477/477 [==============================] - 1s 3ms/step - loss: 2.4094 - precision: 0.0000e+00 - recall: 0.0000e+00 - accuracy: 0.2029 - val_loss: 2.4131 - val_precision: 0.0000e+00 - val_recall: 0.0000e+00 - val_accuracy: 0.2031\n",
            "Epoch 6/50\n",
            "477/477 [==============================] - 2s 4ms/step - loss: 2.4079 - precision: 0.0000e+00 - recall: 0.0000e+00 - accuracy: 0.2029 - val_loss: 2.4122 - val_precision: 0.0000e+00 - val_recall: 0.0000e+00 - val_accuracy: 0.2031\n",
            "Epoch 7/50\n",
            "477/477 [==============================] - 1s 3ms/step - loss: 2.4073 - precision: 0.0000e+00 - recall: 0.0000e+00 - accuracy: 0.2029 - val_loss: 2.4120 - val_precision: 0.0000e+00 - val_recall: 0.0000e+00 - val_accuracy: 0.2031\n",
            "Epoch 8/50\n",
            "477/477 [==============================] - 2s 5ms/step - loss: 2.4071 - precision: 0.0000e+00 - recall: 0.0000e+00 - accuracy: 0.2029 - val_loss: 2.4117 - val_precision: 0.0000e+00 - val_recall: 0.0000e+00 - val_accuracy: 0.2031\n",
            "Epoch 9/50\n",
            "477/477 [==============================] - 2s 3ms/step - loss: 2.4071 - precision: 0.0000e+00 - recall: 0.0000e+00 - accuracy: 0.2029 - val_loss: 2.4117 - val_precision: 0.0000e+00 - val_recall: 0.0000e+00 - val_accuracy: 0.2031\n",
            "Epoch 10/50\n",
            "477/477 [==============================] - 2s 4ms/step - loss: 2.4070 - precision: 0.0000e+00 - recall: 0.0000e+00 - accuracy: 0.2029 - val_loss: 2.4116 - val_precision: 0.0000e+00 - val_recall: 0.0000e+00 - val_accuracy: 0.2031\n",
            "Epoch 11/50\n",
            "477/477 [==============================] - 2s 5ms/step - loss: 2.4070 - precision: 0.0000e+00 - recall: 0.0000e+00 - accuracy: 0.2029 - val_loss: 2.4116 - val_precision: 0.0000e+00 - val_recall: 0.0000e+00 - val_accuracy: 0.2031\n",
            "Epoch 12/50\n",
            "477/477 [==============================] - 2s 5ms/step - loss: 2.4070 - precision: 0.0000e+00 - recall: 0.0000e+00 - accuracy: 0.2029 - val_loss: 2.4116 - val_precision: 0.0000e+00 - val_recall: 0.0000e+00 - val_accuracy: 0.2031\n",
            "Epoch 13/50\n",
            "477/477 [==============================] - 2s 3ms/step - loss: 2.4070 - precision: 0.0000e+00 - recall: 0.0000e+00 - accuracy: 0.2029 - val_loss: 2.4117 - val_precision: 0.0000e+00 - val_recall: 0.0000e+00 - val_accuracy: 0.2031\n",
            "Epoch 14/50\n",
            "477/477 [==============================] - 3s 6ms/step - loss: 2.4070 - precision: 0.0000e+00 - recall: 0.0000e+00 - accuracy: 0.2029 - val_loss: 2.4117 - val_precision: 0.0000e+00 - val_recall: 0.0000e+00 - val_accuracy: 0.2031\n",
            "Epoch 15/50\n",
            "477/477 [==============================] - 1s 3ms/step - loss: 2.4070 - precision: 0.0000e+00 - recall: 0.0000e+00 - accuracy: 0.2029 - val_loss: 2.4116 - val_precision: 0.0000e+00 - val_recall: 0.0000e+00 - val_accuracy: 0.2031\n",
            "Epoch 16/50\n",
            "477/477 [==============================] - 1s 3ms/step - loss: 2.4070 - precision: 0.0000e+00 - recall: 0.0000e+00 - accuracy: 0.2029 - val_loss: 2.4116 - val_precision: 0.0000e+00 - val_recall: 0.0000e+00 - val_accuracy: 0.2031\n",
            "Epoch 17/50\n",
            "477/477 [==============================] - 1s 3ms/step - loss: 2.4070 - precision: 0.0000e+00 - recall: 0.0000e+00 - accuracy: 0.2029 - val_loss: 2.4116 - val_precision: 0.0000e+00 - val_recall: 0.0000e+00 - val_accuracy: 0.2031\n",
            "Epoch 18/50\n",
            "477/477 [==============================] - 1s 3ms/step - loss: 2.4070 - precision: 0.0000e+00 - recall: 0.0000e+00 - accuracy: 0.2029 - val_loss: 2.4116 - val_precision: 0.0000e+00 - val_recall: 0.0000e+00 - val_accuracy: 0.2031\n",
            "Epoch 19/50\n",
            "477/477 [==============================] - 2s 4ms/step - loss: 2.4071 - precision: 0.0000e+00 - recall: 0.0000e+00 - accuracy: 0.2029 - val_loss: 2.4117 - val_precision: 0.0000e+00 - val_recall: 0.0000e+00 - val_accuracy: 0.2031\n",
            "Epoch 20/50\n",
            "477/477 [==============================] - 2s 4ms/step - loss: 2.4070 - precision: 0.0000e+00 - recall: 0.0000e+00 - accuracy: 0.2029 - val_loss: 2.4117 - val_precision: 0.0000e+00 - val_recall: 0.0000e+00 - val_accuracy: 0.2031\n",
            "Epoch 21/50\n",
            "477/477 [==============================] - 3s 7ms/step - loss: 2.4070 - precision: 0.0000e+00 - recall: 0.0000e+00 - accuracy: 0.2029 - val_loss: 2.4116 - val_precision: 0.0000e+00 - val_recall: 0.0000e+00 - val_accuracy: 0.2031\n",
            "Epoch 22/50\n",
            "477/477 [==============================] - 2s 3ms/step - loss: 2.4070 - precision: 0.0000e+00 - recall: 0.0000e+00 - accuracy: 0.2029 - val_loss: 2.4116 - val_precision: 0.0000e+00 - val_recall: 0.0000e+00 - val_accuracy: 0.2031\n",
            "Epoch 23/50\n",
            "477/477 [==============================] - 3s 6ms/step - loss: 2.4070 - precision: 0.0000e+00 - recall: 0.0000e+00 - accuracy: 0.2029 - val_loss: 2.4117 - val_precision: 0.0000e+00 - val_recall: 0.0000e+00 - val_accuracy: 0.2031\n",
            "Epoch 24/50\n",
            "477/477 [==============================] - 2s 4ms/step - loss: 2.4070 - precision: 0.0000e+00 - recall: 0.0000e+00 - accuracy: 0.2029 - val_loss: 2.4116 - val_precision: 0.0000e+00 - val_recall: 0.0000e+00 - val_accuracy: 0.2031\n",
            "Epoch 25/50\n",
            "477/477 [==============================] - 2s 3ms/step - loss: 2.4071 - precision: 0.0000e+00 - recall: 0.0000e+00 - accuracy: 0.2029 - val_loss: 2.4115 - val_precision: 0.0000e+00 - val_recall: 0.0000e+00 - val_accuracy: 0.2031\n",
            "Epoch 26/50\n",
            "477/477 [==============================] - 2s 5ms/step - loss: 2.4070 - precision: 0.0000e+00 - recall: 0.0000e+00 - accuracy: 0.2029 - val_loss: 2.4116 - val_precision: 0.0000e+00 - val_recall: 0.0000e+00 - val_accuracy: 0.2031\n",
            "Epoch 27/50\n",
            "477/477 [==============================] - 2s 4ms/step - loss: 2.4071 - precision: 0.0000e+00 - recall: 0.0000e+00 - accuracy: 0.2029 - val_loss: 2.4116 - val_precision: 0.0000e+00 - val_recall: 0.0000e+00 - val_accuracy: 0.2031\n",
            "Epoch 28/50\n",
            "477/477 [==============================] - 3s 5ms/step - loss: 2.4070 - precision: 0.0000e+00 - recall: 0.0000e+00 - accuracy: 0.2029 - val_loss: 2.4116 - val_precision: 0.0000e+00 - val_recall: 0.0000e+00 - val_accuracy: 0.2031\n",
            "Epoch 29/50\n",
            "477/477 [==============================] - 4s 8ms/step - loss: 2.4070 - precision: 0.0000e+00 - recall: 0.0000e+00 - accuracy: 0.2029 - val_loss: 2.4116 - val_precision: 0.0000e+00 - val_recall: 0.0000e+00 - val_accuracy: 0.2031\n",
            "Epoch 30/50\n",
            "477/477 [==============================] - 1s 3ms/step - loss: 2.4070 - precision: 0.0000e+00 - recall: 0.0000e+00 - accuracy: 0.2029 - val_loss: 2.4117 - val_precision: 0.0000e+00 - val_recall: 0.0000e+00 - val_accuracy: 0.2031\n",
            "Epoch 31/50\n",
            "477/477 [==============================] - 3s 5ms/step - loss: 2.4070 - precision: 0.0000e+00 - recall: 0.0000e+00 - accuracy: 0.2029 - val_loss: 2.4117 - val_precision: 0.0000e+00 - val_recall: 0.0000e+00 - val_accuracy: 0.2031\n",
            "Epoch 32/50\n",
            "477/477 [==============================] - 1s 3ms/step - loss: 2.4070 - precision: 0.0000e+00 - recall: 0.0000e+00 - accuracy: 0.2029 - val_loss: 2.4116 - val_precision: 0.0000e+00 - val_recall: 0.0000e+00 - val_accuracy: 0.2031\n",
            "Epoch 33/50\n",
            "477/477 [==============================] - 2s 4ms/step - loss: 2.4070 - precision: 0.0000e+00 - recall: 0.0000e+00 - accuracy: 0.2029 - val_loss: 2.4116 - val_precision: 0.0000e+00 - val_recall: 0.0000e+00 - val_accuracy: 0.2031\n",
            "Epoch 34/50\n",
            "477/477 [==============================] - 1s 2ms/step - loss: 2.4070 - precision: 0.0000e+00 - recall: 0.0000e+00 - accuracy: 0.2029 - val_loss: 2.4116 - val_precision: 0.0000e+00 - val_recall: 0.0000e+00 - val_accuracy: 0.2031\n",
            "Epoch 35/50\n",
            "477/477 [==============================] - 1s 3ms/step - loss: 2.4070 - precision: 0.0000e+00 - recall: 0.0000e+00 - accuracy: 0.2029 - val_loss: 2.4116 - val_precision: 0.0000e+00 - val_recall: 0.0000e+00 - val_accuracy: 0.2031\n",
            "Epoch 36/50\n",
            "477/477 [==============================] - 2s 5ms/step - loss: 2.4071 - precision: 0.0000e+00 - recall: 0.0000e+00 - accuracy: 0.2029 - val_loss: 2.4116 - val_precision: 0.0000e+00 - val_recall: 0.0000e+00 - val_accuracy: 0.2031\n",
            "Epoch 37/50\n",
            "477/477 [==============================] - 3s 6ms/step - loss: 2.4070 - precision: 0.0000e+00 - recall: 0.0000e+00 - accuracy: 0.2029 - val_loss: 2.4116 - val_precision: 0.0000e+00 - val_recall: 0.0000e+00 - val_accuracy: 0.2031\n",
            "Epoch 38/50\n",
            "477/477 [==============================] - 5s 9ms/step - loss: 2.4070 - precision: 0.0000e+00 - recall: 0.0000e+00 - accuracy: 0.2029 - val_loss: 2.4116 - val_precision: 0.0000e+00 - val_recall: 0.0000e+00 - val_accuracy: 0.2031\n",
            "Epoch 39/50\n",
            "477/477 [==============================] - 4s 7ms/step - loss: 2.4070 - precision: 0.0000e+00 - recall: 0.0000e+00 - accuracy: 0.2029 - val_loss: 2.4117 - val_precision: 0.0000e+00 - val_recall: 0.0000e+00 - val_accuracy: 0.2031\n",
            "Epoch 40/50\n",
            "477/477 [==============================] - 2s 3ms/step - loss: 2.4070 - precision: 0.0000e+00 - recall: 0.0000e+00 - accuracy: 0.2029 - val_loss: 2.4116 - val_precision: 0.0000e+00 - val_recall: 0.0000e+00 - val_accuracy: 0.2031\n",
            "Epoch 41/50\n",
            "477/477 [==============================] - 2s 3ms/step - loss: 2.4070 - precision: 0.0000e+00 - recall: 0.0000e+00 - accuracy: 0.2029 - val_loss: 2.4116 - val_precision: 0.0000e+00 - val_recall: 0.0000e+00 - val_accuracy: 0.2031\n",
            "Epoch 42/50\n",
            "477/477 [==============================] - 3s 6ms/step - loss: 2.4070 - precision: 0.0000e+00 - recall: 0.0000e+00 - accuracy: 0.2029 - val_loss: 2.4116 - val_precision: 0.0000e+00 - val_recall: 0.0000e+00 - val_accuracy: 0.2031\n",
            "Epoch 43/50\n",
            "477/477 [==============================] - 2s 5ms/step - loss: 2.4070 - precision: 0.0000e+00 - recall: 0.0000e+00 - accuracy: 0.2029 - val_loss: 2.4116 - val_precision: 0.0000e+00 - val_recall: 0.0000e+00 - val_accuracy: 0.2031\n",
            "Epoch 44/50\n",
            "477/477 [==============================] - 2s 5ms/step - loss: 2.4070 - precision: 0.0000e+00 - recall: 0.0000e+00 - accuracy: 0.2029 - val_loss: 2.4116 - val_precision: 0.0000e+00 - val_recall: 0.0000e+00 - val_accuracy: 0.2031\n",
            "Epoch 45/50\n",
            "477/477 [==============================] - 2s 4ms/step - loss: 2.4070 - precision: 0.0000e+00 - recall: 0.0000e+00 - accuracy: 0.2029 - val_loss: 2.4116 - val_precision: 0.0000e+00 - val_recall: 0.0000e+00 - val_accuracy: 0.2031\n",
            "Epoch 46/50\n",
            "477/477 [==============================] - 2s 5ms/step - loss: 2.4070 - precision: 0.0000e+00 - recall: 0.0000e+00 - accuracy: 0.2029 - val_loss: 2.4116 - val_precision: 0.0000e+00 - val_recall: 0.0000e+00 - val_accuracy: 0.2031\n",
            "Epoch 47/50\n",
            "477/477 [==============================] - 2s 5ms/step - loss: 2.4070 - precision: 0.0000e+00 - recall: 0.0000e+00 - accuracy: 0.2029 - val_loss: 2.4117 - val_precision: 0.0000e+00 - val_recall: 0.0000e+00 - val_accuracy: 0.2031\n",
            "Epoch 48/50\n",
            "477/477 [==============================] - 4s 9ms/step - loss: 2.4070 - precision: 0.0000e+00 - recall: 0.0000e+00 - accuracy: 0.2029 - val_loss: 2.4117 - val_precision: 0.0000e+00 - val_recall: 0.0000e+00 - val_accuracy: 0.2031\n",
            "Epoch 49/50\n",
            "477/477 [==============================] - 2s 3ms/step - loss: 2.4070 - precision: 0.0000e+00 - recall: 0.0000e+00 - accuracy: 0.2029 - val_loss: 2.4116 - val_precision: 0.0000e+00 - val_recall: 0.0000e+00 - val_accuracy: 0.2031\n",
            "Epoch 50/50\n",
            "477/477 [==============================] - 1s 3ms/step - loss: 2.4070 - precision: 0.0000e+00 - recall: 0.0000e+00 - accuracy: 0.2029 - val_loss: 2.4116 - val_precision: 0.0000e+00 - val_recall: 0.0000e+00 - val_accuracy: 0.2031\n"
          ]
        }
      ]
    },
    {
      "cell_type": "code",
      "source": [
        "from sklearn.metrics import classification_report\n",
        "\n",
        "y_pred = model1.predict(train_features, batch_size=64, verbose=1)\n",
        "y_pred_bool = np.argmax(y_pred, axis=1)\n",
        "\n",
        "y_bool = np.argmax(one_hot_train_labels,axis = 1)\n",
        "\n",
        "print(classification_report(y_bool, y_pred_bool))"
      ],
      "metadata": {
        "colab": {
          "base_uri": "https://localhost:8080/"
        },
        "id": "qIZ6LmJnwoOt",
        "outputId": "7c1d304c-b946-4d04-e092-e34546a09ea4"
      },
      "execution_count": null,
      "outputs": [
        {
          "output_type": "stream",
          "name": "stdout",
          "text": [
            "746/746 [==============================] - 2s 3ms/step\n",
            "              precision    recall  f1-score   support\n",
            "\n",
            "           0       0.00      0.00      0.00       636\n",
            "           1       0.00      0.00      0.00       950\n",
            "           2       0.00      0.00      0.00      1402\n",
            "           3       0.00      0.00      0.00      3042\n",
            "           4       0.00      0.00      0.00      4291\n",
            "           5       0.00      0.00      0.00      6901\n",
            "           6       0.00      0.00      0.00       666\n",
            "           7       0.00      0.00      0.00       894\n",
            "           8       0.00      0.00      0.00      1433\n",
            "           9       0.00      0.00      0.00      1655\n",
            "          10       0.00      0.00      0.00      2161\n",
            "          11       0.00      0.00      0.00      3601\n",
            "          12       0.00      0.00      0.00      4458\n",
            "          13       0.00      0.00      0.00      5925\n",
            "          14       0.20      1.00      0.34      9677\n",
            "\n",
            "    accuracy                           0.20     47692\n",
            "   macro avg       0.01      0.07      0.02     47692\n",
            "weighted avg       0.04      0.20      0.07     47692\n",
            "\n"
          ]
        },
        {
          "output_type": "stream",
          "name": "stderr",
          "text": [
            "/usr/local/lib/python3.7/dist-packages/sklearn/metrics/_classification.py:1318: UndefinedMetricWarning: Precision and F-score are ill-defined and being set to 0.0 in labels with no predicted samples. Use `zero_division` parameter to control this behavior.\n",
            "  _warn_prf(average, modifier, msg_start, len(result))\n",
            "/usr/local/lib/python3.7/dist-packages/sklearn/metrics/_classification.py:1318: UndefinedMetricWarning: Precision and F-score are ill-defined and being set to 0.0 in labels with no predicted samples. Use `zero_division` parameter to control this behavior.\n",
            "  _warn_prf(average, modifier, msg_start, len(result))\n",
            "/usr/local/lib/python3.7/dist-packages/sklearn/metrics/_classification.py:1318: UndefinedMetricWarning: Precision and F-score are ill-defined and being set to 0.0 in labels with no predicted samples. Use `zero_division` parameter to control this behavior.\n",
            "  _warn_prf(average, modifier, msg_start, len(result))\n"
          ]
        }
      ]
    },
    {
      "cell_type": "code",
      "source": [
        "from sklearn import metrics"
      ],
      "metadata": {
        "id": "CwTEFRrIxvus"
      },
      "execution_count": null,
      "outputs": []
    },
    {
      "cell_type": "code",
      "source": [
        "cm_plot = metrics.ConfusionMatrixDisplay.from_predictions(y_bool, y_pred_bool).plot()"
      ],
      "metadata": {
        "colab": {
          "base_uri": "https://localhost:8080/",
          "height": 541
        },
        "id": "jurrBylbxjr6",
        "outputId": "5b100571-65b7-4b79-901f-630e145dea27"
      },
      "execution_count": null,
      "outputs": [
        {
          "output_type": "display_data",
          "data": {
            "text/plain": [
              "<Figure size 432x288 with 2 Axes>"
            ],
            "image/png": "[encoded data removed]"
          },
          "metadata": {
            "needs_background": "light"
          }
        },
        {
          "output_type": "display_data",
          "data": {
            "text/plain": [
              "<Figure size 432x288 with 2 Axes>"
            ],
            "image/png": "[encoded data removed]"
          },
          "metadata": {
            "needs_background": "light"
          }
        }
      ]
    },
    {
      "cell_type": "code",
      "source": [
        "inputs = tf.keras.Input(shape=(5))\n",
        "x = preprocessing_layer(inputs)\n",
        "dense = tf.keras.layers.Dense(5, activation = 'relu')\n",
        "x = dense(x)\n",
        "x = tf.keras.layers.Dense(2,activation = 'relu')(x)\n",
        "outputs = tf.keras.layers.Dense(15, activation = 'softmax')(x)"
      ],
      "metadata": {
        "id": "2tI4sO37x5sg"
      },
      "execution_count": null,
      "outputs": []
    },
    {
      "cell_type": "code",
      "source": [
        "model2= tf.keras.Model(inputs = inputs, outputs = outputs, name = 'model2')"
      ],
      "metadata": {
        "id": "D5FQH5kvyxfv"
      },
      "execution_count": null,
      "outputs": []
    },
    {
      "cell_type": "code",
      "source": [
        "model2.compile(loss = loss_function, optimizer = opt, metrics = ['Precision', 'Recall','accuracy'])"
      ],
      "metadata": {
        "id": "R_hE_4yBzGHF"
      },
      "execution_count": null,
      "outputs": []
    },
    {
      "cell_type": "code",
      "source": [
        "history2 = model2.fit(train_features, one_hot_train_labels, batch_size = 100, epochs= 100, validation_data = (val_features, one_hot_val_labels))"
      ],
      "metadata": {
        "colab": {
          "base_uri": "https://localhost:8080/"
        },
        "id": "l6-1QM8fzOm-",
        "outputId": "9c9364d1-c9da-4b87-a46b-6f47525c2909"
      },
      "execution_count": null,
      "outputs": [
        {
          "output_type": "stream",
          "name": "stdout",
          "text": [
            "Epoch 1/100\n",
            "477/477 [==============================] - 15s 28ms/step - loss: 2.2706 - precision: 0.0000e+00 - recall: 0.0000e+00 - accuracy: 0.2638 - val_loss: 1.9902 - val_precision: 0.0000e+00 - val_recall: 0.0000e+00 - val_accuracy: 0.2995\n",
            "Epoch 2/100\n",
            "477/477 [==============================] - 3s 6ms/step - loss: 1.9061 - precision: 0.0000e+00 - recall: 0.0000e+00 - accuracy: 0.3059 - val_loss: 1.8617 - val_precision: 0.0000e+00 - val_recall: 0.0000e+00 - val_accuracy: 0.3047\n",
            "Epoch 3/100\n",
            "477/477 [==============================] - 4s 9ms/step - loss: 1.8325 - precision: 0.0000e+00 - recall: 0.0000e+00 - accuracy: 0.3126 - val_loss: 1.8110 - val_precision: 0.0000e+00 - val_recall: 0.0000e+00 - val_accuracy: 0.3237\n",
            "Epoch 4/100\n",
            "477/477 [==============================] - 6s 12ms/step - loss: 1.7876 - precision: 0.5278 - recall: 3.9839e-04 - accuracy: 0.3283 - val_loss: 1.7697 - val_precision: 0.0000e+00 - val_recall: 0.0000e+00 - val_accuracy: 0.3307\n",
            "Epoch 5/100\n",
            "477/477 [==============================] - 6s 13ms/step - loss: 1.7491 - precision: 0.2667 - recall: 1.6774e-04 - accuracy: 0.3357 - val_loss: 1.7370 - val_precision: 0.0000e+00 - val_recall: 0.0000e+00 - val_accuracy: 0.3397\n",
            "Epoch 6/100\n",
            "477/477 [==============================] - 5s 10ms/step - loss: 1.7242 - precision: 0.4716 - recall: 0.0035 - accuracy: 0.3425 - val_loss: 1.7188 - val_precision: 0.0000e+00 - val_recall: 0.0000e+00 - val_accuracy: 0.3419\n",
            "Epoch 7/100\n",
            "477/477 [==============================] - 5s 11ms/step - loss: 1.7081 - precision: 0.4488 - recall: 0.0029 - accuracy: 0.3474 - val_loss: 1.7031 - val_precision: 1.0000 - val_recall: 2.5161e-04 - val_accuracy: 0.3463\n",
            "Epoch 8/100\n",
            "477/477 [==============================] - 6s 12ms/step - loss: 1.6953 - precision: 0.4791 - recall: 0.0031 - accuracy: 0.3498 - val_loss: 1.6923 - val_precision: 0.5435 - val_recall: 0.0042 - val_accuracy: 0.3508\n",
            "Epoch 9/100\n",
            "477/477 [==============================] - 7s 14ms/step - loss: 1.6861 - precision: 0.4592 - recall: 0.0041 - accuracy: 0.3517 - val_loss: 1.6864 - val_precision: 0.4696 - val_recall: 0.0045 - val_accuracy: 0.3502\n",
            "Epoch 10/100\n",
            "477/477 [==============================] - 3s 6ms/step - loss: 1.6807 - precision: 0.4964 - recall: 0.0058 - accuracy: 0.3519 - val_loss: 1.6824 - val_precision: 0.4757 - val_recall: 0.0082 - val_accuracy: 0.3518\n",
            "Epoch 11/100\n",
            "477/477 [==============================] - 3s 7ms/step - loss: 1.6775 - precision: 0.4677 - recall: 0.0050 - accuracy: 0.3537 - val_loss: 1.6797 - val_precision: 0.5232 - val_recall: 0.0066 - val_accuracy: 0.3528\n",
            "Epoch 12/100\n",
            "477/477 [==============================] - 8s 18ms/step - loss: 1.6750 - precision: 0.4822 - recall: 0.0074 - accuracy: 0.3535 - val_loss: 1.6781 - val_precision: 0.5066 - val_recall: 0.0160 - val_accuracy: 0.3537\n",
            "Epoch 13/100\n",
            "477/477 [==============================] - 3s 6ms/step - loss: 1.6736 - precision: 0.4818 - recall: 0.0072 - accuracy: 0.3538 - val_loss: 1.6788 - val_precision: 0.5050 - val_recall: 0.0169 - val_accuracy: 0.3528\n",
            "Epoch 14/100\n",
            "477/477 [==============================] - 3s 6ms/step - loss: 1.6721 - precision: 0.4892 - recall: 0.0071 - accuracy: 0.3537 - val_loss: 1.6777 - val_precision: 0.5172 - val_recall: 0.0088 - val_accuracy: 0.3539\n",
            "Epoch 15/100\n",
            "477/477 [==============================] - 4s 8ms/step - loss: 1.6710 - precision: 0.4599 - recall: 0.0071 - accuracy: 0.3537 - val_loss: 1.6757 - val_precision: 0.5100 - val_recall: 0.0150 - val_accuracy: 0.3528\n",
            "Epoch 16/100\n",
            "477/477 [==============================] - 7s 15ms/step - loss: 1.6702 - precision: 0.4917 - recall: 0.0074 - accuracy: 0.3539 - val_loss: 1.6765 - val_precision: 0.5145 - val_recall: 0.0148 - val_accuracy: 0.3543\n",
            "Epoch 17/100\n",
            "477/477 [==============================] - 3s 6ms/step - loss: 1.6686 - precision: 0.4697 - recall: 0.0088 - accuracy: 0.3537 - val_loss: 1.6732 - val_precision: 0.5106 - val_recall: 0.0020 - val_accuracy: 0.3543\n",
            "Epoch 18/100\n",
            "477/477 [==============================] - 4s 9ms/step - loss: 1.6675 - precision: 0.4912 - recall: 0.0070 - accuracy: 0.3543 - val_loss: 1.6727 - val_precision: 0.5070 - val_recall: 0.0122 - val_accuracy: 0.3550\n",
            "Epoch 19/100\n",
            "477/477 [==============================] - 3s 7ms/step - loss: 1.6668 - precision: 0.4888 - recall: 0.0096 - accuracy: 0.3545 - val_loss: 1.6713 - val_precision: 0.5000 - val_recall: 7.5484e-04 - val_accuracy: 0.3535\n",
            "Epoch 20/100\n",
            "477/477 [==============================] - 5s 10ms/step - loss: 1.6657 - precision: 0.4523 - recall: 0.0063 - accuracy: 0.3553 - val_loss: 1.6719 - val_precision: 0.4898 - val_recall: 0.0200 - val_accuracy: 0.3536\n",
            "Epoch 21/100\n",
            "477/477 [==============================] - 8s 17ms/step - loss: 1.6654 - precision: 0.4774 - recall: 0.0064 - accuracy: 0.3542 - val_loss: 1.6694 - val_precision: 0.4919 - val_recall: 0.0102 - val_accuracy: 0.3547\n",
            "Epoch 22/100\n",
            "477/477 [==============================] - 15s 31ms/step - loss: 1.6643 - precision: 0.5006 - recall: 0.0085 - accuracy: 0.3547 - val_loss: 1.6697 - val_precision: 0.4762 - val_recall: 0.0017 - val_accuracy: 0.3553\n",
            "Epoch 23/100\n",
            "477/477 [==============================] - 4s 7ms/step - loss: 1.6639 - precision: 0.4912 - recall: 0.0053 - accuracy: 0.3545 - val_loss: 1.6682 - val_precision: 0.4954 - val_recall: 0.0090 - val_accuracy: 0.3546\n",
            "Epoch 24/100\n",
            "477/477 [==============================] - 2s 3ms/step - loss: 1.6631 - precision: 0.5177 - recall: 0.0064 - accuracy: 0.3545 - val_loss: 1.6671 - val_precision: 0.4762 - val_recall: 0.0017 - val_accuracy: 0.3544\n",
            "Epoch 25/100\n",
            "477/477 [==============================] - 3s 7ms/step - loss: 1.6622 - precision: 0.4836 - recall: 0.0049 - accuracy: 0.3546 - val_loss: 1.6678 - val_precision: 0.4548 - val_recall: 0.0122 - val_accuracy: 0.3550\n",
            "Epoch 26/100\n",
            "477/477 [==============================] - 2s 5ms/step - loss: 1.6616 - precision: 0.4866 - recall: 0.0068 - accuracy: 0.3546 - val_loss: 1.6663 - val_precision: 0.4375 - val_recall: 0.0018 - val_accuracy: 0.3549\n",
            "Epoch 27/100\n",
            "477/477 [==============================] - 2s 4ms/step - loss: 1.6609 - precision: 0.4837 - recall: 0.0065 - accuracy: 0.3550 - val_loss: 1.6654 - val_precision: 0.4545 - val_recall: 4.1936e-04 - val_accuracy: 0.3556\n",
            "Epoch 28/100\n",
            "477/477 [==============================] - 2s 5ms/step - loss: 1.6603 - precision: 0.4824 - recall: 0.0052 - accuracy: 0.3547 - val_loss: 1.6651 - val_precision: 0.5000 - val_recall: 5.8710e-04 - val_accuracy: 0.3551\n",
            "Epoch 29/100\n",
            "477/477 [==============================] - 2s 3ms/step - loss: 1.6595 - precision: 0.5386 - recall: 0.0075 - accuracy: 0.3546 - val_loss: 1.6662 - val_precision: 0.4823 - val_recall: 0.0205 - val_accuracy: 0.3535\n",
            "Epoch 30/100\n",
            "477/477 [==============================] - 1s 3ms/step - loss: 1.6592 - precision: 0.4516 - recall: 0.0049 - accuracy: 0.3550 - val_loss: 1.6668 - val_precision: 0.4096 - val_recall: 0.0029 - val_accuracy: 0.3545\n",
            "Epoch 31/100\n",
            "477/477 [==============================] - 2s 5ms/step - loss: 1.6584 - precision: 0.4771 - recall: 0.0063 - accuracy: 0.3546 - val_loss: 1.6639 - val_precision: 0.4785 - val_recall: 0.0205 - val_accuracy: 0.3541\n",
            "Epoch 32/100\n",
            "477/477 [==============================] - 2s 4ms/step - loss: 1.6579 - precision: 0.4978 - recall: 0.0048 - accuracy: 0.3547 - val_loss: 1.6633 - val_precision: 0.5000 - val_recall: 0.0013 - val_accuracy: 0.3544\n",
            "Epoch 33/100\n",
            "477/477 [==============================] - 2s 4ms/step - loss: 1.6574 - precision: 0.4962 - recall: 0.0069 - accuracy: 0.3549 - val_loss: 1.6623 - val_precision: 0.5263 - val_recall: 8.3872e-04 - val_accuracy: 0.3540\n",
            "Epoch 34/100\n",
            "477/477 [==============================] - 3s 7ms/step - loss: 1.6572 - precision: 0.4882 - recall: 0.0052 - accuracy: 0.3550 - val_loss: 1.6623 - val_precision: 0.5728 - val_recall: 0.0049 - val_accuracy: 0.3539\n",
            "Epoch 35/100\n",
            "477/477 [==============================] - 2s 3ms/step - loss: 1.6568 - precision: 0.4722 - recall: 0.0050 - accuracy: 0.3546 - val_loss: 1.6608 - val_precision: 0.5000 - val_recall: 8.3872e-04 - val_accuracy: 0.3548\n",
            "Epoch 36/100\n",
            "477/477 [==============================] - 3s 6ms/step - loss: 1.6558 - precision: 0.5027 - recall: 0.0079 - accuracy: 0.3549 - val_loss: 1.6651 - val_precision: 0.4800 - val_recall: 0.0010 - val_accuracy: 0.3532\n",
            "Epoch 37/100\n",
            "477/477 [==============================] - 3s 6ms/step - loss: 1.6556 - precision: 0.4936 - recall: 0.0048 - accuracy: 0.3544 - val_loss: 1.6608 - val_precision: 0.5000 - val_recall: 5.8710e-04 - val_accuracy: 0.3537\n",
            "Epoch 38/100\n",
            "477/477 [==============================] - 2s 5ms/step - loss: 1.6545 - precision: 0.4776 - recall: 0.0063 - accuracy: 0.3546 - val_loss: 1.6607 - val_precision: 0.6000 - val_recall: 2.5161e-04 - val_accuracy: 0.3544\n",
            "Epoch 39/100\n",
            "477/477 [==============================] - 2s 3ms/step - loss: 1.6543 - precision: 0.4760 - recall: 0.0060 - accuracy: 0.3546 - val_loss: 1.6610 - val_precision: 0.0000e+00 - val_recall: 0.0000e+00 - val_accuracy: 0.3534\n",
            "Epoch 40/100\n",
            "477/477 [==============================] - 2s 3ms/step - loss: 1.6539 - precision: 0.5087 - recall: 0.0062 - accuracy: 0.3548 - val_loss: 1.6595 - val_precision: 0.5000 - val_recall: 0.0019 - val_accuracy: 0.3538\n",
            "Epoch 41/100\n",
            "477/477 [==============================] - 3s 6ms/step - loss: 1.6533 - precision: 0.5219 - recall: 0.0070 - accuracy: 0.3542 - val_loss: 1.6600 - val_precision: 0.5022 - val_recall: 0.0097 - val_accuracy: 0.3528\n",
            "Epoch 42/100\n",
            "477/477 [==============================] - 2s 3ms/step - loss: 1.6531 - precision: 0.4900 - recall: 0.0056 - accuracy: 0.3546 - val_loss: 1.6588 - val_precision: 0.3857 - val_recall: 0.0023 - val_accuracy: 0.3540\n",
            "Epoch 43/100\n",
            "477/477 [==============================] - 2s 4ms/step - loss: 1.6528 - precision: 0.4700 - recall: 0.0062 - accuracy: 0.3543 - val_loss: 1.6581 - val_precision: 0.5714 - val_recall: 3.3549e-04 - val_accuracy: 0.3539\n",
            "Epoch 44/100\n",
            "477/477 [==============================] - 1s 3ms/step - loss: 1.6517 - precision: 0.4794 - recall: 0.0083 - accuracy: 0.3545 - val_loss: 1.6572 - val_precision: 0.4723 - val_recall: 0.0150 - val_accuracy: 0.3532\n",
            "Epoch 45/100\n",
            "477/477 [==============================] - 2s 5ms/step - loss: 1.6517 - precision: 0.4945 - recall: 0.0085 - accuracy: 0.3534 - val_loss: 1.6578 - val_precision: 0.5000 - val_recall: 0.0010 - val_accuracy: 0.3525\n",
            "Epoch 46/100\n",
            "477/477 [==============================] - 2s 4ms/step - loss: 1.6506 - precision: 0.5085 - recall: 0.0057 - accuracy: 0.3541 - val_loss: 1.6615 - val_precision: 0.4444 - val_recall: 0.0074 - val_accuracy: 0.3524\n",
            "Epoch 47/100\n",
            "477/477 [==============================] - 2s 3ms/step - loss: 1.6501 - precision: 0.5206 - recall: 0.0074 - accuracy: 0.3540 - val_loss: 1.6577 - val_precision: 0.4545 - val_recall: 4.1936e-04 - val_accuracy: 0.3521\n",
            "Epoch 48/100\n",
            "477/477 [==============================] - 3s 6ms/step - loss: 1.6502 - precision: 0.4659 - recall: 0.0044 - accuracy: 0.3538 - val_loss: 1.6563 - val_precision: 0.4774 - val_recall: 0.0097 - val_accuracy: 0.3526\n",
            "Epoch 49/100\n",
            "477/477 [==============================] - 3s 6ms/step - loss: 1.6496 - precision: 0.4950 - recall: 0.0062 - accuracy: 0.3545 - val_loss: 1.6560 - val_precision: 0.4833 - val_recall: 0.0024 - val_accuracy: 0.3541\n",
            "Epoch 50/100\n",
            "477/477 [==============================] - 1s 3ms/step - loss: 1.6490 - precision: 0.4963 - recall: 0.0056 - accuracy: 0.3543 - val_loss: 1.6554 - val_precision: 0.6667 - val_recall: 1.6774e-04 - val_accuracy: 0.3531\n",
            "Epoch 51/100\n",
            "477/477 [==============================] - 2s 4ms/step - loss: 1.6488 - precision: 0.4829 - recall: 0.0071 - accuracy: 0.3533 - val_loss: 1.6544 - val_precision: 0.5014 - val_recall: 0.0149 - val_accuracy: 0.3538\n",
            "Epoch 52/100\n",
            "477/477 [==============================] - 2s 5ms/step - loss: 1.6486 - precision: 0.5058 - recall: 0.0073 - accuracy: 0.3538 - val_loss: 1.6545 - val_precision: 0.5116 - val_recall: 0.0018 - val_accuracy: 0.3542\n",
            "Epoch 53/100\n",
            "477/477 [==============================] - 3s 6ms/step - loss: 1.6479 - precision: 0.4819 - recall: 0.0064 - accuracy: 0.3534 - val_loss: 1.6549 - val_precision: 0.4822 - val_recall: 0.0148 - val_accuracy: 0.3526\n",
            "Epoch 54/100\n",
            "477/477 [==============================] - 2s 3ms/step - loss: 1.6475 - precision: 0.5013 - recall: 0.0081 - accuracy: 0.3539 - val_loss: 1.6543 - val_precision: 0.5882 - val_recall: 0.0034 - val_accuracy: 0.3526\n",
            "Epoch 55/100\n",
            "477/477 [==============================] - 2s 5ms/step - loss: 1.6471 - precision: 0.5250 - recall: 0.0059 - accuracy: 0.3536 - val_loss: 1.6549 - val_precision: 0.4973 - val_recall: 0.0235 - val_accuracy: 0.3512\n",
            "Epoch 56/100\n",
            "477/477 [==============================] - 1s 2ms/step - loss: 1.6473 - precision: 0.5021 - recall: 0.0077 - accuracy: 0.3527 - val_loss: 1.6561 - val_precision: 0.4762 - val_recall: 0.0017 - val_accuracy: 0.3516\n",
            "Epoch 57/100\n",
            "477/477 [==============================] - 2s 4ms/step - loss: 1.6464 - precision: 0.4921 - recall: 0.0065 - accuracy: 0.3530 - val_loss: 1.6544 - val_precision: 0.4242 - val_recall: 0.0047 - val_accuracy: 0.3529\n",
            "Epoch 58/100\n",
            "477/477 [==============================] - 2s 5ms/step - loss: 1.6463 - precision: 0.5071 - recall: 0.0067 - accuracy: 0.3528 - val_loss: 1.6541 - val_precision: 0.6198 - val_recall: 0.0063 - val_accuracy: 0.3530\n",
            "Epoch 59/100\n",
            "477/477 [==============================] - 1s 3ms/step - loss: 1.6459 - precision: 0.4855 - recall: 0.0088 - accuracy: 0.3530 - val_loss: 1.6542 - val_precision: 0.4818 - val_recall: 0.0245 - val_accuracy: 0.3523\n",
            "Epoch 60/100\n",
            "477/477 [==============================] - 2s 4ms/step - loss: 1.6459 - precision: 0.4935 - recall: 0.0080 - accuracy: 0.3528 - val_loss: 1.6532 - val_precision: 0.4688 - val_recall: 0.0013 - val_accuracy: 0.3521\n",
            "Epoch 61/100\n",
            "477/477 [==============================] - 1s 2ms/step - loss: 1.6451 - precision: 0.5041 - recall: 0.0065 - accuracy: 0.3531 - val_loss: 1.6537 - val_precision: 0.4880 - val_recall: 0.0187 - val_accuracy: 0.3529\n",
            "Epoch 62/100\n",
            "477/477 [==============================] - 2s 4ms/step - loss: 1.6451 - precision: 0.5000 - recall: 0.0072 - accuracy: 0.3531 - val_loss: 1.6531 - val_precision: 0.5085 - val_recall: 0.0075 - val_accuracy: 0.3523\n",
            "Epoch 63/100\n",
            "477/477 [==============================] - 1s 3ms/step - loss: 1.6449 - precision: 0.4823 - recall: 0.0080 - accuracy: 0.3530 - val_loss: 1.6530 - val_precision: 0.4854 - val_recall: 0.0209 - val_accuracy: 0.3524\n",
            "Epoch 64/100\n",
            "477/477 [==============================] - 1s 3ms/step - loss: 1.6444 - precision: 0.4846 - recall: 0.0072 - accuracy: 0.3531 - val_loss: 1.6534 - val_precision: 0.4444 - val_recall: 3.3549e-04 - val_accuracy: 0.3508\n",
            "Epoch 65/100\n",
            "477/477 [==============================] - 1s 3ms/step - loss: 1.6441 - precision: 0.4827 - recall: 0.0064 - accuracy: 0.3523 - val_loss: 1.6535 - val_precision: 0.4909 - val_recall: 0.0315 - val_accuracy: 0.3521\n",
            "Epoch 66/100\n",
            "477/477 [==============================] - 2s 3ms/step - loss: 1.6442 - precision: 0.5087 - recall: 0.0111 - accuracy: 0.3527 - val_loss: 1.6528 - val_precision: 0.4188 - val_recall: 0.0041 - val_accuracy: 0.3516\n",
            "Epoch 67/100\n",
            "477/477 [==============================] - 2s 4ms/step - loss: 1.6435 - precision: 0.4841 - recall: 0.0064 - accuracy: 0.3527 - val_loss: 1.6521 - val_precision: 0.6667 - val_recall: 1.6774e-04 - val_accuracy: 0.3523\n",
            "Epoch 68/100\n",
            "477/477 [==============================] - 2s 3ms/step - loss: 1.6435 - precision: 0.4849 - recall: 0.0074 - accuracy: 0.3525 - val_loss: 1.6518 - val_precision: 0.4105 - val_recall: 0.0033 - val_accuracy: 0.3521\n",
            "Epoch 69/100\n",
            "477/477 [==============================] - 2s 4ms/step - loss: 1.6432 - precision: 0.5023 - recall: 0.0092 - accuracy: 0.3525 - val_loss: 1.6511 - val_precision: 0.4741 - val_recall: 0.0054 - val_accuracy: 0.3508\n",
            "Epoch 70/100\n",
            "477/477 [==============================] - 2s 5ms/step - loss: 1.6432 - precision: 0.4903 - recall: 0.0074 - accuracy: 0.3523 - val_loss: 1.6500 - val_precision: 0.5164 - val_recall: 0.0106 - val_accuracy: 0.3517\n",
            "Epoch 71/100\n",
            "477/477 [==============================] - 2s 3ms/step - loss: 1.6428 - precision: 0.5369 - recall: 0.0069 - accuracy: 0.3522 - val_loss: 1.6498 - val_precision: 0.4820 - val_recall: 0.0326 - val_accuracy: 0.3503\n",
            "Epoch 72/100\n",
            "477/477 [==============================] - 4s 8ms/step - loss: 1.6427 - precision: 0.5142 - recall: 0.0084 - accuracy: 0.3521 - val_loss: 1.6500 - val_precision: 0.4781 - val_recall: 0.0119 - val_accuracy: 0.3525\n",
            "Epoch 73/100\n",
            "477/477 [==============================] - 2s 5ms/step - loss: 1.6423 - precision: 0.4619 - recall: 0.0088 - accuracy: 0.3526 - val_loss: 1.6537 - val_precision: 0.6148 - val_recall: 0.0063 - val_accuracy: 0.3523\n",
            "Epoch 74/100\n",
            "477/477 [==============================] - 2s 3ms/step - loss: 1.6422 - precision: 0.5036 - recall: 0.0089 - accuracy: 0.3525 - val_loss: 1.6491 - val_precision: 0.4797 - val_recall: 0.0099 - val_accuracy: 0.3514\n",
            "Epoch 75/100\n",
            "477/477 [==============================] - 3s 6ms/step - loss: 1.6420 - precision: 0.4978 - recall: 0.0070 - accuracy: 0.3528 - val_loss: 1.6495 - val_precision: 0.4991 - val_recall: 0.0224 - val_accuracy: 0.3507\n",
            "Epoch 76/100\n",
            "477/477 [==============================] - 1s 3ms/step - loss: 1.6415 - precision: 0.4879 - recall: 0.0088 - accuracy: 0.3523 - val_loss: 1.6519 - val_precision: 0.4833 - val_recall: 0.0278 - val_accuracy: 0.3505\n",
            "Epoch 77/100\n",
            "477/477 [==============================] - 2s 4ms/step - loss: 1.6411 - precision: 0.5139 - recall: 0.0097 - accuracy: 0.3524 - val_loss: 1.6514 - val_precision: 0.4123 - val_recall: 0.0112 - val_accuracy: 0.3512\n",
            "Epoch 78/100\n",
            "477/477 [==============================] - 2s 5ms/step - loss: 1.6412 - precision: 0.5084 - recall: 0.0102 - accuracy: 0.3522 - val_loss: 1.6488 - val_precision: 0.5000 - val_recall: 3.3549e-04 - val_accuracy: 0.3513\n",
            "Epoch 79/100\n",
            "477/477 [==============================] - 2s 4ms/step - loss: 1.6416 - precision: 0.4471 - recall: 0.0051 - accuracy: 0.3524 - val_loss: 1.6491 - val_precision: 0.6053 - val_recall: 0.0019 - val_accuracy: 0.3505\n",
            "Epoch 80/100\n",
            "477/477 [==============================] - 1s 3ms/step - loss: 1.6408 - precision: 0.5159 - recall: 0.0082 - accuracy: 0.3521 - val_loss: 1.6481 - val_precision: 0.6000 - val_recall: 2.5161e-04 - val_accuracy: 0.3518\n",
            "Epoch 81/100\n",
            "477/477 [==============================] - 4s 8ms/step - loss: 1.6407 - precision: 0.5052 - recall: 0.0082 - accuracy: 0.3526 - val_loss: 1.6489 - val_precision: 0.6000 - val_recall: 0.0028 - val_accuracy: 0.3507\n",
            "Epoch 82/100\n",
            "477/477 [==============================] - 2s 3ms/step - loss: 1.6404 - precision: 0.4955 - recall: 0.0082 - accuracy: 0.3520 - val_loss: 1.6485 - val_precision: 0.6000 - val_recall: 2.5161e-04 - val_accuracy: 0.3518\n",
            "Epoch 83/100\n",
            "477/477 [==============================] - 2s 3ms/step - loss: 1.6402 - precision: 0.5135 - recall: 0.0080 - accuracy: 0.3528 - val_loss: 1.6475 - val_precision: 0.4556 - val_recall: 0.0099 - val_accuracy: 0.3512\n",
            "Epoch 84/100\n",
            "477/477 [==============================] - 2s 4ms/step - loss: 1.6399 - precision: 0.5153 - recall: 0.0070 - accuracy: 0.3522 - val_loss: 1.6477 - val_precision: 0.4615 - val_recall: 5.0323e-04 - val_accuracy: 0.3514\n",
            "Epoch 85/100\n",
            "477/477 [==============================] - 3s 7ms/step - loss: 1.6401 - precision: 0.4922 - recall: 0.0086 - accuracy: 0.3524 - val_loss: 1.6485 - val_precision: 0.5091 - val_recall: 0.0047 - val_accuracy: 0.3518\n",
            "Epoch 86/100\n",
            "477/477 [==============================] - 2s 4ms/step - loss: 1.6395 - precision: 0.4929 - recall: 0.0095 - accuracy: 0.3520 - val_loss: 1.6481 - val_precision: 0.4823 - val_recall: 0.0252 - val_accuracy: 0.3503\n",
            "Epoch 87/100\n",
            "477/477 [==============================] - 2s 4ms/step - loss: 1.6394 - precision: 0.5198 - recall: 0.0096 - accuracy: 0.3522 - val_loss: 1.6470 - val_precision: 0.5200 - val_recall: 0.0011 - val_accuracy: 0.3511\n",
            "Epoch 88/100\n",
            "477/477 [==============================] - 3s 7ms/step - loss: 1.6398 - precision: 0.4820 - recall: 0.0092 - accuracy: 0.3523 - val_loss: 1.6467 - val_precision: 0.4651 - val_recall: 0.0017 - val_accuracy: 0.3508\n",
            "Epoch 89/100\n",
            "477/477 [==============================] - 2s 5ms/step - loss: 1.6394 - precision: 0.5056 - recall: 0.0113 - accuracy: 0.3524 - val_loss: 1.6477 - val_precision: 0.4094 - val_recall: 0.0044 - val_accuracy: 0.3513\n",
            "Epoch 90/100\n",
            "477/477 [==============================] - 1s 3ms/step - loss: 1.6393 - precision: 0.4750 - recall: 0.0050 - accuracy: 0.3518 - val_loss: 1.6484 - val_precision: 0.5389 - val_recall: 0.0087 - val_accuracy: 0.3507\n",
            "Epoch 91/100\n",
            "477/477 [==============================] - 2s 4ms/step - loss: 1.6391 - precision: 0.4753 - recall: 0.0087 - accuracy: 0.3528 - val_loss: 1.6475 - val_precision: 0.5714 - val_recall: 0.0013 - val_accuracy: 0.3513\n",
            "Epoch 92/100\n",
            "477/477 [==============================] - 2s 3ms/step - loss: 1.6390 - precision: 0.4713 - recall: 0.0088 - accuracy: 0.3519 - val_loss: 1.6460 - val_precision: 0.4450 - val_recall: 0.0081 - val_accuracy: 0.3510\n",
            "Epoch 93/100\n",
            "477/477 [==============================] - 1s 3ms/step - loss: 1.6388 - precision: 0.4912 - recall: 0.0053 - accuracy: 0.3526 - val_loss: 1.6476 - val_precision: 0.5153 - val_recall: 0.0113 - val_accuracy: 0.3509\n",
            "Epoch 94/100\n",
            "477/477 [==============================] - 3s 7ms/step - loss: 1.6387 - precision: 0.5048 - recall: 0.0121 - accuracy: 0.3527 - val_loss: 1.6481 - val_precision: 0.4983 - val_recall: 0.0123 - val_accuracy: 0.3508\n",
            "Epoch 95/100\n",
            "477/477 [==============================] - 2s 4ms/step - loss: 1.6386 - precision: 0.5142 - recall: 0.0091 - accuracy: 0.3522 - val_loss: 1.6467 - val_precision: 0.6538 - val_recall: 0.0029 - val_accuracy: 0.3515\n",
            "Epoch 96/100\n",
            "477/477 [==============================] - 1s 3ms/step - loss: 1.6381 - precision: 0.4963 - recall: 0.0084 - accuracy: 0.3519 - val_loss: 1.6457 - val_precision: 0.6250 - val_recall: 0.0025 - val_accuracy: 0.3513\n",
            "Epoch 97/100\n",
            "477/477 [==============================] - 4s 8ms/step - loss: 1.6384 - precision: 0.5014 - recall: 0.0073 - accuracy: 0.3517 - val_loss: 1.6464 - val_precision: 0.5040 - val_recall: 0.0158 - val_accuracy: 0.3508\n",
            "Epoch 98/100\n",
            "477/477 [==============================] - 1s 2ms/step - loss: 1.6384 - precision: 0.5060 - recall: 0.0098 - accuracy: 0.3523 - val_loss: 1.6456 - val_precision: 0.4483 - val_recall: 0.0044 - val_accuracy: 0.3518\n",
            "Epoch 99/100\n",
            "477/477 [==============================] - 1s 3ms/step - loss: 1.6380 - precision: 0.5171 - recall: 0.0098 - accuracy: 0.3522 - val_loss: 1.6460 - val_precision: 0.4846 - val_recall: 0.0171 - val_accuracy: 0.3512\n",
            "Epoch 100/100\n",
            "477/477 [==============================] - 1s 3ms/step - loss: 1.6377 - precision: 0.5199 - recall: 0.0091 - accuracy: 0.3522 - val_loss: 1.6456 - val_precision: 0.4734 - val_recall: 0.0142 - val_accuracy: 0.3509\n"
          ]
        }
      ]
    },
    {
      "cell_type": "code",
      "source": [
        "model2.summary()"
      ],
      "metadata": {
        "colab": {
          "base_uri": "https://localhost:8080/"
        },
        "id": "XksDKZh4zvgL",
        "outputId": "b944adeb-8684-439f-bde6-b7cab80d1113"
      },
      "execution_count": null,
      "outputs": [
        {
          "output_type": "stream",
          "name": "stdout",
          "text": [
            "Model: \"model2\"\n",
            "_________________________________________________________________\n",
            " Layer (type)                Output Shape              Param #   \n",
            "=================================================================\n",
            " input_4 (InputLayer)        [(None, 5)]               0         \n",
            "                                                                 \n",
            " normalization (Normalizatio  (None, 5)                3         \n",
            " n)                                                              \n",
            "                                                                 \n",
            " dense_9 (Dense)             (None, 5)                 30        \n",
            "                                                                 \n",
            " dense_10 (Dense)            (None, 2)                 12        \n",
            "                                                                 \n",
            " dense_11 (Dense)            (None, 15)                45        \n",
            "                                                                 \n",
            "=================================================================\n",
            "Total params: 90\n",
            "Trainable params: 87\n",
            "Non-trainable params: 3\n",
            "_________________________________________________________________\n"
          ]
        }
      ]
    },
    {
      "cell_type": "code",
      "source": [
        "tf.keras.utils.plot_model(model2, show_shapes=True)\n"
      ],
      "metadata": {
        "colab": {
          "base_uri": "https://localhost:8080/",
          "height": 533
        },
        "id": "NErVaSdRzxda",
        "outputId": "83d1514b-8f9a-46e2-8c29-2cfd7cbe4432"
      },
      "execution_count": null,
      "outputs": [
        {
          "output_type": "execute_result",
          "data": {
            "text/plain": [
              "<IPython.core.display.Image object>"
            ],
            "image/png": "[encoded data removed]"
          },
          "metadata": {},
          "execution_count": 57
        }
      ]
    },
    {
      "cell_type": "code",
      "source": [
        "loss = history2.history['loss']\n",
        "val_loss = history2.history['val_loss']\n",
        "\n",
        "epochs = range (1, len(loss)+1)\n",
        "\n",
        "plt.plot(epochs, loss, 'bo', label = 'Training loss')\n",
        "plt.plot(epochs, val_loss, 'b', label = 'Validation loss')\n",
        "plt.title('Training and validation loss')\n",
        "plt.xlabel('Epochs')\n",
        "plt.ylabel('Loss')\n",
        "plt.legend()\n",
        "\n",
        "plt.show"
      ],
      "metadata": {
        "colab": {
          "base_uri": "https://localhost:8080/",
          "height": 312
        },
        "id": "VpVVX9by1E4y",
        "outputId": "1e89262b-fdaa-4c3e-e515-2d79f3ea39d3"
      },
      "execution_count": null,
      "outputs": [
        {
          "output_type": "execute_result",
          "data": {
            "text/plain": [
              "<function matplotlib.pyplot.show>"
            ]
          },
          "metadata": {},
          "execution_count": 58
        },
        {
          "output_type": "display_data",
          "data": {
            "text/plain": [
              "<Figure size 432x288 with 1 Axes>"
            ],
            "image/png": "[encoded data removed]"
          },
          "metadata": {
            "needs_background": "light"
          }
        }
      ]
    },
    {
      "cell_type": "code",
      "source": [
        "from keras import models\n",
        "from keras import layers\n",
        "\n",
        "model7= models.Sequential()\n",
        "\n",
        "model7.add(layers.Dense(6, activation='relu'))\n",
        "model7.add(layers.Dense(15, activation = 'relu'))\n",
        "model7.add(layers.Dense(15, activation = 'softmax'))"
      ],
      "metadata": {
        "id": "HcvhuErs2CRv"
      },
      "execution_count": null,
      "outputs": []
    },
    {
      "cell_type": "code",
      "source": [
        "model7.compile(optimizer = opt, loss =loss_function,metrics=['Precision', 'Recall','accuracy'])"
      ],
      "metadata": {
        "id": "8yk7Bf_62L7l"
      },
      "execution_count": null,
      "outputs": []
    },
    {
      "cell_type": "code",
      "source": [
        "history7 = model7.fit(train_features, one_hot_train_labels, batch_size = 100, epochs= 20, validation_data = (val_features, one_hot_val_labels))"
      ],
      "metadata": {
        "colab": {
          "base_uri": "https://localhost:8080/"
        },
        "id": "orWSMIBx2Ri9",
        "outputId": "67cf3206-ce1f-46b8-8e96-1f6d35afcffa"
      },
      "execution_count": null,
      "outputs": [
        {
          "output_type": "stream",
          "name": "stdout",
          "text": [
            "Epoch 1/20\n",
            "477/477 [==============================] - 5s 10ms/step - loss: 2.6376 - precision: 0.0551 - recall: 3.1452e-04 - accuracy: 0.1643 - val_loss: 2.4911 - val_precision: 0.0213 - val_recall: 8.3872e-05 - val_accuracy: 0.2032\n",
            "Epoch 2/20\n",
            "477/477 [==============================] - 1s 3ms/step - loss: 2.4548 - precision: 0.0068 - recall: 2.0968e-05 - accuracy: 0.2029 - val_loss: 2.4360 - val_precision: 0.0000e+00 - val_recall: 0.0000e+00 - val_accuracy: 0.2031\n",
            "Epoch 3/20\n",
            "477/477 [==============================] - 2s 3ms/step - loss: 2.4261 - precision: 0.0087 - recall: 2.0968e-05 - accuracy: 0.2029 - val_loss: 2.4210 - val_precision: 0.0000e+00 - val_recall: 0.0000e+00 - val_accuracy: 0.2031\n",
            "Epoch 4/20\n",
            "477/477 [==============================] - 4s 8ms/step - loss: 2.4155 - precision: 0.0127 - recall: 2.0968e-05 - accuracy: 0.2029 - val_loss: 2.4150 - val_precision: 0.0000e+00 - val_recall: 0.0000e+00 - val_accuracy: 0.2031\n",
            "Epoch 5/20\n",
            "477/477 [==============================] - 2s 3ms/step - loss: 2.4110 - precision: 0.0175 - recall: 2.0968e-05 - accuracy: 0.2029 - val_loss: 2.4132 - val_precision: 0.0000e+00 - val_recall: 0.0000e+00 - val_accuracy: 0.2031\n",
            "Epoch 6/20\n",
            "477/477 [==============================] - 1s 3ms/step - loss: 2.4092 - precision: 0.0250 - recall: 2.0968e-05 - accuracy: 0.2029 - val_loss: 2.4126 - val_precision: 0.0000e+00 - val_recall: 0.0000e+00 - val_accuracy: 0.2031\n",
            "Epoch 7/20\n",
            "477/477 [==============================] - 2s 4ms/step - loss: 2.4083 - precision: 0.0333 - recall: 2.0968e-05 - accuracy: 0.2029 - val_loss: 2.4121 - val_precision: 0.0000e+00 - val_recall: 0.0000e+00 - val_accuracy: 0.2031\n",
            "Epoch 8/20\n",
            "477/477 [==============================] - 1s 3ms/step - loss: 2.4077 - precision: 0.0500 - recall: 2.0968e-05 - accuracy: 0.2029 - val_loss: 2.4118 - val_precision: 0.0000e+00 - val_recall: 0.0000e+00 - val_accuracy: 0.2031\n",
            "Epoch 9/20\n",
            "477/477 [==============================] - 3s 5ms/step - loss: 2.4074 - precision: 0.0588 - recall: 2.0968e-05 - accuracy: 0.2029 - val_loss: 2.4116 - val_precision: 0.0000e+00 - val_recall: 0.0000e+00 - val_accuracy: 0.2031\n",
            "Epoch 10/20\n",
            "477/477 [==============================] - 1s 3ms/step - loss: 2.4072 - precision: 0.0667 - recall: 2.0968e-05 - accuracy: 0.2029 - val_loss: 2.4116 - val_precision: 0.0000e+00 - val_recall: 0.0000e+00 - val_accuracy: 0.2031\n",
            "Epoch 11/20\n",
            "477/477 [==============================] - 2s 4ms/step - loss: 2.4071 - precision: 0.0909 - recall: 2.0968e-05 - accuracy: 0.2029 - val_loss: 2.4116 - val_precision: 0.0000e+00 - val_recall: 0.0000e+00 - val_accuracy: 0.2031\n",
            "Epoch 12/20\n",
            "477/477 [==============================] - 2s 4ms/step - loss: 2.4070 - precision: 0.1000 - recall: 2.0968e-05 - accuracy: 0.2029 - val_loss: 2.4116 - val_precision: 0.0000e+00 - val_recall: 0.0000e+00 - val_accuracy: 0.2031\n",
            "Epoch 13/20\n",
            "477/477 [==============================] - 2s 4ms/step - loss: 2.4069 - precision: 0.1000 - recall: 2.0968e-05 - accuracy: 0.2029 - val_loss: 2.4116 - val_precision: 0.0000e+00 - val_recall: 0.0000e+00 - val_accuracy: 0.2031\n",
            "Epoch 14/20\n",
            "477/477 [==============================] - 2s 5ms/step - loss: 2.4069 - precision: 0.1429 - recall: 2.0968e-05 - accuracy: 0.2029 - val_loss: 2.4116 - val_precision: 0.0000e+00 - val_recall: 0.0000e+00 - val_accuracy: 0.2031\n",
            "Epoch 15/20\n",
            "477/477 [==============================] - 3s 7ms/step - loss: 2.4069 - precision: 0.2000 - recall: 2.0968e-05 - accuracy: 0.2029 - val_loss: 2.4116 - val_precision: 0.0000e+00 - val_recall: 0.0000e+00 - val_accuracy: 0.2031\n",
            "Epoch 16/20\n",
            "477/477 [==============================] - 1s 3ms/step - loss: 2.4069 - precision: 0.2000 - recall: 2.0968e-05 - accuracy: 0.2029 - val_loss: 2.4116 - val_precision: 0.0000e+00 - val_recall: 0.0000e+00 - val_accuracy: 0.2031\n",
            "Epoch 17/20\n",
            "477/477 [==============================] - 3s 6ms/step - loss: 2.4069 - precision: 0.2000 - recall: 2.0968e-05 - accuracy: 0.2029 - val_loss: 2.4117 - val_precision: 0.0000e+00 - val_recall: 0.0000e+00 - val_accuracy: 0.2031\n",
            "Epoch 18/20\n",
            "477/477 [==============================] - 1s 3ms/step - loss: 2.4069 - precision: 0.1667 - recall: 2.0968e-05 - accuracy: 0.2029 - val_loss: 2.4116 - val_precision: 0.0000e+00 - val_recall: 0.0000e+00 - val_accuracy: 0.2031\n",
            "Epoch 19/20\n",
            "477/477 [==============================] - 2s 4ms/step - loss: 2.4069 - precision: 0.2500 - recall: 2.0968e-05 - accuracy: 0.2029 - val_loss: 2.4116 - val_precision: 0.0000e+00 - val_recall: 0.0000e+00 - val_accuracy: 0.2031\n",
            "Epoch 20/20\n",
            "477/477 [==============================] - 1s 3ms/step - loss: 2.4069 - precision: 0.5000 - recall: 2.0968e-05 - accuracy: 0.2029 - val_loss: 2.4116 - val_precision: 0.0000e+00 - val_recall: 0.0000e+00 - val_accuracy: 0.2031\n"
          ]
        }
      ]
    },
    {
      "cell_type": "code",
      "source": [
        "import keras\n",
        "from keras.optimizers import  rmsprop_v2\n",
        "def build_model(n_layer=1, n_neurons = 6, learning_rate = 3e-3, input_shape = [5]):\n",
        "  model = models.Sequential()\n",
        "  options= {\"input_shape\":input_shape}\n",
        "  for layer in range(n_layer):\n",
        "    model.add(layers.Dense(n_neurons, activation = \"relu\", **options))\n",
        "    options = {}\n",
        "  model.add(layers.Dense(15, **options))\n",
        "  # optimizer = keras.optimizers.rmsprop(learning_rate)\n",
        "  model.compile(loss = \"categorical_crossentropy\", optimizer = 'rmsprop')\n",
        "  return model"
      ],
      "metadata": {
        "id": "uEzU_Syi1K4I"
      },
      "execution_count": null,
      "outputs": []
    },
    {
      "cell_type": "code",
      "source": [
        "keras_reg= keras.wrappers.scikit_learn.KerasRegressor(build_model)"
      ],
      "metadata": {
        "colab": {
          "base_uri": "https://localhost:8080/"
        },
        "id": "1gBXdxrM1VZy",
        "outputId": "3c875300-2828-4b3f-e0b1-1960ad2fbd33"
      },
      "execution_count": null,
      "outputs": [
        {
          "output_type": "stream",
          "name": "stderr",
          "text": [
            "/usr/local/lib/python3.7/dist-packages/ipykernel_launcher.py:1: DeprecationWarning: KerasRegressor is deprecated, use Sci-Keras (https://github.com/adriangb/scikeras) instead. See https://www.adriangb.com/scikeras/stable/migration.html for help migrating.\n",
            "  \"\"\"Entry point for launching an IPython kernel.\n"
          ]
        }
      ]
    },
    {
      "cell_type": "code",
      "source": [
        "!pip install scipy"
      ],
      "metadata": {
        "colab": {
          "base_uri": "https://localhost:8080/"
        },
        "id": "yCyQ4WR61Yf0",
        "outputId": "fdec154e-0a76-4e85-c2f8-92d007e1fe99"
      },
      "execution_count": null,
      "outputs": [
        {
          "output_type": "stream",
          "name": "stdout",
          "text": [
            "Looking in indexes: https://pypi.org/simple, https://us-python.pkg.dev/colab-wheels/public/simple/\n",
            "Requirement already satisfied: scipy in /usr/local/lib/python3.7/dist-packages (1.4.1)\n",
            "Requirement already satisfied: numpy>=1.13.3 in /usr/local/lib/python3.7/dist-packages (from scipy) (1.21.6)\n"
          ]
        }
      ]
    },
    {
      "cell_type": "code",
      "source": [
        "from scipy.stats import reciprocal\n",
        "from sklearn.model_selection import RandomizedSearchCV"
      ],
      "metadata": {
        "id": "lQXTsO2L1dz2"
      },
      "execution_count": null,
      "outputs": []
    },
    {
      "cell_type": "code",
      "source": [
        "param_distribs = {\n",
        "    \"n_layer\":[1],\n",
        "    \"n_neurons\":np.arange(1,515),\n",
        "    \"learning_rate\": reciprocal(3e-4, 3e-2),\n",
        "}"
      ],
      "metadata": {
        "id": "glY9YINH1oKs"
      },
      "execution_count": null,
      "outputs": []
    },
    {
      "cell_type": "code",
      "source": [
        "rnd_search_cv = RandomizedSearchCV(keras_reg, param_distribs, n_iter= 10, cv =3)\n",
        "rnd_search_cv.fit(train_features, one_hot_train_labels, epochs = 20,validation_data =(val_features, one_hot_val_labels), callbacks = [keras.callbacks.EarlyStopping(patience = 10)])"
      ],
      "metadata": {
        "colab": {
          "base_uri": "https://localhost:8080/"
        },
        "id": "dWaY9EVW1ewf",
        "outputId": "59facee9-1834-410a-dac5-b6e09adac083"
      },
      "execution_count": null,
      "outputs": [
        {
          "output_type": "stream",
          "name": "stdout",
          "text": [
            "Epoch 1/20\n",
            "994/994 [==============================] - 7s 7ms/step - loss: 8.0066 - val_loss: 7.2304\n",
            "Epoch 2/20\n",
            "994/994 [==============================] - 3s 3ms/step - loss: 8.4726 - val_loss: 8.8213\n",
            "Epoch 3/20\n",
            "994/994 [==============================] - 6s 6ms/step - loss: 8.2073 - val_loss: 8.3162\n",
            "Epoch 4/20\n",
            "994/994 [==============================] - 3s 3ms/step - loss: 8.8527 - val_loss: 9.5214\n",
            "Epoch 5/20\n",
            "994/994 [==============================] - 4s 4ms/step - loss: 9.0316 - val_loss: 9.4750\n",
            "Epoch 6/20\n",
            "994/994 [==============================] - 4s 4ms/step - loss: 9.1332 - val_loss: 8.5812\n",
            "Epoch 7/20\n",
            "994/994 [==============================] - 3s 3ms/step - loss: 8.0514 - val_loss: 8.1141\n",
            "Epoch 8/20\n",
            "994/994 [==============================] - 5s 5ms/step - loss: 7.5097 - val_loss: 7.7191\n",
            "Epoch 9/20\n",
            "994/994 [==============================] - 5s 5ms/step - loss: 7.6144 - val_loss: 7.7191\n",
            "Epoch 10/20\n",
            "994/994 [==============================] - 3s 3ms/step - loss: 7.6144 - val_loss: 7.7191\n",
            "Epoch 11/20\n",
            "994/994 [==============================] - 3s 3ms/step - loss: 7.6144 - val_loss: 7.7191\n",
            "497/497 [==============================] - 1s 2ms/step - loss: 7.6322\n",
            "Epoch 1/20\n",
            "994/994 [==============================] - 5s 5ms/step - loss: 7.9317 - val_loss: 7.8544\n",
            "Epoch 2/20\n",
            "994/994 [==============================] - 3s 3ms/step - loss: 8.2447 - val_loss: 8.9430\n",
            "Epoch 3/20\n",
            "994/994 [==============================] - 2s 2ms/step - loss: 8.5161 - val_loss: 8.6212\n",
            "Epoch 4/20\n",
            "994/994 [==============================] - 3s 3ms/step - loss: 8.9195 - val_loss: 9.7067\n",
            "Epoch 5/20\n",
            "994/994 [==============================] - 4s 4ms/step - loss: 9.3643 - val_loss: 9.2710\n",
            "Epoch 6/20\n",
            "994/994 [==============================] - 4s 4ms/step - loss: nan - val_loss: nan\n",
            "Epoch 7/20\n",
            "994/994 [==============================] - 4s 4ms/step - loss: nan - val_loss: nan\n",
            "Epoch 8/20\n",
            "994/994 [==============================] - 2s 2ms/step - loss: nan - val_loss: nan\n",
            "Epoch 9/20\n",
            "994/994 [==============================] - 3s 3ms/step - loss: nan - val_loss: nan\n",
            "Epoch 10/20\n",
            "994/994 [==============================] - 4s 4ms/step - loss: nan - val_loss: nan\n",
            "Epoch 11/20\n",
            "994/994 [==============================] - 3s 3ms/step - loss: nan - val_loss: nan\n",
            "497/497 [==============================] - 2s 3ms/step - loss: nan\n",
            "Epoch 1/20\n",
            "994/994 [==============================] - 4s 4ms/step - loss: 8.7881 - val_loss: 10.2180\n",
            "Epoch 2/20\n",
            "994/994 [==============================] - 2s 3ms/step - loss: 9.3776 - val_loss: 10.6026\n",
            "Epoch 3/20\n",
            "994/994 [==============================] - 4s 4ms/step - loss: 8.9726 - val_loss: 10.1286\n",
            "Epoch 4/20\n",
            "994/994 [==============================] - 3s 3ms/step - loss: 10.1411 - val_loss: 11.0216\n",
            "Epoch 5/20\n",
            "994/994 [==============================] - 3s 3ms/step - loss: 11.0183 - val_loss: 11.0216\n",
            "Epoch 6/20\n",
            "994/994 [==============================] - 4s 4ms/step - loss: 11.0183 - val_loss: 11.0216\n",
            "Epoch 7/20\n",
            "994/994 [==============================] - 4s 4ms/step - loss: 11.0183 - val_loss: 11.0216\n",
            "Epoch 8/20\n",
            "994/994 [==============================] - 4s 4ms/step - loss: 11.0183 - val_loss: 11.0216\n",
            "Epoch 9/20\n",
            "994/994 [==============================] - 3s 3ms/step - loss: 11.0183 - val_loss: 11.0216\n",
            "Epoch 10/20\n",
            "994/994 [==============================] - 3s 3ms/step - loss: 11.0183 - val_loss: 11.0216\n",
            "Epoch 11/20\n",
            "994/994 [==============================] - 4s 4ms/step - loss: 11.0183 - val_loss: 11.0216\n",
            "Epoch 12/20\n",
            "994/994 [==============================] - 4s 4ms/step - loss: 11.0183 - val_loss: 11.0216\n",
            "Epoch 13/20\n",
            "994/994 [==============================] - 4s 4ms/step - loss: 11.0183 - val_loss: 11.0216\n",
            "497/497 [==============================] - 1s 3ms/step - loss: 10.9897\n",
            "Epoch 1/20\n",
            "994/994 [==============================] - 4s 3ms/step - loss: 7.2958 - val_loss: 7.1567\n",
            "Epoch 2/20\n",
            "994/994 [==============================] - 5s 5ms/step - loss: 7.2489 - val_loss: 7.1567\n",
            "Epoch 3/20\n",
            "994/994 [==============================] - 4s 4ms/step - loss: 7.2489 - val_loss: 7.1567\n",
            "Epoch 4/20\n",
            "994/994 [==============================] - 3s 3ms/step - loss: 7.2489 - val_loss: 7.1567\n",
            "Epoch 5/20\n",
            "994/994 [==============================] - 3s 3ms/step - loss: 7.2489 - val_loss: 7.1567\n",
            "Epoch 6/20\n",
            "994/994 [==============================] - 5s 5ms/step - loss: 7.2489 - val_loss: 7.1567\n",
            "Epoch 7/20\n",
            "994/994 [==============================] - 3s 3ms/step - loss: 7.2489 - val_loss: 7.1567\n",
            "Epoch 8/20\n",
            "994/994 [==============================] - 4s 4ms/step - loss: 7.2489 - val_loss: 7.1567\n",
            "Epoch 9/20\n",
            "994/994 [==============================] - 3s 3ms/step - loss: 7.2489 - val_loss: 7.1567\n",
            "Epoch 10/20\n",
            "994/994 [==============================] - 3s 3ms/step - loss: 7.2489 - val_loss: 7.1567\n",
            "Epoch 11/20\n",
            "994/994 [==============================] - 6s 6ms/step - loss: 7.2489 - val_loss: 7.1567\n",
            "497/497 [==============================] - 1s 2ms/step - loss: 7.0858\n",
            "Epoch 1/20\n",
            "994/994 [==============================] - 4s 3ms/step - loss: 7.6379 - val_loss: 7.7515\n",
            "Epoch 2/20\n",
            "994/994 [==============================] - 4s 4ms/step - loss: 7.5909 - val_loss: 7.7515\n",
            "Epoch 3/20\n",
            "994/994 [==============================] - 3s 3ms/step - loss: 7.5909 - val_loss: 7.7515\n",
            "Epoch 4/20\n",
            "994/994 [==============================] - 3s 3ms/step - loss: 7.5909 - val_loss: 7.7515\n",
            "Epoch 5/20\n",
            "994/994 [==============================] - 5s 5ms/step - loss: 7.5909 - val_loss: 7.7515\n",
            "Epoch 6/20\n",
            "994/994 [==============================] - 4s 4ms/step - loss: 7.5909 - val_loss: 7.7515\n",
            "Epoch 7/20\n",
            "994/994 [==============================] - 4s 4ms/step - loss: 7.5909 - val_loss: 7.7515\n",
            "Epoch 8/20\n",
            "994/994 [==============================] - 4s 4ms/step - loss: 7.5909 - val_loss: 7.7515\n",
            "Epoch 9/20\n",
            "994/994 [==============================] - 4s 4ms/step - loss: 7.5909 - val_loss: 7.7515\n",
            "Epoch 10/20\n",
            "994/994 [==============================] - 3s 3ms/step - loss: 7.5909 - val_loss: 7.7515\n",
            "Epoch 11/20\n",
            "994/994 [==============================] - 3s 3ms/step - loss: 7.5909 - val_loss: 7.7515\n",
            "497/497 [==============================] - 2s 4ms/step - loss: 7.6520\n",
            "Epoch 1/20\n",
            "994/994 [==============================] - 5s 4ms/step - loss: 8.8843 - val_loss: 8.9114\n",
            "Epoch 2/20\n",
            "994/994 [==============================] - 2s 2ms/step - loss: 8.9424 - val_loss: 8.9114\n",
            "Epoch 3/20\n",
            "994/994 [==============================] - 3s 3ms/step - loss: 8.9424 - val_loss: 8.9114\n",
            "Epoch 4/20\n",
            "994/994 [==============================] - 3s 3ms/step - loss: 8.9424 - val_loss: 8.9114\n",
            "Epoch 5/20\n",
            "994/994 [==============================] - 3s 3ms/step - loss: 8.9424 - val_loss: 8.9114\n",
            "Epoch 6/20\n",
            "994/994 [==============================] - 7s 7ms/step - loss: 8.9424 - val_loss: 8.9114\n",
            "Epoch 7/20\n",
            "994/994 [==============================] - 3s 3ms/step - loss: 8.9424 - val_loss: 8.9114\n",
            "Epoch 8/20\n",
            "994/994 [==============================] - 3s 3ms/step - loss: 8.9424 - val_loss: 8.9114\n",
            "Epoch 9/20\n",
            "994/994 [==============================] - 4s 4ms/step - loss: 8.9424 - val_loss: 8.9114\n",
            "Epoch 10/20\n",
            "994/994 [==============================] - 4s 5ms/step - loss: 8.9424 - val_loss: 8.9114\n",
            "Epoch 11/20\n",
            "994/994 [==============================] - 3s 3ms/step - loss: 8.9424 - val_loss: 8.9114\n",
            "497/497 [==============================] - 1s 2ms/step - loss: 8.8423\n",
            "Epoch 1/20\n",
            "994/994 [==============================] - 6s 5ms/step - loss: 9.1682 - val_loss: 9.2291\n",
            "Epoch 2/20\n",
            "994/994 [==============================] - 4s 4ms/step - loss: 9.2357 - val_loss: 9.2291\n",
            "Epoch 3/20\n",
            "994/994 [==============================] - 4s 4ms/step - loss: 9.2357 - val_loss: 9.2291\n",
            "Epoch 4/20\n",
            "994/994 [==============================] - 3s 3ms/step - loss: 9.2352 - val_loss: 9.2291\n",
            "Epoch 5/20\n",
            "994/994 [==============================] - 3s 3ms/step - loss: 9.2357 - val_loss: 9.2291\n",
            "Epoch 6/20\n",
            "994/994 [==============================] - 4s 4ms/step - loss: 9.2357 - val_loss: 9.2291\n",
            "Epoch 7/20\n",
            "994/994 [==============================] - 3s 3ms/step - loss: 9.2357 - val_loss: 9.2291\n",
            "Epoch 8/20\n",
            "994/994 [==============================] - 4s 4ms/step - loss: 9.2352 - val_loss: 9.2291\n",
            "Epoch 9/20\n",
            "994/994 [==============================] - 4s 4ms/step - loss: 9.2357 - val_loss: 9.2291\n",
            "Epoch 10/20\n",
            "994/994 [==============================] - 3s 3ms/step - loss: 9.2357 - val_loss: 9.2291\n",
            "Epoch 11/20\n",
            "994/994 [==============================] - 3s 3ms/step - loss: 9.2357 - val_loss: 9.2291\n",
            "497/497 [==============================] - 1s 2ms/step - loss: 9.2838\n",
            "Epoch 1/20\n",
            "994/994 [==============================] - 6s 6ms/step - loss: 8.2646 - val_loss: 8.0659\n",
            "Epoch 2/20\n",
            "994/994 [==============================] - 3s 3ms/step - loss: 7.9664 - val_loss: 7.9773\n",
            "Epoch 3/20\n",
            "994/994 [==============================] - 3s 3ms/step - loss: 8.4756 - val_loss: 8.6113\n",
            "Epoch 4/20\n",
            "994/994 [==============================] - 3s 3ms/step - loss: 8.5759 - val_loss: 8.6113\n",
            "Epoch 5/20\n",
            "994/994 [==============================] - 3s 3ms/step - loss: 8.5759 - val_loss: 8.6113\n",
            "Epoch 6/20\n",
            "994/994 [==============================] - 5s 5ms/step - loss: 8.5759 - val_loss: 8.6113\n",
            "Epoch 7/20\n",
            "994/994 [==============================] - 4s 4ms/step - loss: 8.5759 - val_loss: 8.6113\n",
            "Epoch 8/20\n",
            "994/994 [==============================] - 3s 3ms/step - loss: 8.5759 - val_loss: 8.6113\n",
            "Epoch 9/20\n",
            "994/994 [==============================] - 3s 3ms/step - loss: 8.5759 - val_loss: 8.6113\n",
            "Epoch 10/20\n",
            "994/994 [==============================] - 4s 4ms/step - loss: 8.5759 - val_loss: 8.6113\n",
            "Epoch 11/20\n",
            "994/994 [==============================] - 5s 5ms/step - loss: 8.5759 - val_loss: 8.6113\n",
            "Epoch 12/20\n",
            "994/994 [==============================] - 3s 3ms/step - loss: 8.5759 - val_loss: 8.6113\n",
            "497/497 [==============================] - 1s 1ms/step - loss: 8.6578\n",
            "Epoch 1/20\n",
            "994/994 [==============================] - 5s 4ms/step - loss: 8.8297 - val_loss: 9.2354\n",
            "Epoch 2/20\n",
            "994/994 [==============================] - 5s 5ms/step - loss: 8.5595 - val_loss: 9.2450\n",
            "Epoch 3/20\n",
            "994/994 [==============================] - 3s 3ms/step - loss: 8.4841 - val_loss: 9.2153\n",
            "Epoch 4/20\n",
            "994/994 [==============================] - 4s 4ms/step - loss: 9.4195 - val_loss: 10.1152\n",
            "Epoch 5/20\n",
            "994/994 [==============================] - 3s 3ms/step - loss: 8.6967 - val_loss: 8.6654\n",
            "Epoch 6/20\n",
            "994/994 [==============================] - 5s 5ms/step - loss: 7.6472 - val_loss: 6.6403\n",
            "Epoch 7/20\n",
            "994/994 [==============================] - 4s 4ms/step - loss: 6.5750 - val_loss: 6.6403\n",
            "Epoch 8/20\n",
            "994/994 [==============================] - 4s 4ms/step - loss: 6.5750 - val_loss: 6.6403\n",
            "Epoch 9/20\n",
            "994/994 [==============================] - 3s 3ms/step - loss: 6.5750 - val_loss: 6.6403\n",
            "Epoch 10/20\n",
            "994/994 [==============================] - 3s 3ms/step - loss: 6.5750 - val_loss: 6.6403\n",
            "Epoch 11/20\n",
            "994/994 [==============================] - 5s 5ms/step - loss: 6.5750 - val_loss: 6.6403\n",
            "Epoch 12/20\n",
            "994/994 [==============================] - 3s 3ms/step - loss: 6.5750 - val_loss: 6.6403\n",
            "Epoch 13/20\n",
            "994/994 [==============================] - 3s 3ms/step - loss: 6.5750 - val_loss: 6.6403\n",
            "Epoch 14/20\n",
            "994/994 [==============================] - 3s 3ms/step - loss: 6.5750 - val_loss: 6.6403\n",
            "Epoch 15/20\n",
            "994/994 [==============================] - 4s 4ms/step - loss: 6.5750 - val_loss: 6.6403\n",
            "Epoch 16/20\n",
            "994/994 [==============================] - 3s 3ms/step - loss: 6.5750 - val_loss: 6.6403\n",
            "497/497 [==============================] - 1s 2ms/step - loss: 6.6523\n",
            "Epoch 1/20\n",
            "994/994 [==============================] - 6s 6ms/step - loss: 7.1936 - val_loss: 10.9229\n",
            "Epoch 2/20\n",
            "994/994 [==============================] - 6s 6ms/step - loss: 10.8828 - val_loss: 10.9229\n",
            "Epoch 3/20\n",
            "994/994 [==============================] - 3s 3ms/step - loss: 10.8828 - val_loss: 10.9229\n",
            "Epoch 4/20\n",
            "994/994 [==============================] - 4s 5ms/step - loss: 10.8828 - val_loss: 10.9229\n",
            "Epoch 5/20\n",
            "994/994 [==============================] - 4s 4ms/step - loss: 10.8828 - val_loss: 10.9229\n",
            "Epoch 6/20\n",
            "994/994 [==============================] - 3s 3ms/step - loss: 10.8828 - val_loss: 10.9229\n",
            "Epoch 7/20\n",
            "994/994 [==============================] - 4s 4ms/step - loss: 10.8828 - val_loss: 10.9229\n",
            "Epoch 8/20\n",
            "994/994 [==============================] - 4s 4ms/step - loss: 10.8828 - val_loss: 10.9229\n",
            "Epoch 9/20\n",
            "994/994 [==============================] - 4s 4ms/step - loss: 10.8828 - val_loss: 10.9229\n",
            "Epoch 10/20\n",
            "994/994 [==============================] - 6s 6ms/step - loss: 10.8828 - val_loss: 10.9229\n",
            "Epoch 11/20\n",
            "994/994 [==============================] - 4s 4ms/step - loss: 10.8828 - val_loss: 10.9229\n",
            "497/497 [==============================] - 1s 2ms/step - loss: 11.0073\n",
            "Epoch 1/20\n",
            "994/994 [==============================] - 9s 7ms/step - loss: 10.3042 - val_loss: 10.8608\n",
            "Epoch 2/20\n",
            "994/994 [==============================] - 3s 3ms/step - loss: 10.7369 - val_loss: 10.8608\n",
            "Epoch 3/20\n",
            "994/994 [==============================] - 3s 3ms/step - loss: 10.7369 - val_loss: 10.8608\n",
            "Epoch 4/20\n",
            "994/994 [==============================] - 4s 4ms/step - loss: 10.7369 - val_loss: 10.8608\n",
            "Epoch 5/20\n",
            "994/994 [==============================] - 4s 4ms/step - loss: 10.7369 - val_loss: 10.8608\n",
            "Epoch 6/20\n",
            "994/994 [==============================] - 3s 3ms/step - loss: 10.7369 - val_loss: 10.8608\n",
            "Epoch 7/20\n",
            "994/994 [==============================] - 3s 3ms/step - loss: 10.7369 - val_loss: 10.8608\n",
            "Epoch 8/20\n",
            "994/994 [==============================] - 3s 3ms/step - loss: 10.7369 - val_loss: 10.8608\n",
            "Epoch 9/20\n",
            "994/994 [==============================] - 3s 3ms/step - loss: 10.7369 - val_loss: 10.8608\n",
            "Epoch 10/20\n",
            "994/994 [==============================] - 6s 6ms/step - loss: 10.7369 - val_loss: 10.8608\n",
            "Epoch 11/20\n",
            "994/994 [==============================] - 3s 3ms/step - loss: 10.7369 - val_loss: 10.8608\n",
            "497/497 [==============================] - 1s 2ms/step - loss: 10.8062\n",
            "Epoch 1/20\n",
            "994/994 [==============================] - 5s 4ms/step - loss: 9.2436 - val_loss: 9.4021\n",
            "Epoch 2/20\n",
            "994/994 [==============================] - 5s 5ms/step - loss: 9.3423 - val_loss: 9.4021\n",
            "Epoch 3/20\n",
            "994/994 [==============================] - 5s 5ms/step - loss: 9.3424 - val_loss: 9.4021\n",
            "Epoch 4/20\n",
            "994/994 [==============================] - 4s 4ms/step - loss: 9.3423 - val_loss: 9.4021\n",
            "Epoch 5/20\n",
            "994/994 [==============================] - 3s 3ms/step - loss: 9.3424 - val_loss: 9.4021\n",
            "Epoch 6/20\n",
            "994/994 [==============================] - 6s 6ms/step - loss: 9.3424 - val_loss: 9.4021\n",
            "Epoch 7/20\n",
            "994/994 [==============================] - 3s 3ms/step - loss: 9.3424 - val_loss: 9.4021\n",
            "Epoch 8/20\n",
            "994/994 [==============================] - 4s 4ms/step - loss: 9.3423 - val_loss: 9.4021\n",
            "Epoch 9/20\n",
            "994/994 [==============================] - 7s 7ms/step - loss: 9.3424 - val_loss: 9.4021\n",
            "Epoch 10/20\n",
            "994/994 [==============================] - 5s 5ms/step - loss: 9.3424 - val_loss: 9.4021\n",
            "Epoch 11/20\n",
            "994/994 [==============================] - 3s 3ms/step - loss: 9.3423 - val_loss: 9.4021\n",
            "497/497 [==============================] - 2s 5ms/step - loss: 9.2144\n",
            "Epoch 1/20\n",
            "994/994 [==============================] - 7s 7ms/step - loss: 11.0911 - val_loss: 11.6989\n",
            "Epoch 2/20\n",
            "994/994 [==============================] - 3s 3ms/step - loss: 11.6523 - val_loss: 11.6989\n",
            "Epoch 3/20\n",
            "994/994 [==============================] - 4s 4ms/step - loss: 11.6523 - val_loss: 11.6989\n",
            "Epoch 4/20\n",
            "994/994 [==============================] - 5s 5ms/step - loss: 11.6523 - val_loss: 11.6989\n",
            "Epoch 5/20\n",
            "994/994 [==============================] - 4s 4ms/step - loss: 11.6523 - val_loss: 11.6989\n",
            "Epoch 6/20\n",
            "994/994 [==============================] - 3s 3ms/step - loss: 11.6523 - val_loss: 11.6989\n",
            "Epoch 7/20\n",
            "994/994 [==============================] - 5s 5ms/step - loss: 11.6523 - val_loss: 11.6989\n",
            "Epoch 8/20\n",
            "994/994 [==============================] - 3s 3ms/step - loss: 11.6523 - val_loss: 11.6989\n",
            "Epoch 9/20\n",
            "994/994 [==============================] - 4s 4ms/step - loss: 11.6523 - val_loss: 11.6989\n",
            "Epoch 10/20\n",
            "994/994 [==============================] - 3s 3ms/step - loss: 11.6523 - val_loss: 11.6989\n",
            "Epoch 11/20\n",
            "994/994 [==============================] - 4s 4ms/step - loss: 11.6523 - val_loss: 11.6989\n",
            "497/497 [==============================] - 1s 3ms/step - loss: 11.6835\n",
            "Epoch 1/20\n",
            "994/994 [==============================] - 4s 4ms/step - loss: 9.6185 - val_loss: 10.0970\n",
            "Epoch 2/20\n",
            "994/994 [==============================] - 5s 5ms/step - loss: 10.0181 - val_loss: 10.0970\n",
            "Epoch 3/20\n",
            "994/994 [==============================] - 7s 7ms/step - loss: 10.0181 - val_loss: 10.0970\n",
            "Epoch 4/20\n",
            "994/994 [==============================] - 6s 6ms/step - loss: 10.0181 - val_loss: 10.0970\n",
            "Epoch 5/20\n",
            "994/994 [==============================] - 5s 5ms/step - loss: 10.0181 - val_loss: 10.0970\n",
            "Epoch 6/20\n",
            "994/994 [==============================] - 3s 3ms/step - loss: 10.0181 - val_loss: 10.0970\n",
            "Epoch 7/20\n",
            "994/994 [==============================] - 4s 4ms/step - loss: 10.0181 - val_loss: 10.0970\n",
            "Epoch 8/20\n",
            "994/994 [==============================] - 3s 3ms/step - loss: 10.0181 - val_loss: 10.0970\n",
            "Epoch 9/20\n",
            "994/994 [==============================] - 3s 3ms/step - loss: 10.0181 - val_loss: 10.0970\n",
            "Epoch 10/20\n",
            "994/994 [==============================] - 5s 5ms/step - loss: 10.0181 - val_loss: 10.0970\n",
            "Epoch 11/20\n",
            "994/994 [==============================] - 3s 3ms/step - loss: 10.0181 - val_loss: 10.0970\n",
            "497/497 [==============================] - 2s 4ms/step - loss: 10.0204\n",
            "Epoch 1/20\n",
            "994/994 [==============================] - 5s 4ms/step - loss: 8.1425 - val_loss: 8.0746\n",
            "Epoch 2/20\n",
            "994/994 [==============================] - 4s 4ms/step - loss: 8.1090 - val_loss: 8.0746\n",
            "Epoch 3/20\n",
            "994/994 [==============================] - 3s 3ms/step - loss: 8.1090 - val_loss: 8.0746\n",
            "Epoch 4/20\n",
            "994/994 [==============================] - 4s 4ms/step - loss: 8.1090 - val_loss: 8.0746\n",
            "Epoch 5/20\n",
            "994/994 [==============================] - 4s 4ms/step - loss: 8.1090 - val_loss: 8.0746\n",
            "Epoch 6/20\n",
            "994/994 [==============================] - 5s 5ms/step - loss: 8.1090 - val_loss: 8.0746\n",
            "Epoch 7/20\n",
            "994/994 [==============================] - 4s 4ms/step - loss: 8.1090 - val_loss: 8.0746\n",
            "Epoch 8/20\n",
            "994/994 [==============================] - 5s 5ms/step - loss: 8.1090 - val_loss: 8.0746\n",
            "Epoch 9/20\n",
            "994/994 [==============================] - 3s 3ms/step - loss: 8.1090 - val_loss: 8.0746\n",
            "Epoch 10/20\n",
            "994/994 [==============================] - 3s 3ms/step - loss: 8.1090 - val_loss: 8.0746\n",
            "Epoch 11/20\n",
            "994/994 [==============================] - 4s 4ms/step - loss: 8.1090 - val_loss: 8.0746\n",
            "497/497 [==============================] - 1s 2ms/step - loss: 8.2816\n",
            "Epoch 1/20\n",
            "994/994 [==============================] - 4s 3ms/step - loss: 10.4283 - val_loss: 10.8689\n",
            "Epoch 2/20\n",
            "994/994 [==============================] - 4s 4ms/step - loss: 10.8823 - val_loss: 10.8689\n",
            "Epoch 3/20\n",
            "994/994 [==============================] - 3s 3ms/step - loss: 10.8823 - val_loss: 10.8689\n",
            "Epoch 4/20\n",
            "994/994 [==============================] - 4s 4ms/step - loss: 10.8823 - val_loss: 10.8689\n",
            "Epoch 5/20\n",
            "994/994 [==============================] - 5s 5ms/step - loss: 10.8823 - val_loss: 10.8689\n",
            "Epoch 6/20\n",
            "994/994 [==============================] - 4s 4ms/step - loss: 10.8823 - val_loss: 10.8689\n",
            "Epoch 7/20\n",
            "994/994 [==============================] - 4s 4ms/step - loss: 10.8823 - val_loss: 10.8689\n",
            "Epoch 8/20\n",
            "994/994 [==============================] - 5s 5ms/step - loss: 10.8823 - val_loss: 10.8689\n",
            "Epoch 9/20\n",
            "994/994 [==============================] - 4s 4ms/step - loss: 10.8823 - val_loss: 10.8689\n",
            "Epoch 10/20\n",
            "994/994 [==============================] - 3s 3ms/step - loss: 10.8823 - val_loss: 10.8689\n",
            "Epoch 11/20\n",
            "994/994 [==============================] - 4s 4ms/step - loss: 10.8823 - val_loss: 10.8689\n",
            "497/497 [==============================] - 1s 2ms/step - loss: 10.8481\n",
            "Epoch 1/20\n",
            "994/994 [==============================] - 4s 3ms/step - loss: 8.0033 - val_loss: 7.5541\n",
            "Epoch 2/20\n",
            "994/994 [==============================] - 4s 4ms/step - loss: 7.5726 - val_loss: 7.5541\n",
            "Epoch 3/20\n",
            "994/994 [==============================] - 4s 4ms/step - loss: 7.5726 - val_loss: 7.5541\n",
            "Epoch 4/20\n",
            "994/994 [==============================] - 4s 4ms/step - loss: 7.5726 - val_loss: 7.5541\n",
            "Epoch 5/20\n",
            "994/994 [==============================] - 4s 4ms/step - loss: 7.5726 - val_loss: 7.5541\n",
            "Epoch 6/20\n",
            "994/994 [==============================] - 3s 3ms/step - loss: 7.5726 - val_loss: 7.5541\n",
            "Epoch 7/20\n",
            "994/994 [==============================] - 4s 4ms/step - loss: 7.5726 - val_loss: 7.5541\n",
            "Epoch 8/20\n",
            "994/994 [==============================] - 5s 5ms/step - loss: 7.5726 - val_loss: 7.5541\n",
            "Epoch 9/20\n",
            "994/994 [==============================] - 4s 4ms/step - loss: 7.5726 - val_loss: 7.5541\n",
            "Epoch 10/20\n",
            "994/994 [==============================] - 4s 4ms/step - loss: 7.5726 - val_loss: 7.5541\n",
            "Epoch 11/20\n",
            "994/994 [==============================] - 4s 4ms/step - loss: 7.5726 - val_loss: 7.5541\n",
            "497/497 [==============================] - 1s 3ms/step - loss: 7.6155\n",
            "Epoch 1/20\n",
            "994/994 [==============================] - 5s 4ms/step - loss: 8.4389 - val_loss: 8.3693\n",
            "Epoch 2/20\n",
            "994/994 [==============================] - 3s 3ms/step - loss: 8.5110 - val_loss: 8.3693\n",
            "Epoch 3/20\n",
            "994/994 [==============================] - 4s 4ms/step - loss: 8.5110 - val_loss: 8.3693\n",
            "Epoch 4/20\n",
            "994/994 [==============================] - 3s 3ms/step - loss: 8.5110 - val_loss: 8.3693\n",
            "Epoch 5/20\n",
            "994/994 [==============================] - 3s 3ms/step - loss: 8.5110 - val_loss: 8.3693\n",
            "Epoch 6/20\n",
            "994/994 [==============================] - 5s 5ms/step - loss: 8.5110 - val_loss: 8.3693\n",
            "Epoch 7/20\n",
            "994/994 [==============================] - 3s 3ms/step - loss: 8.5110 - val_loss: 8.3693\n",
            "Epoch 8/20\n",
            "994/994 [==============================] - 3s 3ms/step - loss: 8.5110 - val_loss: 8.3693\n",
            "Epoch 9/20\n",
            "994/994 [==============================] - 4s 4ms/step - loss: 8.5110 - val_loss: 8.3693\n",
            "Epoch 10/20\n",
            "994/994 [==============================] - 3s 3ms/step - loss: 8.5110 - val_loss: 8.3693\n",
            "Epoch 11/20\n",
            "994/994 [==============================] - 4s 4ms/step - loss: 8.5110 - val_loss: 8.3693\n",
            "497/497 [==============================] - 2s 3ms/step - loss: 8.6496\n",
            "Epoch 1/20\n",
            "994/994 [==============================] - 5s 4ms/step - loss: 8.5151 - val_loss: 9.0155\n",
            "Epoch 2/20\n",
            "994/994 [==============================] - 3s 3ms/step - loss: 8.2204 - val_loss: 8.0560\n",
            "Epoch 3/20\n",
            "994/994 [==============================] - 4s 4ms/step - loss: 8.1182 - val_loss: 7.9083\n",
            "Epoch 4/20\n",
            "994/994 [==============================] - 3s 3ms/step - loss: 7.9765 - val_loss: 7.7691\n",
            "Epoch 5/20\n",
            "994/994 [==============================] - 2s 2ms/step - loss: 7.7696 - val_loss: 7.7691\n",
            "Epoch 6/20\n",
            "994/994 [==============================] - 3s 3ms/step - loss: 7.7696 - val_loss: 7.7691\n",
            "Epoch 7/20\n",
            "994/994 [==============================] - 4s 4ms/step - loss: 7.7696 - val_loss: 7.7691\n",
            "Epoch 8/20\n",
            "994/994 [==============================] - 3s 3ms/step - loss: 7.7696 - val_loss: 7.7691\n",
            "Epoch 9/20\n",
            "994/994 [==============================] - 3s 3ms/step - loss: 7.7696 - val_loss: 7.7691\n",
            "Epoch 10/20\n",
            "994/994 [==============================] - 4s 4ms/step - loss: 7.7696 - val_loss: 7.7691\n",
            "Epoch 11/20\n",
            "994/994 [==============================] - 5s 5ms/step - loss: 7.7696 - val_loss: 7.7691\n",
            "Epoch 12/20\n",
            "994/994 [==============================] - 3s 3ms/step - loss: 7.7696 - val_loss: 7.7691\n",
            "Epoch 13/20\n",
            "994/994 [==============================] - 3s 3ms/step - loss: 7.7696 - val_loss: 7.7691\n",
            "Epoch 14/20\n",
            "994/994 [==============================] - 3s 3ms/step - loss: 7.7696 - val_loss: 7.7691\n",
            "497/497 [==============================] - 2s 3ms/step - loss: 7.8644\n",
            "Epoch 1/20\n",
            "994/994 [==============================] - 5s 5ms/step - loss: 8.6480 - val_loss: 8.2863\n",
            "Epoch 2/20\n",
            "994/994 [==============================] - 3s 3ms/step - loss: 8.1755 - val_loss: 8.6842\n",
            "Epoch 3/20\n",
            "994/994 [==============================] - 4s 4ms/step - loss: 7.8959 - val_loss: 7.5948\n",
            "Epoch 4/20\n",
            "994/994 [==============================] - 3s 3ms/step - loss: 7.9052 - val_loss: 6.9719\n",
            "Epoch 5/20\n",
            "994/994 [==============================] - 2s 2ms/step - loss: 7.7832 - val_loss: 7.6975\n",
            "Epoch 6/20\n",
            "994/994 [==============================] - 3s 3ms/step - loss: 7.8743 - val_loss: 7.8063\n",
            "Epoch 7/20\n",
            "994/994 [==============================] - 4s 4ms/step - loss: 9.1763 - val_loss: 7.1752\n",
            "Epoch 8/20\n",
            "994/994 [==============================] - 4s 4ms/step - loss: 7.9153 - val_loss: 8.1300\n",
            "Epoch 9/20\n",
            "994/994 [==============================] - 3s 3ms/step - loss: 7.8239 - val_loss: 7.8272\n",
            "Epoch 10/20\n",
            "994/994 [==============================] - 3s 3ms/step - loss: 7.7234 - val_loss: 9.0912\n",
            "Epoch 11/20\n",
            "994/994 [==============================] - 3s 3ms/step - loss: 7.5723 - val_loss: 7.4007\n",
            "Epoch 12/20\n",
            "994/994 [==============================] - 4s 4ms/step - loss: 7.5157 - val_loss: 6.9600\n",
            "Epoch 13/20\n",
            "994/994 [==============================] - 3s 3ms/step - loss: 7.8074 - val_loss: 6.9531\n",
            "Epoch 14/20\n",
            "994/994 [==============================] - 4s 4ms/step - loss: 7.4338 - val_loss: 6.9632\n",
            "Epoch 15/20\n",
            "994/994 [==============================] - 4s 4ms/step - loss: 7.7448 - val_loss: 8.2182\n",
            "Epoch 16/20\n",
            "994/994 [==============================] - 3s 3ms/step - loss: 7.4675 - val_loss: 7.8042\n",
            "Epoch 17/20\n",
            "994/994 [==============================] - 2s 2ms/step - loss: 7.5703 - val_loss: 7.1371\n",
            "Epoch 18/20\n",
            "994/994 [==============================] - 2s 2ms/step - loss: 7.1740 - val_loss: 7.0419\n",
            "Epoch 19/20\n",
            "994/994 [==============================] - 2s 2ms/step - loss: 7.0277 - val_loss: 7.0419\n",
            "Epoch 20/20\n",
            "994/994 [==============================] - 4s 4ms/step - loss: 7.0277 - val_loss: 7.0419\n",
            "497/497 [==============================] - 1s 2ms/step - loss: 7.0720\n",
            "Epoch 1/20\n",
            "994/994 [==============================] - 4s 4ms/step - loss: 7.8613 - val_loss: 8.2533\n",
            "Epoch 2/20\n",
            "994/994 [==============================] - 8s 8ms/step - loss: 8.1258 - val_loss: 7.7420\n",
            "Epoch 3/20\n",
            "994/994 [==============================] - 3s 3ms/step - loss: 8.3427 - val_loss: 8.1830\n",
            "Epoch 4/20\n",
            "994/994 [==============================] - 3s 3ms/step - loss: 7.9628 - val_loss: 8.0051\n",
            "Epoch 5/20\n",
            "994/994 [==============================] - 4s 4ms/step - loss: 8.0008 - val_loss: 8.3314\n",
            "Epoch 6/20\n",
            "994/994 [==============================] - 4s 4ms/step - loss: 8.1402 - val_loss: 8.3238\n",
            "Epoch 7/20\n",
            "994/994 [==============================] - 3s 3ms/step - loss: 7.9972 - val_loss: 8.3027\n",
            "Epoch 8/20\n",
            "994/994 [==============================] - 3s 3ms/step - loss: 8.1525 - val_loss: 7.6444\n",
            "Epoch 9/20\n",
            "994/994 [==============================] - 4s 4ms/step - loss: 8.2219 - val_loss: 8.4407\n",
            "Epoch 10/20\n",
            "994/994 [==============================] - 4s 4ms/step - loss: 8.2306 - val_loss: 8.3680\n",
            "Epoch 11/20\n",
            "994/994 [==============================] - 4s 4ms/step - loss: 8.3938 - val_loss: 8.3917\n",
            "Epoch 12/20\n",
            "994/994 [==============================] - 4s 4ms/step - loss: 8.3305 - val_loss: 8.3790\n",
            "Epoch 13/20\n",
            "994/994 [==============================] - 6s 6ms/step - loss: 7.8798 - val_loss: 7.7513\n",
            "Epoch 14/20\n",
            "994/994 [==============================] - 3s 3ms/step - loss: 7.8571 - val_loss: 8.3080\n",
            "Epoch 15/20\n",
            "994/994 [==============================] - 5s 5ms/step - loss: 8.2156 - val_loss: 7.5557\n",
            "Epoch 16/20\n",
            "994/994 [==============================] - 3s 3ms/step - loss: 8.0365 - val_loss: 8.0047\n",
            "Epoch 17/20\n",
            "994/994 [==============================] - 5s 5ms/step - loss: 7.7449 - val_loss: 8.0307\n",
            "Epoch 18/20\n",
            "994/994 [==============================] - 8s 8ms/step - loss: 7.8054 - val_loss: 8.1286\n",
            "Epoch 19/20\n",
            "994/994 [==============================] - 2s 2ms/step - loss: 7.8567 - val_loss: 7.7098\n",
            "Epoch 20/20\n",
            "994/994 [==============================] - 3s 3ms/step - loss: 7.8450 - val_loss: 7.9100\n",
            "497/497 [==============================] - 1s 2ms/step - loss: 8.0565\n",
            "Epoch 1/20\n",
            "994/994 [==============================] - 5s 4ms/step - loss: 8.7915 - val_loss: 8.3803\n",
            "Epoch 2/20\n",
            "994/994 [==============================] - 4s 4ms/step - loss: 8.3006 - val_loss: 7.0094\n",
            "Epoch 3/20\n",
            "994/994 [==============================] - 4s 4ms/step - loss: 8.4275 - val_loss: 7.6977\n",
            "Epoch 4/20\n",
            "994/994 [==============================] - 3s 3ms/step - loss: 7.7502 - val_loss: 8.6177\n",
            "Epoch 5/20\n",
            "994/994 [==============================] - 5s 5ms/step - loss: 7.3191 - val_loss: 7.2000\n",
            "Epoch 6/20\n",
            "994/994 [==============================] - 3s 3ms/step - loss: 7.1734 - val_loss: 7.2000\n",
            "Epoch 7/20\n",
            "994/994 [==============================] - 4s 4ms/step - loss: 7.1734 - val_loss: 7.2000\n",
            "Epoch 8/20\n",
            "994/994 [==============================] - 4s 4ms/step - loss: 7.1734 - val_loss: 7.2000\n",
            "Epoch 9/20\n",
            "994/994 [==============================] - 4s 4ms/step - loss: 7.1734 - val_loss: 7.2000\n",
            "Epoch 10/20\n",
            "994/994 [==============================] - 5s 5ms/step - loss: 7.1734 - val_loss: 7.2000\n",
            "Epoch 11/20\n",
            "994/994 [==============================] - 4s 4ms/step - loss: 7.1734 - val_loss: 7.2000\n",
            "Epoch 12/20\n",
            "994/994 [==============================] - 4s 4ms/step - loss: 7.1734 - val_loss: 7.2000\n",
            "497/497 [==============================] - 2s 4ms/step - loss: 7.1395\n",
            "Epoch 1/20\n",
            "994/994 [==============================] - 5s 3ms/step - loss: 8.6771 - val_loss: 8.1598\n",
            "Epoch 2/20\n",
            "994/994 [==============================] - 3s 3ms/step - loss: 10.6428 - val_loss: 10.7296\n",
            "Epoch 3/20\n",
            "994/994 [==============================] - 4s 4ms/step - loss: 10.6959 - val_loss: 10.7296\n",
            "Epoch 4/20\n",
            "994/994 [==============================] - 3s 3ms/step - loss: 10.6959 - val_loss: 10.7296\n",
            "Epoch 5/20\n",
            "994/994 [==============================] - 3s 3ms/step - loss: 10.6959 - val_loss: 10.7296\n",
            "Epoch 6/20\n",
            "994/994 [==============================] - 5s 5ms/step - loss: 10.6959 - val_loss: 10.7296\n",
            "Epoch 7/20\n",
            "994/994 [==============================] - 3s 3ms/step - loss: 10.6959 - val_loss: 10.7296\n",
            "Epoch 8/20\n",
            "994/994 [==============================] - 3s 3ms/step - loss: 10.6959 - val_loss: 10.7296\n",
            "Epoch 9/20\n",
            "994/994 [==============================] - 4s 4ms/step - loss: 10.6959 - val_loss: 10.7296\n",
            "Epoch 10/20\n",
            "994/994 [==============================] - 4s 4ms/step - loss: 10.6959 - val_loss: 10.7296\n",
            "Epoch 11/20\n",
            "994/994 [==============================] - 4s 4ms/step - loss: 10.6959 - val_loss: 10.7296\n",
            "497/497 [==============================] - 1s 3ms/step - loss: 10.7505\n",
            "Epoch 1/20\n",
            "994/994 [==============================] - 4s 3ms/step - loss: 8.3154 - val_loss: 8.3639\n",
            "Epoch 2/20\n",
            "994/994 [==============================] - 3s 3ms/step - loss: 8.3792 - val_loss: 8.3639\n",
            "Epoch 3/20\n",
            "994/994 [==============================] - 4s 4ms/step - loss: 8.3792 - val_loss: 8.3639\n",
            "Epoch 4/20\n",
            "994/994 [==============================] - 4s 4ms/step - loss: 8.3792 - val_loss: 8.3639\n",
            "Epoch 5/20\n",
            "994/994 [==============================] - 4s 4ms/step - loss: 8.3792 - val_loss: 8.3639\n",
            "Epoch 6/20\n",
            "994/994 [==============================] - 2s 2ms/step - loss: 8.3792 - val_loss: 8.3639\n",
            "Epoch 7/20\n",
            "994/994 [==============================] - 3s 3ms/step - loss: 8.3792 - val_loss: 8.3639\n",
            "Epoch 8/20\n",
            "994/994 [==============================] - 3s 3ms/step - loss: 8.3792 - val_loss: 8.3639\n",
            "Epoch 9/20\n",
            "994/994 [==============================] - 3s 3ms/step - loss: 8.3792 - val_loss: 8.3639\n",
            "Epoch 10/20\n",
            "994/994 [==============================] - 2s 2ms/step - loss: 8.3792 - val_loss: 8.3639\n",
            "Epoch 11/20\n",
            "994/994 [==============================] - 5s 5ms/step - loss: 8.3792 - val_loss: 8.3639\n",
            "497/497 [==============================] - 1s 2ms/step - loss: 8.3120\n",
            "Epoch 1/20\n",
            "994/994 [==============================] - 4s 3ms/step - loss: 7.2059 - val_loss: 6.9553\n",
            "Epoch 2/20\n",
            "994/994 [==============================] - 5s 5ms/step - loss: 7.0801 - val_loss: 6.9553\n",
            "Epoch 3/20\n",
            "994/994 [==============================] - 3s 3ms/step - loss: 7.0801 - val_loss: 6.9553\n",
            "Epoch 4/20\n",
            "994/994 [==============================] - 3s 3ms/step - loss: 7.0801 - val_loss: 6.9553\n",
            "Epoch 5/20\n",
            "994/994 [==============================] - 3s 3ms/step - loss: 7.0801 - val_loss: 6.9553\n",
            "Epoch 6/20\n",
            "994/994 [==============================] - 4s 4ms/step - loss: 7.0801 - val_loss: 6.9553\n",
            "Epoch 7/20\n",
            "994/994 [==============================] - 4s 4ms/step - loss: 7.0801 - val_loss: 6.9553\n",
            "Epoch 8/20\n",
            "994/994 [==============================] - 6s 6ms/step - loss: 7.0801 - val_loss: 6.9553\n",
            "Epoch 9/20\n",
            "994/994 [==============================] - 4s 4ms/step - loss: 7.0801 - val_loss: 6.9553\n",
            "Epoch 10/20\n",
            "994/994 [==============================] - 4s 4ms/step - loss: 7.0801 - val_loss: 6.9553\n",
            "Epoch 11/20\n",
            "994/994 [==============================] - 5s 5ms/step - loss: 7.0801 - val_loss: 6.9553\n",
            "497/497 [==============================] - 2s 4ms/step - loss: 7.1081\n",
            "Epoch 1/20\n",
            "994/994 [==============================] - 5s 4ms/step - loss: 8.1983 - val_loss: 8.6221\n",
            "Epoch 2/20\n",
            "994/994 [==============================] - 4s 4ms/step - loss: 8.6260 - val_loss: 8.6221\n",
            "Epoch 3/20\n",
            "994/994 [==============================] - 4s 4ms/step - loss: 8.6260 - val_loss: 8.6221\n",
            "Epoch 4/20\n",
            "994/994 [==============================] - 4s 4ms/step - loss: 8.6260 - val_loss: 8.6221\n",
            "Epoch 5/20\n",
            "994/994 [==============================] - 3s 3ms/step - loss: 8.6261 - val_loss: 8.6221\n",
            "Epoch 6/20\n",
            "994/994 [==============================] - 4s 4ms/step - loss: 8.6260 - val_loss: 8.6221\n",
            "Epoch 7/20\n",
            "994/994 [==============================] - 5s 5ms/step - loss: 8.6260 - val_loss: 8.6221\n",
            "Epoch 8/20\n",
            "994/994 [==============================] - 4s 4ms/step - loss: 8.6261 - val_loss: 8.6221\n",
            "Epoch 9/20\n",
            "994/994 [==============================] - 4s 4ms/step - loss: 8.6260 - val_loss: 8.6221\n",
            "Epoch 10/20\n",
            "994/994 [==============================] - 5s 5ms/step - loss: 8.6260 - val_loss: 8.6221\n",
            "Epoch 11/20\n",
            "994/994 [==============================] - 4s 4ms/step - loss: 8.6260 - val_loss: 8.6221\n",
            "497/497 [==============================] - 1s 2ms/step - loss: 8.6851\n",
            "Epoch 1/20\n",
            "994/994 [==============================] - 6s 5ms/step - loss: 8.4711 - val_loss: 8.6856\n",
            "Epoch 2/20\n",
            "994/994 [==============================] - 4s 4ms/step - loss: 8.6453 - val_loss: 8.6856\n",
            "Epoch 3/20\n",
            "994/994 [==============================] - 4s 4ms/step - loss: 8.6453 - val_loss: 8.6856\n",
            "Epoch 4/20\n",
            "994/994 [==============================] - 4s 4ms/step - loss: 8.6453 - val_loss: 8.6856\n",
            "Epoch 5/20\n",
            "994/994 [==============================] - 5s 5ms/step - loss: 8.6453 - val_loss: 8.6856\n",
            "Epoch 6/20\n",
            "994/994 [==============================] - 4s 4ms/step - loss: 8.6453 - val_loss: 8.6856\n",
            "Epoch 7/20\n",
            "994/994 [==============================] - 5s 5ms/step - loss: 8.6453 - val_loss: 8.6856\n",
            "Epoch 8/20\n",
            "994/994 [==============================] - 3s 3ms/step - loss: 8.6453 - val_loss: 8.6856\n",
            "Epoch 9/20\n",
            "994/994 [==============================] - 4s 4ms/step - loss: 8.6453 - val_loss: 8.6856\n",
            "Epoch 10/20\n",
            "994/994 [==============================] - 4s 4ms/step - loss: 8.6453 - val_loss: 8.6856\n",
            "Epoch 11/20\n",
            "994/994 [==============================] - 4s 4ms/step - loss: 8.6453 - val_loss: 8.6856\n",
            "497/497 [==============================] - 1s 1ms/step - loss: 8.5219\n",
            "Epoch 1/20\n",
            "994/994 [==============================] - 5s 4ms/step - loss: 8.3070 - val_loss: 8.2568\n",
            "Epoch 2/20\n",
            "994/994 [==============================] - 3s 3ms/step - loss: 8.4856 - val_loss: 8.9711\n",
            "Epoch 3/20\n",
            "994/994 [==============================] - 7s 7ms/step - loss: 8.3101 - val_loss: 7.7245\n",
            "Epoch 4/20\n",
            "994/994 [==============================] - 6s 6ms/step - loss: 7.6084 - val_loss: 7.7245\n",
            "Epoch 5/20\n",
            "994/994 [==============================] - 3s 3ms/step - loss: 7.6084 - val_loss: 7.7245\n",
            "Epoch 6/20\n",
            "994/994 [==============================] - 3s 3ms/step - loss: 7.6084 - val_loss: 7.7245\n",
            "Epoch 7/20\n",
            "994/994 [==============================] - 5s 5ms/step - loss: 7.6084 - val_loss: 7.7245\n",
            "Epoch 8/20\n",
            "994/994 [==============================] - 4s 4ms/step - loss: 7.6084 - val_loss: 7.7245\n",
            "Epoch 9/20\n",
            "994/994 [==============================] - 4s 4ms/step - loss: 7.6084 - val_loss: 7.7245\n",
            "Epoch 10/20\n",
            "994/994 [==============================] - 4s 5ms/step - loss: 7.6084 - val_loss: 7.7245\n",
            "Epoch 11/20\n",
            "994/994 [==============================] - 6s 6ms/step - loss: 7.6084 - val_loss: 7.7245\n",
            "Epoch 12/20\n",
            "994/994 [==============================] - 4s 4ms/step - loss: 7.6084 - val_loss: 7.7245\n",
            "Epoch 13/20\n",
            "994/994 [==============================] - 4s 4ms/step - loss: 7.6084 - val_loss: 7.7245\n",
            "497/497 [==============================] - 1s 2ms/step - loss: 7.6454\n",
            "Epoch 1/20\n",
            "994/994 [==============================] - 4s 3ms/step - loss: 8.2153 - val_loss: 9.4298\n",
            "Epoch 2/20\n",
            "994/994 [==============================] - 5s 5ms/step - loss: 8.6838 - val_loss: 7.9251\n",
            "Epoch 3/20\n",
            "994/994 [==============================] - 3s 3ms/step - loss: 8.3781 - val_loss: 8.4531\n",
            "Epoch 4/20\n",
            "994/994 [==============================] - 5s 5ms/step - loss: 8.3574 - val_loss: 8.4531\n",
            "Epoch 5/20\n",
            "994/994 [==============================] - 4s 4ms/step - loss: 8.3574 - val_loss: 8.4531\n",
            "Epoch 6/20\n",
            "994/994 [==============================] - 3s 3ms/step - loss: 8.3574 - val_loss: 8.4531\n",
            "Epoch 7/20\n",
            "994/994 [==============================] - 3s 3ms/step - loss: 8.3574 - val_loss: 8.4531\n",
            "Epoch 8/20\n",
            "994/994 [==============================] - 4s 4ms/step - loss: 8.3574 - val_loss: 8.4531\n",
            "Epoch 9/20\n",
            "994/994 [==============================] - 6s 6ms/step - loss: 8.3574 - val_loss: 8.4531\n",
            "Epoch 10/20\n",
            "994/994 [==============================] - 3s 3ms/step - loss: 8.3574 - val_loss: 8.4531\n",
            "Epoch 11/20\n",
            "994/994 [==============================] - 4s 4ms/step - loss: 8.3574 - val_loss: 8.4531\n",
            "Epoch 12/20\n",
            "994/994 [==============================] - 5s 5ms/step - loss: 8.3574 - val_loss: 8.4531\n",
            "497/497 [==============================] - 2s 3ms/step - loss: 8.3404\n",
            "Epoch 1/20\n",
            "994/994 [==============================] - 5s 4ms/step - loss: 9.7727 - val_loss: 10.0388\n",
            "Epoch 2/20\n",
            "994/994 [==============================] - 3s 3ms/step - loss: 10.0936 - val_loss: 10.0388\n",
            "Epoch 3/20\n",
            "994/994 [==============================] - 3s 3ms/step - loss: 10.0936 - val_loss: 10.0388\n",
            "Epoch 4/20\n",
            "994/994 [==============================] - 5s 5ms/step - loss: 10.0936 - val_loss: 10.0388\n",
            "Epoch 5/20\n",
            "994/994 [==============================] - 3s 3ms/step - loss: 10.0936 - val_loss: 10.0388\n",
            "Epoch 6/20\n",
            "994/994 [==============================] - 5s 5ms/step - loss: 10.0936 - val_loss: 10.0388\n",
            "Epoch 7/20\n",
            "994/994 [==============================] - 5s 5ms/step - loss: 10.0936 - val_loss: 10.0388\n",
            "Epoch 8/20\n",
            "994/994 [==============================] - 3s 3ms/step - loss: 10.0936 - val_loss: 10.0388\n",
            "Epoch 9/20\n",
            "994/994 [==============================] - 4s 4ms/step - loss: 10.0936 - val_loss: 10.0388\n",
            "Epoch 10/20\n",
            "994/994 [==============================] - 3s 3ms/step - loss: 10.0936 - val_loss: 10.0388\n",
            "Epoch 11/20\n",
            "994/994 [==============================] - 3s 3ms/step - loss: 10.0936 - val_loss: 10.0388\n",
            "497/497 [==============================] - 1s 3ms/step - loss: 10.0620\n",
            "Epoch 1/20\n"
          ]
        },
        {
          "output_type": "stream",
          "name": "stderr",
          "text": [
            "/usr/local/lib/python3.7/dist-packages/sklearn/model_selection/_search.py:972: UserWarning: One or more of the test scores are non-finite: [         nan  -7.86001158  -8.19792541 -10.34264501  -9.99519952\n",
            "  -9.03775152  -7.66431268  -8.73399353  -8.10503356  -8.68261305]\n",
            "  category=UserWarning,\n"
          ]
        },
        {
          "output_type": "stream",
          "name": "stdout",
          "text": [
            "1491/1491 [==============================] - 5s 3ms/step - loss: 8.4629 - val_loss: 8.2598\n",
            "Epoch 2/20\n",
            "1491/1491 [==============================] - 3s 2ms/step - loss: 8.2828 - val_loss: 8.2598\n",
            "Epoch 3/20\n",
            "1491/1491 [==============================] - 7s 5ms/step - loss: 8.2828 - val_loss: 8.2598\n",
            "Epoch 4/20\n",
            "1491/1491 [==============================] - 6s 4ms/step - loss: 8.2828 - val_loss: 8.2598\n",
            "Epoch 5/20\n",
            "1491/1491 [==============================] - 6s 4ms/step - loss: 8.2828 - val_loss: 8.2598\n",
            "Epoch 6/20\n",
            "1491/1491 [==============================] - 6s 4ms/step - loss: 8.2828 - val_loss: 8.2598\n",
            "Epoch 7/20\n",
            "1491/1491 [==============================] - 5s 3ms/step - loss: 8.2828 - val_loss: 8.2598\n",
            "Epoch 8/20\n",
            "1491/1491 [==============================] - 5s 4ms/step - loss: 8.2828 - val_loss: 8.2598\n",
            "Epoch 9/20\n",
            "1491/1491 [==============================] - 3s 2ms/step - loss: 8.2828 - val_loss: 8.2598\n",
            "Epoch 10/20\n",
            "1491/1491 [==============================] - 5s 3ms/step - loss: 8.2828 - val_loss: 8.2598\n",
            "Epoch 11/20\n",
            "1491/1491 [==============================] - 6s 4ms/step - loss: 8.2828 - val_loss: 8.2598\n"
          ]
        },
        {
          "output_type": "execute_result",
          "data": {
            "text/plain": [
              "RandomizedSearchCV(cv=3,\n",
              "                   estimator=<keras.wrappers.scikit_learn.KerasRegressor object at 0x7f66a36fee50>,\n",
              "                   param_distributions={'learning_rate': <scipy.stats._distn_infrastructure.rv_frozen object at 0x7f66a45db110>,\n",
              "                                        'n_layer': [1],\n",
              "                                        'n_neurons': array([  1,   2,   3,   4,   5,   6,   7,   8,   9,  10,  11,  12,  13,\n",
              "        14,  15,  16,  17,  18,  19,  20,  21,  22,  23,  24,  25,  26,\n",
              "        27,  28,  29,  30,  31,  32,  33,  34,  35,  36,  37,  38,  39,\n",
              "        40,...\n",
              "       417, 418, 419, 420, 421, 422, 423, 424, 425, 426, 427, 428, 429,\n",
              "       430, 431, 432, 433, 434, 435, 436, 437, 438, 439, 440, 441, 442,\n",
              "       443, 444, 445, 446, 447, 448, 449, 450, 451, 452, 453, 454, 455,\n",
              "       456, 457, 458, 459, 460, 461, 462, 463, 464, 465, 466, 467, 468,\n",
              "       469, 470, 471, 472, 473, 474, 475, 476, 477, 478, 479, 480, 481,\n",
              "       482, 483, 484, 485, 486, 487, 488, 489, 490, 491, 492, 493, 494,\n",
              "       495, 496, 497, 498, 499, 500, 501, 502, 503, 504, 505, 506, 507,\n",
              "       508, 509, 510, 511, 512, 513, 514])})"
            ]
          },
          "metadata": {},
          "execution_count": 71
        }
      ]
    },
    {
      "cell_type": "code",
      "source": [
        "rnd_search_cv.best_params_"
      ],
      "metadata": {
        "colab": {
          "base_uri": "https://localhost:8080/"
        },
        "id": "fpBg6B4z7kIn",
        "outputId": "0b775b74-107c-48db-a8fd-3cb8d9c1a70a"
      },
      "execution_count": null,
      "outputs": [
        {
          "output_type": "execute_result",
          "data": {
            "text/plain": [
              "{'learning_rate': 0.0032411795457051255, 'n_layer': 1, 'n_neurons': 61}"
            ]
          },
          "metadata": {},
          "execution_count": 73
        }
      ]
    },
    {
      "cell_type": "code",
      "source": [
        "inputs = tf.keras.Input(shape=(5))\n",
        "x = preprocessing_layer(inputs)\n",
        "dense = tf.keras.layers.Dense(5, activation = 'relu')\n",
        "x = dense(x)\n",
        "x = tf.keras.layers.Dense(2,activation = 'relu')(x)\n",
        "outputs = tf.keras.layers.Dense(15, activation = 'softmax')(x)"
      ],
      "metadata": {
        "id": "72pb0VfG-_L9"
      },
      "execution_count": null,
      "outputs": []
    },
    {
      "cell_type": "code",
      "source": [
        "inputs = tf.keras.Input(shape=(5))\n",
        "x = preprocessing_layer(inputs)\n",
        "x = tf.keras.layers.Dense(5, activation='relu') (x)\n",
        "x = tf.keras.layers.Dense(61, activation = 'relu')(x)\n",
        "outputs= tf.keras.layers.Dense(15, activation = 'softmax')(x)"
      ],
      "metadata": {
        "id": "sfQE9Wkg-VfK"
      },
      "execution_count": null,
      "outputs": []
    },
    {
      "cell_type": "code",
      "source": [
        "model3 = tf.keras.Model(inputs = inputs, outputs = outputs, name = 'model3')"
      ],
      "metadata": {
        "id": "y2x8oke6_ypj"
      },
      "execution_count": null,
      "outputs": []
    },
    {
      "cell_type": "code",
      "source": [
        "opt = tf.keras.optimizers.Adam(learning_rate=0.0032411795457051255)\n",
        "model3.compile(optimizer = opt, loss ='categorical_crossentropy',metrics=['Precision', 'Recall','accuracy'])"
      ],
      "metadata": {
        "id": "K3rIYvtI-v35"
      },
      "execution_count": null,
      "outputs": []
    },
    {
      "cell_type": "code",
      "source": [
        "history3 = model3.fit(train_features, one_hot_train_labels, batch_size = 100, epochs= 20, validation_data = (val_features, one_hot_val_labels))"
      ],
      "metadata": {
        "colab": {
          "base_uri": "https://localhost:8080/"
        },
        "id": "cfaO1Pq1_qmY",
        "outputId": "ac6323d0-1604-4e7f-a8ac-1724e0c234b8"
      },
      "execution_count": null,
      "outputs": [
        {
          "output_type": "stream",
          "name": "stdout",
          "text": [
            "Epoch 1/20\n",
            "477/477 [==============================] - 7s 12ms/step - loss: 1.7028 - precision: 0.4879 - recall: 0.0258 - accuracy: 0.3515 - val_loss: 1.4249 - val_precision: 0.4865 - val_recall: 0.0528 - val_accuracy: 0.4097\n",
            "Epoch 2/20\n",
            "477/477 [==============================] - 62s 131ms/step - loss: 1.3269 - precision: 0.4823 - recall: 0.0855 - accuracy: 0.4271 - val_loss: 1.2870 - val_precision: 0.4675 - val_recall: 0.1571 - val_accuracy: 0.4409\n",
            "Epoch 3/20\n",
            "477/477 [==============================] - 3s 5ms/step - loss: 1.2470 - precision: 0.4814 - recall: 0.1038 - accuracy: 0.4369 - val_loss: 1.2289 - val_precision: 0.4870 - val_recall: 0.1462 - val_accuracy: 0.4393\n",
            "Epoch 4/20\n",
            "477/477 [==============================] - 4s 8ms/step - loss: 1.2189 - precision: 0.4860 - recall: 0.1046 - accuracy: 0.4430 - val_loss: 1.2068 - val_precision: 0.4760 - val_recall: 0.0963 - val_accuracy: 0.4490\n",
            "Epoch 5/20\n",
            "477/477 [==============================] - 3s 7ms/step - loss: 1.2072 - precision: 0.4780 - recall: 0.1154 - accuracy: 0.4456 - val_loss: 1.2112 - val_precision: 0.4783 - val_recall: 0.0794 - val_accuracy: 0.4396\n",
            "Epoch 6/20\n",
            "477/477 [==============================] - 6s 13ms/step - loss: 1.1979 - precision: 0.4797 - recall: 0.1168 - accuracy: 0.4472 - val_loss: 1.1955 - val_precision: 0.4787 - val_recall: 0.1435 - val_accuracy: 0.4521\n",
            "Epoch 7/20\n",
            "477/477 [==============================] - 12s 25ms/step - loss: 1.1916 - precision: 0.4870 - recall: 0.1262 - accuracy: 0.4477 - val_loss: 1.1894 - val_precision: 0.4937 - val_recall: 0.1182 - val_accuracy: 0.4488\n",
            "Epoch 8/20\n",
            "477/477 [==============================] - 9s 20ms/step - loss: 1.1851 - precision: 0.4797 - recall: 0.1224 - accuracy: 0.4509 - val_loss: 1.1929 - val_precision: 0.3828 - val_recall: 0.0138 - val_accuracy: 0.4212\n",
            "Epoch 9/20\n",
            "477/477 [==============================] - 4s 7ms/step - loss: 1.1821 - precision: 0.4730 - recall: 0.1185 - accuracy: 0.4498 - val_loss: 1.1839 - val_precision: 0.4770 - val_recall: 0.1358 - val_accuracy: 0.4490\n",
            "Epoch 10/20\n",
            "477/477 [==============================] - 2s 3ms/step - loss: 1.1782 - precision: 0.4837 - recall: 0.1259 - accuracy: 0.4511 - val_loss: 1.1856 - val_precision: 0.4783 - val_recall: 0.0887 - val_accuracy: 0.4512\n",
            "Epoch 11/20\n",
            "477/477 [==============================] - 2s 4ms/step - loss: 1.1760 - precision: 0.4835 - recall: 0.1277 - accuracy: 0.4506 - val_loss: 1.1798 - val_precision: 0.4806 - val_recall: 0.2795 - val_accuracy: 0.4501\n",
            "Epoch 12/20\n",
            "477/477 [==============================] - 3s 7ms/step - loss: 1.1746 - precision: 0.4808 - recall: 0.1300 - accuracy: 0.4522 - val_loss: 1.1920 - val_precision: 0.4512 - val_recall: 0.1315 - val_accuracy: 0.4184\n",
            "Epoch 13/20\n",
            "477/477 [==============================] - 6s 14ms/step - loss: 1.1719 - precision: 0.4832 - recall: 0.1317 - accuracy: 0.4514 - val_loss: 1.1717 - val_precision: 0.4788 - val_recall: 0.1268 - val_accuracy: 0.4460\n",
            "Epoch 14/20\n",
            "477/477 [==============================] - 2s 4ms/step - loss: 1.1706 - precision: 0.4745 - recall: 0.1280 - accuracy: 0.4529 - val_loss: 1.1748 - val_precision: 0.4862 - val_recall: 0.0736 - val_accuracy: 0.4555\n",
            "Epoch 15/20\n",
            "477/477 [==============================] - 5s 10ms/step - loss: 1.1684 - precision: 0.4777 - recall: 0.1312 - accuracy: 0.4532 - val_loss: 1.1752 - val_precision: 0.4897 - val_recall: 0.0877 - val_accuracy: 0.4143\n",
            "Epoch 16/20\n",
            "477/477 [==============================] - 2s 5ms/step - loss: 1.1673 - precision: 0.4847 - recall: 0.1301 - accuracy: 0.4535 - val_loss: 1.1659 - val_precision: 0.4615 - val_recall: 0.0356 - val_accuracy: 0.4594\n",
            "Epoch 17/20\n",
            "477/477 [==============================] - 12s 26ms/step - loss: 1.1670 - precision: 0.4818 - recall: 0.1248 - accuracy: 0.4533 - val_loss: 1.1716 - val_precision: 0.4655 - val_recall: 0.1827 - val_accuracy: 0.4459\n",
            "Epoch 18/20\n",
            "477/477 [==============================] - 20s 42ms/step - loss: 1.1643 - precision: 0.4782 - recall: 0.1250 - accuracy: 0.4544 - val_loss: 1.1744 - val_precision: 0.4770 - val_recall: 0.1572 - val_accuracy: 0.4532\n",
            "Epoch 19/20\n",
            "477/477 [==============================] - 2s 5ms/step - loss: 1.1633 - precision: 0.4832 - recall: 0.1325 - accuracy: 0.4564 - val_loss: 1.1709 - val_precision: 0.4715 - val_recall: 0.1490 - val_accuracy: 0.4549\n",
            "Epoch 20/20\n",
            "477/477 [==============================] - 1s 3ms/step - loss: 1.1645 - precision: 0.4809 - recall: 0.1345 - accuracy: 0.4537 - val_loss: 1.1642 - val_precision: 0.4877 - val_recall: 0.1773 - val_accuracy: 0.4496\n"
          ]
        }
      ]
    },
    {
      "cell_type": "code",
      "source": [
        "model3.summary()"
      ],
      "metadata": {
        "colab": {
          "base_uri": "https://localhost:8080/"
        },
        "id": "stRbu4RlAwDa",
        "outputId": "c201b7e4-0ff9-409a-f7eb-651304ab2f1f"
      },
      "execution_count": null,
      "outputs": [
        {
          "output_type": "stream",
          "name": "stdout",
          "text": [
            "Model: \"model3\"\n",
            "_________________________________________________________________\n",
            " Layer (type)                Output Shape              Param #   \n",
            "=================================================================\n",
            " input_6 (InputLayer)        [(None, 5)]               0         \n",
            "                                                                 \n",
            " normalization (Normalizatio  (None, 5)                3         \n",
            " n)                                                              \n",
            "                                                                 \n",
            " dense_80 (Dense)            (None, 5)                 30        \n",
            "                                                                 \n",
            " dense_81 (Dense)            (None, 61)                366       \n",
            "                                                                 \n",
            " dense_82 (Dense)            (None, 15)                930       \n",
            "                                                                 \n",
            "=================================================================\n",
            "Total params: 1,329\n",
            "Trainable params: 1,326\n",
            "Non-trainable params: 3\n",
            "_________________________________________________________________\n"
          ]
        }
      ]
    },
    {
      "cell_type": "code",
      "source": [
        "history3 = model3.fit(train_features, one_hot_train_labels, batch_size = 100, epochs= 100, validation_data = (val_features, one_hot_val_labels))"
      ],
      "metadata": {
        "colab": {
          "base_uri": "https://localhost:8080/"
        },
        "id": "RKf9dyRrAzqd",
        "outputId": "3481d9ac-9cdc-4a71-a80c-9ee11f00c2fc"
      },
      "execution_count": null,
      "outputs": [
        {
          "output_type": "stream",
          "name": "stdout",
          "text": [
            "Epoch 1/100\n",
            "477/477 [==============================] - 4s 7ms/step - loss: 1.1635 - precision: 0.4813 - recall: 0.1333 - accuracy: 0.4536 - val_loss: 1.1657 - val_precision: 0.4943 - val_recall: 0.0439 - val_accuracy: 0.4516\n",
            "Epoch 2/100\n",
            "477/477 [==============================] - 3s 6ms/step - loss: 1.1602 - precision: 0.4895 - recall: 0.1319 - accuracy: 0.4540 - val_loss: 1.1727 - val_precision: 0.4723 - val_recall: 0.1988 - val_accuracy: 0.4522\n",
            "Epoch 3/100\n",
            "477/477 [==============================] - 4s 8ms/step - loss: 1.1594 - precision: 0.4847 - recall: 0.1390 - accuracy: 0.4542 - val_loss: 1.1789 - val_precision: 0.4750 - val_recall: 0.2199 - val_accuracy: 0.4453\n",
            "Epoch 4/100\n",
            "477/477 [==============================] - 2s 3ms/step - loss: 1.1600 - precision: 0.4864 - recall: 0.1392 - accuracy: 0.4552 - val_loss: 1.1647 - val_precision: 0.4429 - val_recall: 0.0208 - val_accuracy: 0.4394\n",
            "Epoch 5/100\n",
            "477/477 [==============================] - 2s 5ms/step - loss: 1.1598 - precision: 0.4802 - recall: 0.1324 - accuracy: 0.4547 - val_loss: 1.1522 - val_precision: 0.4847 - val_recall: 0.1532 - val_accuracy: 0.4603\n",
            "Epoch 6/100\n",
            "477/477 [==============================] - 6s 12ms/step - loss: 1.1586 - precision: 0.4798 - recall: 0.1324 - accuracy: 0.4550 - val_loss: 1.1556 - val_precision: 0.4760 - val_recall: 0.0782 - val_accuracy: 0.4527\n",
            "Epoch 7/100\n",
            "477/477 [==============================] - 4s 8ms/step - loss: 1.1581 - precision: 0.4854 - recall: 0.1260 - accuracy: 0.4560 - val_loss: 1.1647 - val_precision: 0.4889 - val_recall: 0.1959 - val_accuracy: 0.4485\n",
            "Epoch 8/100\n",
            "477/477 [==============================] - 2s 4ms/step - loss: 1.1584 - precision: 0.4838 - recall: 0.1317 - accuracy: 0.4550 - val_loss: 1.1616 - val_precision: 0.4680 - val_recall: 0.1857 - val_accuracy: 0.4477\n",
            "Epoch 9/100\n",
            "477/477 [==============================] - 4s 8ms/step - loss: 1.1578 - precision: 0.4862 - recall: 0.1342 - accuracy: 0.4554 - val_loss: 1.1613 - val_precision: 0.4718 - val_recall: 0.2613 - val_accuracy: 0.4567\n",
            "Epoch 10/100\n",
            "477/477 [==============================] - 3s 6ms/step - loss: 1.1558 - precision: 0.4909 - recall: 0.1364 - accuracy: 0.4553 - val_loss: 1.1645 - val_precision: 0.4852 - val_recall: 0.0933 - val_accuracy: 0.4353\n",
            "Epoch 11/100\n",
            "477/477 [==============================] - 2s 4ms/step - loss: 1.1569 - precision: 0.4826 - recall: 0.1361 - accuracy: 0.4562 - val_loss: 1.1594 - val_precision: 0.4753 - val_recall: 0.0727 - val_accuracy: 0.4438\n",
            "Epoch 12/100\n",
            "477/477 [==============================] - 2s 4ms/step - loss: 1.1555 - precision: 0.4816 - recall: 0.1341 - accuracy: 0.4558 - val_loss: 1.1535 - val_precision: 0.4777 - val_recall: 0.1479 - val_accuracy: 0.4579\n",
            "Epoch 13/100\n",
            "477/477 [==============================] - 3s 7ms/step - loss: 1.1539 - precision: 0.4897 - recall: 0.1322 - accuracy: 0.4569 - val_loss: 1.1605 - val_precision: 0.4794 - val_recall: 0.2555 - val_accuracy: 0.4600\n",
            "Epoch 14/100\n",
            "477/477 [==============================] - 4s 9ms/step - loss: 1.1534 - precision: 0.4802 - recall: 0.1253 - accuracy: 0.4577 - val_loss: 1.1515 - val_precision: 0.4853 - val_recall: 0.0846 - val_accuracy: 0.4479\n",
            "Epoch 15/100\n",
            "477/477 [==============================] - 3s 6ms/step - loss: 1.1524 - precision: 0.4880 - recall: 0.1291 - accuracy: 0.4577 - val_loss: 1.1592 - val_precision: 0.4869 - val_recall: 0.1074 - val_accuracy: 0.4476\n",
            "Epoch 16/100\n",
            "477/477 [==============================] - 2s 4ms/step - loss: 1.1520 - precision: 0.4848 - recall: 0.1348 - accuracy: 0.4565 - val_loss: 1.1559 - val_precision: 0.4739 - val_recall: 0.1552 - val_accuracy: 0.4594\n",
            "Epoch 17/100\n",
            "477/477 [==============================] - 2s 5ms/step - loss: 1.1514 - precision: 0.4847 - recall: 0.1348 - accuracy: 0.4581 - val_loss: 1.1610 - val_precision: 0.4735 - val_recall: 0.1797 - val_accuracy: 0.4566\n",
            "Epoch 18/100\n",
            "477/477 [==============================] - 2s 4ms/step - loss: 1.1514 - precision: 0.4807 - recall: 0.1333 - accuracy: 0.4574 - val_loss: 1.1537 - val_precision: 0.4793 - val_recall: 0.1303 - val_accuracy: 0.4533\n",
            "Epoch 19/100\n",
            "477/477 [==============================] - 3s 6ms/step - loss: 1.1483 - precision: 0.4889 - recall: 0.1353 - accuracy: 0.4580 - val_loss: 1.1602 - val_precision: 0.4821 - val_recall: 0.1325 - val_accuracy: 0.4397\n",
            "Epoch 20/100\n",
            "477/477 [==============================] - 3s 6ms/step - loss: 1.1494 - precision: 0.4840 - recall: 0.1286 - accuracy: 0.4592 - val_loss: 1.1515 - val_precision: 0.4827 - val_recall: 0.0993 - val_accuracy: 0.4589\n",
            "Epoch 21/100\n",
            "477/477 [==============================] - 2s 5ms/step - loss: 1.1488 - precision: 0.4884 - recall: 0.1295 - accuracy: 0.4574 - val_loss: 1.1565 - val_precision: 0.4690 - val_recall: 0.1668 - val_accuracy: 0.4479\n",
            "Epoch 22/100\n",
            "477/477 [==============================] - 2s 4ms/step - loss: 1.1469 - precision: 0.4897 - recall: 0.1337 - accuracy: 0.4586 - val_loss: 1.1459 - val_precision: 0.4838 - val_recall: 0.0814 - val_accuracy: 0.4600\n",
            "Epoch 23/100\n",
            "477/477 [==============================] - 2s 4ms/step - loss: 1.1470 - precision: 0.4866 - recall: 0.1419 - accuracy: 0.4588 - val_loss: 1.1497 - val_precision: 0.4851 - val_recall: 0.1051 - val_accuracy: 0.4604\n",
            "Epoch 24/100\n",
            "477/477 [==============================] - 2s 4ms/step - loss: 1.1480 - precision: 0.4851 - recall: 0.1327 - accuracy: 0.4582 - val_loss: 1.1492 - val_precision: 0.4809 - val_recall: 0.1279 - val_accuracy: 0.4615\n",
            "Epoch 25/100\n",
            "477/477 [==============================] - 2s 3ms/step - loss: 1.1461 - precision: 0.4863 - recall: 0.1320 - accuracy: 0.4593 - val_loss: 1.1496 - val_precision: 0.4954 - val_recall: 0.1219 - val_accuracy: 0.4556\n",
            "Epoch 26/100\n",
            "477/477 [==============================] - 2s 5ms/step - loss: 1.1452 - precision: 0.4920 - recall: 0.1464 - accuracy: 0.4575 - val_loss: 1.1575 - val_precision: 0.4788 - val_recall: 0.2222 - val_accuracy: 0.4590\n",
            "Epoch 27/100\n",
            "477/477 [==============================] - 4s 8ms/step - loss: 1.1468 - precision: 0.4951 - recall: 0.1407 - accuracy: 0.4589 - val_loss: 1.1461 - val_precision: 0.4794 - val_recall: 0.0876 - val_accuracy: 0.4561\n",
            "Epoch 28/100\n",
            "477/477 [==============================] - 2s 3ms/step - loss: 1.1441 - precision: 0.4840 - recall: 0.1373 - accuracy: 0.4602 - val_loss: 1.1514 - val_precision: 0.4785 - val_recall: 0.1188 - val_accuracy: 0.4526\n",
            "Epoch 29/100\n",
            "477/477 [==============================] - 2s 4ms/step - loss: 1.1441 - precision: 0.4834 - recall: 0.1442 - accuracy: 0.4591 - val_loss: 1.1488 - val_precision: 0.4987 - val_recall: 0.0809 - val_accuracy: 0.4582\n",
            "Epoch 30/100\n",
            "477/477 [==============================] - 2s 4ms/step - loss: 1.1441 - precision: 0.4860 - recall: 0.1320 - accuracy: 0.4573 - val_loss: 1.1482 - val_precision: 0.4740 - val_recall: 0.2868 - val_accuracy: 0.4613\n",
            "Epoch 31/100\n",
            "477/477 [==============================] - 5s 10ms/step - loss: 1.1430 - precision: 0.4902 - recall: 0.1350 - accuracy: 0.4592 - val_loss: 1.1479 - val_precision: 0.4783 - val_recall: 0.2437 - val_accuracy: 0.4619\n",
            "Epoch 32/100\n",
            "477/477 [==============================] - 2s 5ms/step - loss: 1.1417 - precision: 0.4862 - recall: 0.1337 - accuracy: 0.4594 - val_loss: 1.1573 - val_precision: 0.4836 - val_recall: 0.0888 - val_accuracy: 0.4448\n",
            "Epoch 33/100\n",
            "477/477 [==============================] - 2s 4ms/step - loss: 1.1416 - precision: 0.4842 - recall: 0.1305 - accuracy: 0.4592 - val_loss: 1.1478 - val_precision: 0.4884 - val_recall: 0.1532 - val_accuracy: 0.4492\n",
            "Epoch 34/100\n",
            "477/477 [==============================] - 2s 4ms/step - loss: 1.1419 - precision: 0.4856 - recall: 0.1357 - accuracy: 0.4579 - val_loss: 1.1399 - val_precision: 0.4788 - val_recall: 0.1424 - val_accuracy: 0.4602\n",
            "Epoch 35/100\n",
            "477/477 [==============================] - 3s 6ms/step - loss: 1.1401 - precision: 0.4853 - recall: 0.1391 - accuracy: 0.4596 - val_loss: 1.1450 - val_precision: 0.4740 - val_recall: 0.0992 - val_accuracy: 0.4484\n",
            "Epoch 36/100\n",
            "477/477 [==============================] - 2s 4ms/step - loss: 1.1406 - precision: 0.4912 - recall: 0.1353 - accuracy: 0.4594 - val_loss: 1.1428 - val_precision: 0.4925 - val_recall: 0.0958 - val_accuracy: 0.4575\n",
            "Epoch 37/100\n",
            "477/477 [==============================] - 2s 4ms/step - loss: 1.1389 - precision: 0.4875 - recall: 0.1333 - accuracy: 0.4599 - val_loss: 1.1498 - val_precision: 0.4935 - val_recall: 0.0287 - val_accuracy: 0.4535\n",
            "Epoch 38/100\n",
            "477/477 [==============================] - 2s 4ms/step - loss: 1.1391 - precision: 0.4872 - recall: 0.1416 - accuracy: 0.4591 - val_loss: 1.1520 - val_precision: 0.4723 - val_recall: 0.1654 - val_accuracy: 0.4528\n",
            "Epoch 39/100\n",
            "477/477 [==============================] - 2s 5ms/step - loss: 1.1392 - precision: 0.4866 - recall: 0.1321 - accuracy: 0.4590 - val_loss: 1.1534 - val_precision: 0.4823 - val_recall: 0.2109 - val_accuracy: 0.4551\n",
            "Epoch 40/100\n",
            "477/477 [==============================] - 2s 5ms/step - loss: 1.1377 - precision: 0.4872 - recall: 0.1316 - accuracy: 0.4606 - val_loss: 1.1449 - val_precision: 0.4838 - val_recall: 0.1356 - val_accuracy: 0.4605\n",
            "Epoch 41/100\n",
            "477/477 [==============================] - 3s 6ms/step - loss: 1.1393 - precision: 0.4916 - recall: 0.1349 - accuracy: 0.4594 - val_loss: 1.1411 - val_precision: 0.4729 - val_recall: 0.1411 - val_accuracy: 0.4511\n",
            "Epoch 42/100\n",
            "477/477 [==============================] - 2s 4ms/step - loss: 1.1371 - precision: 0.4899 - recall: 0.1302 - accuracy: 0.4602 - val_loss: 1.1480 - val_precision: 0.4780 - val_recall: 0.1637 - val_accuracy: 0.4558\n",
            "Epoch 43/100\n",
            "477/477 [==============================] - 3s 7ms/step - loss: 1.1392 - precision: 0.4842 - recall: 0.1266 - accuracy: 0.4598 - val_loss: 1.1381 - val_precision: 0.4950 - val_recall: 0.1358 - val_accuracy: 0.4609\n",
            "Epoch 44/100\n",
            "477/477 [==============================] - 3s 7ms/step - loss: 1.1372 - precision: 0.4888 - recall: 0.1405 - accuracy: 0.4598 - val_loss: 1.1399 - val_precision: 0.4803 - val_recall: 0.2074 - val_accuracy: 0.4600\n",
            "Epoch 45/100\n",
            "477/477 [==============================] - 2s 3ms/step - loss: 1.1361 - precision: 0.4841 - recall: 0.1334 - accuracy: 0.4616 - val_loss: 1.1452 - val_precision: 0.4920 - val_recall: 0.1263 - val_accuracy: 0.4596\n",
            "Epoch 46/100\n",
            "477/477 [==============================] - 3s 6ms/step - loss: 1.1364 - precision: 0.4857 - recall: 0.1318 - accuracy: 0.4599 - val_loss: 1.1388 - val_precision: 0.4903 - val_recall: 0.0424 - val_accuracy: 0.4574\n",
            "Epoch 47/100\n",
            "477/477 [==============================] - 4s 8ms/step - loss: 1.1363 - precision: 0.4919 - recall: 0.1377 - accuracy: 0.4598 - val_loss: 1.1434 - val_precision: 0.4729 - val_recall: 0.0783 - val_accuracy: 0.4554\n",
            "Epoch 48/100\n",
            "477/477 [==============================] - 2s 5ms/step - loss: 1.1345 - precision: 0.4942 - recall: 0.1402 - accuracy: 0.4607 - val_loss: 1.1420 - val_precision: 0.4851 - val_recall: 0.1065 - val_accuracy: 0.4540\n",
            "Epoch 49/100\n",
            "477/477 [==============================] - 2s 3ms/step - loss: 1.1359 - precision: 0.4896 - recall: 0.1358 - accuracy: 0.4612 - val_loss: 1.1377 - val_precision: 0.4899 - val_recall: 0.0834 - val_accuracy: 0.4622\n",
            "Epoch 50/100\n",
            "477/477 [==============================] - 3s 6ms/step - loss: 1.1345 - precision: 0.4882 - recall: 0.1382 - accuracy: 0.4617 - val_loss: 1.1462 - val_precision: 0.4742 - val_recall: 0.1119 - val_accuracy: 0.4502\n",
            "Epoch 51/100\n",
            "477/477 [==============================] - 1s 3ms/step - loss: 1.1351 - precision: 0.4867 - recall: 0.1348 - accuracy: 0.4594 - val_loss: 1.1395 - val_precision: 0.4714 - val_recall: 0.1490 - val_accuracy: 0.4570\n",
            "Epoch 52/100\n",
            "477/477 [==============================] - 2s 4ms/step - loss: 1.1347 - precision: 0.4934 - recall: 0.1336 - accuracy: 0.4613 - val_loss: 1.1386 - val_precision: 0.4759 - val_recall: 0.1638 - val_accuracy: 0.4605\n",
            "Epoch 53/100\n",
            "477/477 [==============================] - 2s 3ms/step - loss: 1.1337 - precision: 0.4877 - recall: 0.1333 - accuracy: 0.4623 - val_loss: 1.1419 - val_precision: 0.4711 - val_recall: 0.0718 - val_accuracy: 0.4523\n",
            "Epoch 54/100\n",
            "477/477 [==============================] - 1s 3ms/step - loss: 1.1347 - precision: 0.4898 - recall: 0.1378 - accuracy: 0.4614 - val_loss: 1.1348 - val_precision: 0.4802 - val_recall: 0.1362 - val_accuracy: 0.4633\n",
            "Epoch 55/100\n",
            "477/477 [==============================] - 3s 5ms/step - loss: 1.1343 - precision: 0.4877 - recall: 0.1327 - accuracy: 0.4602 - val_loss: 1.1328 - val_precision: 0.4774 - val_recall: 0.1408 - val_accuracy: 0.4633\n",
            "Epoch 56/100\n",
            "477/477 [==============================] - 3s 7ms/step - loss: 1.1324 - precision: 0.4923 - recall: 0.1281 - accuracy: 0.4616 - val_loss: 1.1383 - val_precision: 0.4802 - val_recall: 0.1299 - val_accuracy: 0.4582\n",
            "Epoch 57/100\n",
            "477/477 [==============================] - 4s 9ms/step - loss: 1.1358 - precision: 0.4876 - recall: 0.1420 - accuracy: 0.4600 - val_loss: 1.1378 - val_precision: 0.4933 - val_recall: 0.1229 - val_accuracy: 0.4605\n",
            "Epoch 58/100\n",
            "477/477 [==============================] - 2s 4ms/step - loss: 1.1336 - precision: 0.4851 - recall: 0.1287 - accuracy: 0.4619 - val_loss: 1.1317 - val_precision: 0.4721 - val_recall: 0.2077 - val_accuracy: 0.4631\n",
            "Epoch 59/100\n",
            "477/477 [==============================] - 2s 4ms/step - loss: 1.1339 - precision: 0.4914 - recall: 0.1366 - accuracy: 0.4611 - val_loss: 1.1431 - val_precision: 0.4788 - val_recall: 0.1105 - val_accuracy: 0.4603\n",
            "Epoch 60/100\n",
            "477/477 [==============================] - 3s 7ms/step - loss: 1.1321 - precision: 0.4900 - recall: 0.1458 - accuracy: 0.4608 - val_loss: 1.1390 - val_precision: 0.4922 - val_recall: 0.0769 - val_accuracy: 0.4593\n",
            "Epoch 61/100\n",
            "477/477 [==============================] - 2s 4ms/step - loss: 1.1323 - precision: 0.4905 - recall: 0.1333 - accuracy: 0.4612 - val_loss: 1.1364 - val_precision: 0.4791 - val_recall: 0.1539 - val_accuracy: 0.4574\n",
            "Epoch 62/100\n",
            "477/477 [==============================] - 2s 4ms/step - loss: 1.1325 - precision: 0.4865 - recall: 0.1261 - accuracy: 0.4618 - val_loss: 1.1375 - val_precision: 0.4838 - val_recall: 0.2611 - val_accuracy: 0.4626\n",
            "Epoch 63/100\n",
            "477/477 [==============================] - 1s 3ms/step - loss: 1.1309 - precision: 0.4939 - recall: 0.1381 - accuracy: 0.4623 - val_loss: 1.1403 - val_precision: 0.4864 - val_recall: 0.0676 - val_accuracy: 0.4538\n",
            "Epoch 64/100\n",
            "477/477 [==============================] - 3s 7ms/step - loss: 1.1308 - precision: 0.4903 - recall: 0.1398 - accuracy: 0.4632 - val_loss: 1.1403 - val_precision: 0.4779 - val_recall: 0.0788 - val_accuracy: 0.4589\n",
            "Epoch 65/100\n",
            "477/477 [==============================] - 2s 4ms/step - loss: 1.1312 - precision: 0.4937 - recall: 0.1398 - accuracy: 0.4630 - val_loss: 1.1401 - val_precision: 0.4847 - val_recall: 0.1182 - val_accuracy: 0.4481\n",
            "Epoch 66/100\n",
            "477/477 [==============================] - 2s 4ms/step - loss: 1.1308 - precision: 0.4932 - recall: 0.1317 - accuracy: 0.4614 - val_loss: 1.1333 - val_precision: 0.4739 - val_recall: 0.1210 - val_accuracy: 0.4529\n",
            "Epoch 67/100\n",
            "477/477 [==============================] - 2s 4ms/step - loss: 1.1317 - precision: 0.4872 - recall: 0.1417 - accuracy: 0.4621 - val_loss: 1.1362 - val_precision: 0.4766 - val_recall: 0.1240 - val_accuracy: 0.4600\n",
            "Epoch 68/100\n",
            "477/477 [==============================] - 2s 3ms/step - loss: 1.1314 - precision: 0.4970 - recall: 0.1409 - accuracy: 0.4622 - val_loss: 1.1388 - val_precision: 0.4864 - val_recall: 0.1910 - val_accuracy: 0.4622\n",
            "Epoch 69/100\n",
            "477/477 [==============================] - 2s 4ms/step - loss: 1.1302 - precision: 0.4899 - recall: 0.1377 - accuracy: 0.4618 - val_loss: 1.1372 - val_precision: 0.4744 - val_recall: 0.1916 - val_accuracy: 0.4627\n",
            "Epoch 70/100\n",
            "477/477 [==============================] - 2s 3ms/step - loss: 1.1303 - precision: 0.4881 - recall: 0.1385 - accuracy: 0.4612 - val_loss: 1.1425 - val_precision: 0.4731 - val_recall: 0.1011 - val_accuracy: 0.4551\n",
            "Epoch 71/100\n",
            "477/477 [==============================] - 2s 4ms/step - loss: 1.1300 - precision: 0.4904 - recall: 0.1315 - accuracy: 0.4628 - val_loss: 1.1370 - val_precision: 0.4784 - val_recall: 0.0585 - val_accuracy: 0.4625\n",
            "Epoch 72/100\n",
            "477/477 [==============================] - 3s 6ms/step - loss: 1.1305 - precision: 0.4923 - recall: 0.1378 - accuracy: 0.4621 - val_loss: 1.1331 - val_precision: 0.4844 - val_recall: 0.0731 - val_accuracy: 0.4546\n",
            "Epoch 73/100\n",
            "477/477 [==============================] - 3s 6ms/step - loss: 1.1289 - precision: 0.4912 - recall: 0.1371 - accuracy: 0.4613 - val_loss: 1.1353 - val_precision: 0.4843 - val_recall: 0.1045 - val_accuracy: 0.4591\n",
            "Epoch 74/100\n",
            "477/477 [==============================] - 3s 7ms/step - loss: 1.1290 - precision: 0.4998 - recall: 0.1407 - accuracy: 0.4623 - val_loss: 1.1374 - val_precision: 0.4830 - val_recall: 0.1110 - val_accuracy: 0.4561\n",
            "Epoch 75/100\n",
            "477/477 [==============================] - 3s 6ms/step - loss: 1.1301 - precision: 0.4924 - recall: 0.1351 - accuracy: 0.4618 - val_loss: 1.1341 - val_precision: 0.4989 - val_recall: 0.0746 - val_accuracy: 0.4525\n",
            "Epoch 76/100\n",
            "477/477 [==============================] - 2s 3ms/step - loss: 1.1294 - precision: 0.4911 - recall: 0.1435 - accuracy: 0.4624 - val_loss: 1.1302 - val_precision: 0.4829 - val_recall: 0.1419 - val_accuracy: 0.4553\n",
            "Epoch 77/100\n",
            "477/477 [==============================] - 2s 5ms/step - loss: 1.1283 - precision: 0.4859 - recall: 0.1294 - accuracy: 0.4636 - val_loss: 1.1443 - val_precision: 0.4910 - val_recall: 0.1376 - val_accuracy: 0.4575\n",
            "Epoch 78/100\n",
            "477/477 [==============================] - 2s 3ms/step - loss: 1.1282 - precision: 0.4933 - recall: 0.1426 - accuracy: 0.4632 - val_loss: 1.1383 - val_precision: 0.4759 - val_recall: 0.1334 - val_accuracy: 0.4527\n",
            "Epoch 79/100\n",
            "477/477 [==============================] - 2s 4ms/step - loss: 1.1284 - precision: 0.4904 - recall: 0.1372 - accuracy: 0.4625 - val_loss: 1.1405 - val_precision: 0.4911 - val_recall: 0.1272 - val_accuracy: 0.4568\n",
            "Epoch 80/100\n",
            "477/477 [==============================] - 2s 5ms/step - loss: 1.1280 - precision: 0.4909 - recall: 0.1343 - accuracy: 0.4632 - val_loss: 1.1343 - val_precision: 0.4893 - val_recall: 0.0960 - val_accuracy: 0.4490\n",
            "Epoch 81/100\n",
            "477/477 [==============================] - 3s 6ms/step - loss: 1.1271 - precision: 0.4924 - recall: 0.1312 - accuracy: 0.4635 - val_loss: 1.1347 - val_precision: 0.4942 - val_recall: 0.0966 - val_accuracy: 0.4510\n",
            "Epoch 82/100\n",
            "477/477 [==============================] - 3s 6ms/step - loss: 1.1266 - precision: 0.4933 - recall: 0.1367 - accuracy: 0.4632 - val_loss: 1.1294 - val_precision: 0.4896 - val_recall: 0.2306 - val_accuracy: 0.4629\n",
            "Epoch 83/100\n",
            "477/477 [==============================] - 3s 6ms/step - loss: 1.1277 - precision: 0.4919 - recall: 0.1444 - accuracy: 0.4633 - val_loss: 1.1321 - val_precision: 0.4943 - val_recall: 0.1164 - val_accuracy: 0.4511\n",
            "Epoch 84/100\n",
            "477/477 [==============================] - 2s 5ms/step - loss: 1.1282 - precision: 0.4900 - recall: 0.1398 - accuracy: 0.4642 - val_loss: 1.1411 - val_precision: 0.4825 - val_recall: 0.1051 - val_accuracy: 0.4477\n",
            "Epoch 85/100\n",
            "477/477 [==============================] - 4s 9ms/step - loss: 1.1269 - precision: 0.4893 - recall: 0.1431 - accuracy: 0.4626 - val_loss: 1.1297 - val_precision: 0.4907 - val_recall: 0.1668 - val_accuracy: 0.4619\n",
            "Epoch 86/100\n",
            "477/477 [==============================] - 2s 3ms/step - loss: 1.1271 - precision: 0.4947 - recall: 0.1464 - accuracy: 0.4627 - val_loss: 1.1323 - val_precision: 0.4817 - val_recall: 0.1126 - val_accuracy: 0.4626\n",
            "Epoch 87/100\n",
            "477/477 [==============================] - 2s 4ms/step - loss: 1.1259 - precision: 0.4916 - recall: 0.1435 - accuracy: 0.4635 - val_loss: 1.1338 - val_precision: 0.4863 - val_recall: 0.1336 - val_accuracy: 0.4604\n",
            "Epoch 88/100\n",
            "477/477 [==============================] - 2s 3ms/step - loss: 1.1275 - precision: 0.4939 - recall: 0.1491 - accuracy: 0.4626 - val_loss: 1.1310 - val_precision: 0.4802 - val_recall: 0.2341 - val_accuracy: 0.4620\n",
            "Epoch 89/100\n",
            "477/477 [==============================] - 4s 8ms/step - loss: 1.1271 - precision: 0.4941 - recall: 0.1394 - accuracy: 0.4624 - val_loss: 1.1371 - val_precision: 0.4823 - val_recall: 0.1106 - val_accuracy: 0.4621\n",
            "Epoch 90/100\n",
            "477/477 [==============================] - 6s 12ms/step - loss: 1.1252 - precision: 0.5015 - recall: 0.1531 - accuracy: 0.4635 - val_loss: 1.1334 - val_precision: 0.4835 - val_recall: 0.1018 - val_accuracy: 0.4568\n",
            "Epoch 91/100\n",
            "477/477 [==============================] - 3s 5ms/step - loss: 1.1255 - precision: 0.5018 - recall: 0.1516 - accuracy: 0.4629 - val_loss: 1.1296 - val_precision: 0.4928 - val_recall: 0.0835 - val_accuracy: 0.4607\n",
            "Epoch 92/100\n",
            "477/477 [==============================] - 2s 4ms/step - loss: 1.1269 - precision: 0.4975 - recall: 0.1439 - accuracy: 0.4624 - val_loss: 1.1272 - val_precision: 0.4715 - val_recall: 0.0507 - val_accuracy: 0.4547\n",
            "Epoch 93/100\n",
            "477/477 [==============================] - 2s 4ms/step - loss: 1.1259 - precision: 0.4958 - recall: 0.1446 - accuracy: 0.4631 - val_loss: 1.1273 - val_precision: 0.4778 - val_recall: 0.1318 - val_accuracy: 0.4612\n",
            "Epoch 94/100\n",
            "477/477 [==============================] - 2s 3ms/step - loss: 1.1236 - precision: 0.4974 - recall: 0.1472 - accuracy: 0.4636 - val_loss: 1.1285 - val_precision: 0.4917 - val_recall: 0.0670 - val_accuracy: 0.4621\n",
            "Epoch 95/100\n",
            "477/477 [==============================] - 2s 3ms/step - loss: 1.1259 - precision: 0.4932 - recall: 0.1443 - accuracy: 0.4622 - val_loss: 1.1401 - val_precision: 0.4936 - val_recall: 0.1616 - val_accuracy: 0.4621\n",
            "Epoch 96/100\n",
            "477/477 [==============================] - 2s 4ms/step - loss: 1.1253 - precision: 0.5001 - recall: 0.1426 - accuracy: 0.4639 - val_loss: 1.1306 - val_precision: 0.5000 - val_recall: 0.1313 - val_accuracy: 0.4595\n",
            "Epoch 97/100\n",
            "477/477 [==============================] - 2s 3ms/step - loss: 1.1235 - precision: 0.5027 - recall: 0.1463 - accuracy: 0.4642 - val_loss: 1.1277 - val_precision: 0.4856 - val_recall: 0.1120 - val_accuracy: 0.4631\n",
            "Epoch 98/100\n",
            "477/477 [==============================] - 2s 4ms/step - loss: 1.1237 - precision: 0.4951 - recall: 0.1468 - accuracy: 0.4633 - val_loss: 1.1339 - val_precision: 0.5116 - val_recall: 0.1035 - val_accuracy: 0.4605\n",
            "Epoch 99/100\n",
            "477/477 [==============================] - 2s 4ms/step - loss: 1.1246 - precision: 0.4983 - recall: 0.1422 - accuracy: 0.4639 - val_loss: 1.1454 - val_precision: 0.4772 - val_recall: 0.1942 - val_accuracy: 0.4589\n",
            "Epoch 100/100\n",
            "477/477 [==============================] - 2s 4ms/step - loss: 1.1256 - precision: 0.5026 - recall: 0.1461 - accuracy: 0.4633 - val_loss: 1.1355 - val_precision: 0.4858 - val_recall: 0.2627 - val_accuracy: 0.4603\n"
          ]
        }
      ]
    },
    {
      "cell_type": "code",
      "source": [
        "y_pred = model3.predict(train_features, batch_size=64, verbose=1)\n",
        "y_pred_bool = np.argmax(y_pred, axis=1)\n",
        "\n",
        "y_bool = np.argmax(one_hot_train_labels,axis = 1)\n",
        "\n",
        "print(classification_report(y_bool, y_pred_bool))"
      ],
      "metadata": {
        "colab": {
          "base_uri": "https://localhost:8080/"
        },
        "id": "dZjaO2kCG7ZW",
        "outputId": "ce12c5d4-bd7a-49b7-d9ef-c7dc289d6398"
      },
      "execution_count": null,
      "outputs": [
        {
          "output_type": "stream",
          "name": "stdout",
          "text": [
            "746/746 [==============================] - 4s 5ms/step\n",
            "              precision    recall  f1-score   support\n",
            "\n",
            "           0       0.00      0.00      0.00       636\n",
            "           1       0.00      0.00      0.00       950\n",
            "           2       0.00      0.00      0.00      1402\n",
            "           3       0.00      0.00      0.00      3042\n",
            "           4       0.00      0.00      0.00      4291\n",
            "           5       0.00      0.00      0.00      6901\n",
            "           6       0.00      0.00      0.00       666\n",
            "           7       0.00      0.00      0.00       894\n",
            "           8       0.00      0.00      0.00      1433\n",
            "           9       0.00      0.00      0.00      1655\n",
            "          10       0.00      0.00      0.00      2161\n",
            "          11       0.08      1.00      0.14      3601\n",
            "          12       0.00      0.00      0.00      4458\n",
            "          13       0.00      0.00      0.00      5925\n",
            "          14       0.00      0.00      0.00      9677\n",
            "\n",
            "    accuracy                           0.08     47692\n",
            "   macro avg       0.01      0.07      0.01     47692\n",
            "weighted avg       0.01      0.08      0.01     47692\n",
            "\n"
          ]
        },
        {
          "output_type": "stream",
          "name": "stderr",
          "text": [
            "/usr/local/lib/python3.7/dist-packages/sklearn/metrics/_classification.py:1318: UndefinedMetricWarning: Precision and F-score are ill-defined and being set to 0.0 in labels with no predicted samples. Use `zero_division` parameter to control this behavior.\n",
            "  _warn_prf(average, modifier, msg_start, len(result))\n",
            "/usr/local/lib/python3.7/dist-packages/sklearn/metrics/_classification.py:1318: UndefinedMetricWarning: Precision and F-score are ill-defined and being set to 0.0 in labels with no predicted samples. Use `zero_division` parameter to control this behavior.\n",
            "  _warn_prf(average, modifier, msg_start, len(result))\n",
            "/usr/local/lib/python3.7/dist-packages/sklearn/metrics/_classification.py:1318: UndefinedMetricWarning: Precision and F-score are ill-defined and being set to 0.0 in labels with no predicted samples. Use `zero_division` parameter to control this behavior.\n",
            "  _warn_prf(average, modifier, msg_start, len(result))\n"
          ]
        }
      ]
    },
    {
      "cell_type": "code",
      "source": [
        "cm_plot = metrics.ConfusionMatrixDisplay.from_predictions(y_bool, y_pred_bool).plot()"
      ],
      "metadata": {
        "colab": {
          "base_uri": "https://localhost:8080/",
          "height": 541
        },
        "id": "93WN5mcFHKXh",
        "outputId": "a5dc321c-6ba5-45ac-d991-c161ef2300d3"
      },
      "execution_count": null,
      "outputs": [
        {
          "output_type": "display_data",
          "data": {
            "text/plain": [
              "<Figure size 432x288 with 2 Axes>"
            ],
            "image/png": "[encoded data removed]"
          },
          "metadata": {
            "needs_background": "light"
          }
        },
        {
          "output_type": "display_data",
          "data": {
            "text/plain": [
              "<Figure size 432x288 with 2 Axes>"
            ],
            "image/png": "[encoded data removed]"
          },
          "metadata": {
            "needs_background": "light"
          }
        }
      ]
    },
    {
      "cell_type": "code",
      "source": [
        "from sklearn.utils.class_weight import compute_class_weight\n",
        "class_weights = compute_class_weight(class_weight = 'balanced', classes = np.unique(y_bool),y =  y_bool)\n",
        "d_class_weights = dict(enumerate(class_weights))"
      ],
      "metadata": {
        "id": "-ChUuRu3AGrd"
      },
      "execution_count": null,
      "outputs": []
    },
    {
      "cell_type": "code",
      "source": [
        "# data normalization on train features\n",
        "mean = train_features.mean(axis=0)\n",
        "train_features -= mean \n",
        "std = train_features.std(axis=0)\n",
        "train_features /= std"
      ],
      "metadata": {
        "id": "vl6piM2sCLWg"
      },
      "execution_count": null,
      "outputs": []
    },
    {
      "cell_type": "code",
      "source": [
        "test_features -=mean\n",
        "test_features /=std\n",
        "test_features[1]"
      ],
      "metadata": {
        "colab": {
          "base_uri": "https://localhost:8080/"
        },
        "id": "xBRBhSQaCxs-",
        "outputId": "5d8d8cfd-2777-4a41-bb89-5f7db3980fcf"
      },
      "execution_count": null,
      "outputs": [
        {
          "output_type": "execute_result",
          "data": {
            "text/plain": [
              "array([-0.50859499, -0.5445843 ,  0.1442745 , -0.84256401, -0.03636087])"
            ]
          },
          "metadata": {},
          "execution_count": 88
        }
      ]
    },
    {
      "cell_type": "code",
      "source": [
        "val_features -=mean\n",
        "val_features /=std\n",
        "val_features[1]"
      ],
      "metadata": {
        "colab": {
          "base_uri": "https://localhost:8080/"
        },
        "id": "slYXWGy-C29I",
        "outputId": "8c4236d5-74cf-48a0-fa9e-39af1c5cf7bb"
      },
      "execution_count": null,
      "outputs": [
        {
          "output_type": "execute_result",
          "data": {
            "text/plain": [
              "array([-0.23556299, -0.81535884, -1.23873739, -1.08438084,  0.43159055])"
            ]
          },
          "metadata": {},
          "execution_count": 87
        }
      ]
    },
    {
      "cell_type": "code",
      "source": [
        "from keras import models\n",
        "from keras import layers\n",
        "\n",
        "model = models.Sequential()\n",
        "\n",
        "model.add(layers.Dense(5, activation = 'relu'))\n",
        "model.add(layers.Dense(61, activation= 'relu'))\n",
        "model.add(layers.Dense(15, activation = 'softmax'))"
      ],
      "metadata": {
        "id": "JuuBlI7eC-TA"
      },
      "execution_count": null,
      "outputs": []
    },
    {
      "cell_type": "code",
      "source": [
        "# compile the model with optimizer and loss function\n",
        "model.compile(optimizer = opt, loss =loss_function,metrics=['Precision','Recall','Accuracy'])"
      ],
      "metadata": {
        "id": "vPrSznlLDHl7"
      },
      "execution_count": null,
      "outputs": []
    },
    {
      "cell_type": "code",
      "source": [
        "history8 = model.fit(train_features,one_hot_train_labels,epochs=20, batch_size=64, \n",
        "                     validation_data=(val_features, one_hot_val_labels), class_weight = d_class_weights)\n",
        "\n"
      ],
      "metadata": {
        "colab": {
          "base_uri": "https://localhost:8080/"
        },
        "id": "L8lSSsNpDTvd",
        "outputId": "b1efde43-25d6-41c7-a85d-0ae517f1ae8f"
      },
      "execution_count": null,
      "outputs": [
        {
          "output_type": "stream",
          "name": "stdout",
          "text": [
            "Epoch 1/20\n",
            "746/746 [==============================] - 8s 8ms/step - loss: 0.9012 - precision: 0.7426 - recall: 0.5257 - Accuracy: 0.6453 - val_loss: 0.6713 - val_precision: 0.7895 - val_recall: 0.6927 - val_Accuracy: 0.7493\n",
            "Epoch 2/20\n",
            "746/746 [==============================] - 5s 7ms/step - loss: 0.5700 - precision: 0.8105 - recall: 0.7341 - Accuracy: 0.7767 - val_loss: 0.5791 - val_precision: 0.8116 - val_recall: 0.7502 - val_Accuracy: 0.7809\n",
            "Epoch 3/20\n",
            "746/746 [==============================] - 5s 6ms/step - loss: 0.5212 - precision: 0.8178 - recall: 0.7648 - Accuracy: 0.7926 - val_loss: 0.5447 - val_precision: 0.8182 - val_recall: 0.7699 - val_Accuracy: 0.7944\n",
            "Epoch 4/20\n",
            "746/746 [==============================] - 5s 7ms/step - loss: 0.5029 - precision: 0.8205 - recall: 0.7747 - Accuracy: 0.7978 - val_loss: 0.5086 - val_precision: 0.8222 - val_recall: 0.7798 - val_Accuracy: 0.8015\n",
            "Epoch 5/20\n",
            "746/746 [==============================] - 5s 7ms/step - loss: 0.4895 - precision: 0.8235 - recall: 0.7836 - Accuracy: 0.8041 - val_loss: 0.5118 - val_precision: 0.8202 - val_recall: 0.7759 - val_Accuracy: 0.7980\n",
            "Epoch 6/20\n",
            "746/746 [==============================] - 7s 9ms/step - loss: 0.4821 - precision: 0.8244 - recall: 0.7872 - Accuracy: 0.8062 - val_loss: 0.5261 - val_precision: 0.8153 - val_recall: 0.7758 - val_Accuracy: 0.7953\n",
            "Epoch 7/20\n",
            "746/746 [==============================] - 5s 6ms/step - loss: 0.4752 - precision: 0.8264 - recall: 0.7909 - Accuracy: 0.8092 - val_loss: 0.5157 - val_precision: 0.8172 - val_recall: 0.7833 - val_Accuracy: 0.7988\n",
            "Epoch 8/20\n",
            "746/746 [==============================] - 5s 6ms/step - loss: 0.4664 - precision: 0.8291 - recall: 0.7953 - Accuracy: 0.8118 - val_loss: 0.5163 - val_precision: 0.8191 - val_recall: 0.7865 - val_Accuracy: 0.8032\n",
            "Epoch 9/20\n",
            "746/746 [==============================] - 5s 7ms/step - loss: 0.4643 - precision: 0.8305 - recall: 0.7979 - Accuracy: 0.8141 - val_loss: 0.4940 - val_precision: 0.8241 - val_recall: 0.7897 - val_Accuracy: 0.8071\n",
            "Epoch 10/20\n",
            "746/746 [==============================] - 2s 3ms/step - loss: 0.4600 - precision: 0.8314 - recall: 0.8000 - Accuracy: 0.8160 - val_loss: 0.5030 - val_precision: 0.8185 - val_recall: 0.7904 - val_Accuracy: 0.8048\n",
            "Epoch 11/20\n",
            "746/746 [==============================] - 3s 4ms/step - loss: 0.4555 - precision: 0.8317 - recall: 0.8025 - Accuracy: 0.8171 - val_loss: 0.4637 - val_precision: 0.8336 - val_recall: 0.8022 - val_Accuracy: 0.8180\n",
            "Epoch 12/20\n",
            "746/746 [==============================] - 2s 3ms/step - loss: 0.4514 - precision: 0.8341 - recall: 0.8039 - Accuracy: 0.8181 - val_loss: 0.4857 - val_precision: 0.8260 - val_recall: 0.8012 - val_Accuracy: 0.8121\n",
            "Epoch 13/20\n",
            "746/746 [==============================] - 3s 4ms/step - loss: 0.4511 - precision: 0.8326 - recall: 0.8050 - Accuracy: 0.8184 - val_loss: 0.4686 - val_precision: 0.8314 - val_recall: 0.8069 - val_Accuracy: 0.8188\n",
            "Epoch 14/20\n",
            "746/746 [==============================] - 3s 4ms/step - loss: 0.4455 - precision: 0.8339 - recall: 0.8056 - Accuracy: 0.8200 - val_loss: 0.4618 - val_precision: 0.8346 - val_recall: 0.8065 - val_Accuracy: 0.8204\n",
            "Epoch 15/20\n",
            "746/746 [==============================] - 3s 4ms/step - loss: 0.4445 - precision: 0.8338 - recall: 0.8068 - Accuracy: 0.8205 - val_loss: 0.4796 - val_precision: 0.8285 - val_recall: 0.8017 - val_Accuracy: 0.8143\n",
            "Epoch 16/20\n",
            "746/746 [==============================] - 2s 3ms/step - loss: 0.4417 - precision: 0.8345 - recall: 0.8086 - Accuracy: 0.8215 - val_loss: 0.4746 - val_precision: 0.8286 - val_recall: 0.8031 - val_Accuracy: 0.8149\n",
            "Epoch 17/20\n",
            "746/746 [==============================] - 2s 3ms/step - loss: 0.4403 - precision: 0.8361 - recall: 0.8100 - Accuracy: 0.8233 - val_loss: 0.4732 - val_precision: 0.8279 - val_recall: 0.8026 - val_Accuracy: 0.8142\n",
            "Epoch 18/20\n",
            "746/746 [==============================] - 2s 3ms/step - loss: 0.4391 - precision: 0.8355 - recall: 0.8094 - Accuracy: 0.8225 - val_loss: 0.4743 - val_precision: 0.8208 - val_recall: 0.7974 - val_Accuracy: 0.8089\n",
            "Epoch 19/20\n",
            "746/746 [==============================] - 3s 3ms/step - loss: 0.4404 - precision: 0.8352 - recall: 0.8097 - Accuracy: 0.8225 - val_loss: 0.4696 - val_precision: 0.8278 - val_recall: 0.8027 - val_Accuracy: 0.8154\n",
            "Epoch 20/20\n",
            "746/746 [==============================] - 2s 3ms/step - loss: 0.4372 - precision: 0.8369 - recall: 0.8118 - Accuracy: 0.8238 - val_loss: 0.4707 - val_precision: 0.8283 - val_recall: 0.8050 - val_Accuracy: 0.8162\n"
          ]
        }
      ]
    },
    {
      "cell_type": "code",
      "source": [
        "history8 = model.fit(train_features,one_hot_train_labels,epochs=20, batch_size=64, \n",
        "                     validation_data=(val_features, one_hot_val_labels), class_weight = d_class_weights)\n",
        "\n",
        "\n"
      ],
      "metadata": {
        "colab": {
          "base_uri": "https://localhost:8080/"
        },
        "id": "B--iLPP_D-9q",
        "outputId": "30989ee1-67b4-4882-d7ca-a40b1382cd8c"
      },
      "execution_count": null,
      "outputs": [
        {
          "output_type": "stream",
          "name": "stdout",
          "text": [
            "Epoch 1/20\n",
            "746/746 [==============================] - 2s 3ms/step - loss: 0.4343 - precision: 0.8366 - recall: 0.8112 - Accuracy: 0.8240 - val_loss: 0.4477 - val_precision: 0.8343 - val_recall: 0.8106 - val_Accuracy: 0.8235\n",
            "Epoch 2/20\n",
            "746/746 [==============================] - 3s 3ms/step - loss: 0.4356 - precision: 0.8358 - recall: 0.8124 - Accuracy: 0.8239 - val_loss: 0.4646 - val_precision: 0.8289 - val_recall: 0.8048 - val_Accuracy: 0.8182\n",
            "Epoch 3/20\n",
            "746/746 [==============================] - 3s 4ms/step - loss: 0.4349 - precision: 0.8353 - recall: 0.8109 - Accuracy: 0.8224 - val_loss: 0.4919 - val_precision: 0.8216 - val_recall: 0.7995 - val_Accuracy: 0.8099\n",
            "Epoch 4/20\n",
            "746/746 [==============================] - 2s 3ms/step - loss: 0.4315 - precision: 0.8359 - recall: 0.8121 - Accuracy: 0.8241 - val_loss: 0.4496 - val_precision: 0.8327 - val_recall: 0.8102 - val_Accuracy: 0.8213\n",
            "Epoch 5/20\n",
            "746/746 [==============================] - 2s 3ms/step - loss: 0.4320 - precision: 0.8372 - recall: 0.8134 - Accuracy: 0.8249 - val_loss: 0.4592 - val_precision: 0.8273 - val_recall: 0.8052 - val_Accuracy: 0.8163\n",
            "Epoch 6/20\n",
            "746/746 [==============================] - 3s 4ms/step - loss: 0.4303 - precision: 0.8356 - recall: 0.8123 - Accuracy: 0.8234 - val_loss: 0.4445 - val_precision: 0.8338 - val_recall: 0.8137 - val_Accuracy: 0.8244\n",
            "Epoch 7/20\n",
            "746/746 [==============================] - 3s 4ms/step - loss: 0.4290 - precision: 0.8379 - recall: 0.8141 - Accuracy: 0.8257 - val_loss: 0.4527 - val_precision: 0.8290 - val_recall: 0.8073 - val_Accuracy: 0.8198\n",
            "Epoch 8/20\n",
            "746/746 [==============================] - 3s 4ms/step - loss: 0.4265 - precision: 0.8373 - recall: 0.8141 - Accuracy: 0.8251 - val_loss: 0.4691 - val_precision: 0.8255 - val_recall: 0.8021 - val_Accuracy: 0.8127\n",
            "Epoch 9/20\n",
            "746/746 [==============================] - 3s 3ms/step - loss: 0.4267 - precision: 0.8368 - recall: 0.8135 - Accuracy: 0.8248 - val_loss: 0.4721 - val_precision: 0.8282 - val_recall: 0.8074 - val_Accuracy: 0.8173\n",
            "Epoch 10/20\n",
            "746/746 [==============================] - 3s 3ms/step - loss: 0.4297 - precision: 0.8364 - recall: 0.8143 - Accuracy: 0.8252 - val_loss: 0.4529 - val_precision: 0.8302 - val_recall: 0.8072 - val_Accuracy: 0.8188\n",
            "Epoch 11/20\n",
            "746/746 [==============================] - 3s 4ms/step - loss: 0.4264 - precision: 0.8369 - recall: 0.8136 - Accuracy: 0.8244 - val_loss: 0.4368 - val_precision: 0.8352 - val_recall: 0.8157 - val_Accuracy: 0.8263\n",
            "Epoch 12/20\n",
            "746/746 [==============================] - 3s 4ms/step - loss: 0.4264 - precision: 0.8382 - recall: 0.8157 - Accuracy: 0.8267 - val_loss: 0.4471 - val_precision: 0.8338 - val_recall: 0.8099 - val_Accuracy: 0.8225\n",
            "Epoch 13/20\n",
            "746/746 [==============================] - 3s 3ms/step - loss: 0.4263 - precision: 0.8378 - recall: 0.8155 - Accuracy: 0.8257 - val_loss: 0.4470 - val_precision: 0.8318 - val_recall: 0.8086 - val_Accuracy: 0.8187\n",
            "Epoch 14/20\n",
            "746/746 [==============================] - 5s 7ms/step - loss: 0.4270 - precision: 0.8369 - recall: 0.8151 - Accuracy: 0.8258 - val_loss: 0.4339 - val_precision: 0.8375 - val_recall: 0.8148 - val_Accuracy: 0.8252\n",
            "Epoch 15/20\n",
            "746/746 [==============================] - 3s 3ms/step - loss: 0.4261 - precision: 0.8380 - recall: 0.8148 - Accuracy: 0.8258 - val_loss: 0.4512 - val_precision: 0.8317 - val_recall: 0.8131 - val_Accuracy: 0.8230\n",
            "Epoch 16/20\n",
            "746/746 [==============================] - 3s 4ms/step - loss: 0.4248 - precision: 0.8383 - recall: 0.8155 - Accuracy: 0.8267 - val_loss: 0.4354 - val_precision: 0.8373 - val_recall: 0.8071 - val_Accuracy: 0.8235\n",
            "Epoch 17/20\n",
            "746/746 [==============================] - 3s 4ms/step - loss: 0.4228 - precision: 0.8391 - recall: 0.8169 - Accuracy: 0.8273 - val_loss: 0.4668 - val_precision: 0.8220 - val_recall: 0.7995 - val_Accuracy: 0.8115\n",
            "Epoch 18/20\n",
            "746/746 [==============================] - 2s 3ms/step - loss: 0.4248 - precision: 0.8386 - recall: 0.8167 - Accuracy: 0.8267 - val_loss: 0.4405 - val_precision: 0.8347 - val_recall: 0.8138 - val_Accuracy: 0.8235\n",
            "Epoch 19/20\n",
            "746/746 [==============================] - 2s 3ms/step - loss: 0.4237 - precision: 0.8368 - recall: 0.8152 - Accuracy: 0.8248 - val_loss: 0.4528 - val_precision: 0.8288 - val_recall: 0.8053 - val_Accuracy: 0.8181\n",
            "Epoch 20/20\n",
            "746/746 [==============================] - 3s 3ms/step - loss: 0.4221 - precision: 0.8394 - recall: 0.8179 - Accuracy: 0.8285 - val_loss: 0.4687 - val_precision: 0.8249 - val_recall: 0.8058 - val_Accuracy: 0.8141\n"
          ]
        }
      ]
    },
    {
      "cell_type": "code",
      "source": [
        "from keras import models\n",
        "from keras import layers\n",
        "\n",
        "model5 = models.Sequential()\n",
        "\n",
        "model5.add(layers.Dense(5, activation = 'relu'))\n",
        "model5.add(layers.Dense(61, activation= 'relu'))\n",
        "model5.add(layers.Dense(15, activation = 'softmax'))"
      ],
      "metadata": {
        "id": "ykQlSSMHEOU7"
      },
      "execution_count": null,
      "outputs": []
    },
    {
      "cell_type": "code",
      "source": [
        "opti = tf.keras.optimizers.RMSprop(learning_rate=0.0032411795457051255)\n",
        "\n",
        "model5.compile(optimizer = opti, loss =loss_function,metrics=['Precision','Recall','Accuracy'])"
      ],
      "metadata": {
        "id": "jJwR_iasEcPA"
      },
      "execution_count": null,
      "outputs": []
    },
    {
      "cell_type": "code",
      "source": [
        "history5 = model5.fit(train_features,one_hot_train_labels,epochs=20, batch_size=64, \n",
        "                     validation_data=(val_features, one_hot_val_labels), class_weight = d_class_weights)\n",
        "\n"
      ],
      "metadata": {
        "colab": {
          "base_uri": "https://localhost:8080/"
        },
        "id": "dSsk5WsHEngq",
        "outputId": "716e3dd2-c37a-4bf6-b123-3626fc392a18"
      },
      "execution_count": null,
      "outputs": [
        {
          "output_type": "stream",
          "name": "stdout",
          "text": [
            "Epoch 1/20\n",
            "746/746 [==============================] - 9s 9ms/step - loss: 1.2972 - precision: 0.6465 - recall: 0.2399 - Accuracy: 0.4592 - val_loss: 1.1457 - val_precision: 0.6343 - val_recall: 0.3972 - val_Accuracy: 0.5390\n",
            "Epoch 2/20\n",
            "746/746 [==============================] - 3s 4ms/step - loss: 0.9514 - precision: 0.6405 - recall: 0.4325 - Accuracy: 0.5553 - val_loss: 1.0574 - val_precision: 0.6433 - val_recall: 0.4634 - val_Accuracy: 0.5693\n",
            "Epoch 3/20\n",
            "746/746 [==============================] - 3s 3ms/step - loss: 0.8836 - precision: 0.6456 - recall: 0.4772 - Accuracy: 0.5808 - val_loss: 1.0548 - val_precision: 0.6286 - val_recall: 0.4759 - val_Accuracy: 0.5745\n",
            "Epoch 4/20\n",
            "746/746 [==============================] - 2s 3ms/step - loss: 0.8486 - precision: 0.6484 - recall: 0.5022 - Accuracy: 0.5923 - val_loss: 0.9950 - val_precision: 0.6566 - val_recall: 0.5090 - val_Accuracy: 0.5999\n",
            "Epoch 5/20\n",
            "746/746 [==============================] - 2s 3ms/step - loss: 0.8253 - precision: 0.6515 - recall: 0.5165 - Accuracy: 0.5966 - val_loss: 0.9676 - val_precision: 0.6678 - val_recall: 0.5304 - val_Accuracy: 0.6089\n",
            "Epoch 6/20\n",
            "746/746 [==============================] - 3s 3ms/step - loss: 0.8087 - precision: 0.6541 - recall: 0.5284 - Accuracy: 0.6025 - val_loss: 0.9571 - val_precision: 0.6531 - val_recall: 0.5338 - val_Accuracy: 0.6058\n",
            "Epoch 7/20\n",
            "746/746 [==============================] - 2s 3ms/step - loss: 0.8015 - precision: 0.6545 - recall: 0.5346 - Accuracy: 0.6035 - val_loss: 0.9305 - val_precision: 0.6581 - val_recall: 0.5411 - val_Accuracy: 0.6109\n",
            "Epoch 8/20\n",
            "746/746 [==============================] - 2s 3ms/step - loss: 0.7923 - precision: 0.6526 - recall: 0.5398 - Accuracy: 0.6032 - val_loss: 0.9715 - val_precision: 0.6419 - val_recall: 0.5437 - val_Accuracy: 0.5980\n",
            "Epoch 9/20\n",
            "746/746 [==============================] - 2s 3ms/step - loss: 0.7804 - precision: 0.6498 - recall: 0.5430 - Accuracy: 0.6037 - val_loss: 0.9642 - val_precision: 0.6435 - val_recall: 0.5501 - val_Accuracy: 0.6031\n",
            "Epoch 10/20\n",
            "746/746 [==============================] - 2s 3ms/step - loss: 0.7720 - precision: 0.6489 - recall: 0.5475 - Accuracy: 0.6062 - val_loss: 0.9639 - val_precision: 0.6355 - val_recall: 0.5373 - val_Accuracy: 0.5925\n",
            "Epoch 11/20\n",
            "746/746 [==============================] - 3s 3ms/step - loss: 0.7410 - precision: 0.6556 - recall: 0.5597 - Accuracy: 0.6133 - val_loss: 0.9048 - val_precision: 0.6562 - val_recall: 0.5597 - val_Accuracy: 0.6122\n",
            "Epoch 12/20\n",
            "746/746 [==============================] - 2s 3ms/step - loss: 0.6668 - precision: 0.6714 - recall: 0.5789 - Accuracy: 0.6302 - val_loss: 0.8333 - val_precision: 0.6628 - val_recall: 0.5733 - val_Accuracy: 0.6246\n",
            "Epoch 13/20\n",
            "746/746 [==============================] - 3s 4ms/step - loss: 0.6098 - precision: 0.6831 - recall: 0.5997 - Accuracy: 0.6473 - val_loss: 0.7279 - val_precision: 0.7032 - val_recall: 0.6236 - val_Accuracy: 0.6678\n",
            "Epoch 14/20\n",
            "746/746 [==============================] - 2s 3ms/step - loss: 0.5832 - precision: 0.6872 - recall: 0.6134 - Accuracy: 0.6544 - val_loss: 0.7193 - val_precision: 0.6907 - val_recall: 0.6165 - val_Accuracy: 0.6590\n",
            "Epoch 15/20\n",
            "746/746 [==============================] - 2s 3ms/step - loss: 0.5700 - precision: 0.6848 - recall: 0.6173 - Accuracy: 0.6553 - val_loss: 0.7023 - val_precision: 0.7020 - val_recall: 0.6384 - val_Accuracy: 0.6726\n",
            "Epoch 16/20\n",
            "746/746 [==============================] - 2s 3ms/step - loss: 0.5671 - precision: 0.6838 - recall: 0.6203 - Accuracy: 0.6557 - val_loss: 0.6848 - val_precision: 0.7030 - val_recall: 0.6333 - val_Accuracy: 0.6752\n",
            "Epoch 17/20\n",
            "746/746 [==============================] - 2s 3ms/step - loss: 0.5599 - precision: 0.6851 - recall: 0.6259 - Accuracy: 0.6589 - val_loss: 0.6809 - val_precision: 0.7079 - val_recall: 0.6372 - val_Accuracy: 0.6775\n",
            "Epoch 18/20\n",
            "746/746 [==============================] - 3s 4ms/step - loss: 0.5528 - precision: 0.6851 - recall: 0.6278 - Accuracy: 0.6593 - val_loss: 0.7443 - val_precision: 0.6786 - val_recall: 0.6241 - val_Accuracy: 0.6553\n",
            "Epoch 19/20\n",
            "746/746 [==============================] - 2s 3ms/step - loss: 0.5512 - precision: 0.6820 - recall: 0.6279 - Accuracy: 0.6585 - val_loss: 0.7025 - val_precision: 0.6864 - val_recall: 0.6294 - val_Accuracy: 0.6593\n",
            "Epoch 20/20\n",
            "746/746 [==============================] - 3s 4ms/step - loss: 0.5485 - precision: 0.6846 - recall: 0.6317 - Accuracy: 0.6613 - val_loss: 0.6372 - val_precision: 0.7171 - val_recall: 0.6573 - val_Accuracy: 0.6914\n"
          ]
        }
      ]
    },
    {
      "cell_type": "code",
      "source": [
        "from sklearn.metrics import classification_report\n",
        "\n",
        "y_pred = model5.predict(train_features, batch_size=64, verbose=1)\n",
        "y_pred_bool = np.argmax(y_pred, axis=1)\n",
        "\n",
        "y_bool = np.argmax(one_hot_train_labels,axis = 1)\n",
        "\n",
        "print(classification_report(y_bool, y_pred_bool))"
      ],
      "metadata": {
        "colab": {
          "base_uri": "https://localhost:8080/"
        },
        "id": "ub4yF3auFUZ4",
        "outputId": "1324257b-a57c-4343-b1fd-6730c9837f1e"
      },
      "execution_count": null,
      "outputs": [
        {
          "output_type": "stream",
          "name": "stdout",
          "text": [
            "746/746 [==============================] - 2s 3ms/step\n",
            "              precision    recall  f1-score   support\n",
            "\n",
            "           0       0.81      0.83      0.82       636\n",
            "           1       0.88      0.65      0.75       950\n",
            "           2       0.73      0.88      0.80      1402\n",
            "           3       0.74      0.83      0.78      3042\n",
            "           4       0.75      0.80      0.78      4291\n",
            "           5       0.80      0.76      0.78      6901\n",
            "           6       0.36      0.56      0.44       666\n",
            "           7       0.30      0.88      0.44       894\n",
            "           8       0.30      0.84      0.45      1433\n",
            "           9       0.66      0.92      0.77      1655\n",
            "          10       0.63      0.90      0.74      2161\n",
            "          11       0.72      0.85      0.78      3601\n",
            "          12       0.79      0.57      0.66      4458\n",
            "          13       0.85      0.42      0.56      5925\n",
            "          14       0.80      0.54      0.65      9677\n",
            "\n",
            "    accuracy                           0.69     47692\n",
            "   macro avg       0.67      0.75      0.68     47692\n",
            "weighted avg       0.75      0.69      0.69     47692\n",
            "\n"
          ]
        }
      ]
    },
    {
      "cell_type": "code",
      "source": [
        "cm_plot = metrics.ConfusionMatrixDisplay.from_predictions(y_bool, y_pred_bool).plot()"
      ],
      "metadata": {
        "colab": {
          "base_uri": "https://localhost:8080/",
          "height": 541
        },
        "id": "oG2B-HsWFdlo",
        "outputId": "3f5335dd-b8c1-47cd-923c-777cec1a8757"
      },
      "execution_count": null,
      "outputs": [
        {
          "output_type": "display_data",
          "data": {
            "text/plain": [
              "<Figure size 432x288 with 2 Axes>"
            ],
            "image/png": "[encoded data removed]"
          },
          "metadata": {
            "needs_background": "light"
          }
        },
        {
          "output_type": "display_data",
          "data": {
            "text/plain": [
              "<Figure size 432x288 with 2 Axes>"
            ],
            "image/png": "[encoded data removed]"
          },
          "metadata": {
            "needs_background": "light"
          }
        }
      ]
    },
    {
      "cell_type": "code",
      "source": [
        "test_predictions_baseline = model.predict(test_features, batch_size = 64)"
      ],
      "metadata": {
        "id": "AupD3h4uGJYj"
      },
      "execution_count": null,
      "outputs": []
    },
    {
      "cell_type": "code",
      "source": [
        "test_pred = np.argmax(test_predictions_baseline, axis= 1)\n",
        "test = np.argmax(one_hot_test_labels, axis = 1)"
      ],
      "metadata": {
        "id": "KnrQ8AuKGBPA"
      },
      "execution_count": null,
      "outputs": []
    },
    {
      "cell_type": "code",
      "source": [
        "baseline_results = model.evaluate(test_features, one_hot_test_labels,\n",
        "                                  batch_size=64, verbose=0)\n",
        "for name, value in zip(model.metrics_names, baseline_results):\n",
        "  print(name, ': ', value)\n",
        "print()\n"
      ],
      "metadata": {
        "colab": {
          "base_uri": "https://localhost:8080/"
        },
        "id": "YUIZCKEqGYgp",
        "outputId": "e799e215-929e-4895-e63f-166268412c79"
      },
      "execution_count": null,
      "outputs": [
        {
          "output_type": "stream",
          "name": "stdout",
          "text": [
            "loss :  0.47406071424484253\n",
            "precision :  0.8312615752220154\n",
            "recall :  0.8121309876441956\n",
            "Accuracy :  0.8213231563568115\n",
            "\n"
          ]
        }
      ]
    },
    {
      "cell_type": "code",
      "source": [
        "from sklearn import metrics\n",
        "\n",
        "cm_plot = metrics.ConfusionMatrixDisplay.from_predictions(test, test_pred).plot()"
      ],
      "metadata": {
        "colab": {
          "base_uri": "https://localhost:8080/",
          "height": 541
        },
        "id": "RbG1tRYmGgvC",
        "outputId": "0ba769c7-ed39-4b95-91dd-666112eb0f27"
      },
      "execution_count": null,
      "outputs": [
        {
          "output_type": "display_data",
          "data": {
            "text/plain": [
              "<Figure size 432x288 with 2 Axes>"
            ],
            "image/png": "[encoded data removed]"
          },
          "metadata": {
            "needs_background": "light"
          }
        },
        {
          "output_type": "display_data",
          "data": {
            "text/plain": [
              "<Figure size 432x288 with 2 Axes>"
            ],
            "image/png": "[encoded data removed]"
          },
          "metadata": {
            "needs_background": "light"
          }
        }
      ]
    },
    {
      "cell_type": "code",
      "source": [
        ""
      ],
      "metadata": {
        "id": "5jV1q3ziGp9P"
      },
      "execution_count": null,
      "outputs": []
    }
  ]
}